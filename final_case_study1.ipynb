{
 "cells": [
  {
   "cell_type": "markdown",
   "metadata": {},
   "source": [
    "1.no feature selction done \n",
    "2.no outlier  treatment\n"
   ]
  },
  {
   "cell_type": "code",
   "execution_count": 1,
   "metadata": {},
   "outputs": [],
   "source": [
    "import pandas as pd\n",
    "import numpy as np\n",
    "%matplotlib inline\n",
    "import matplotlib \n",
    "matplotlib.rcParams[\"figure.figsize\"] = (20,10)\n"
   ]
  },
  {
   "cell_type": "code",
   "execution_count": 2,
   "metadata": {},
   "outputs": [
    {
     "name": "stderr",
     "output_type": "stream",
     "text": [
      "E:\\programs\\lib\\site-packages\\IPython\\core\\interactiveshell.py:3254: DtypeWarning: Columns (2,19,21,49,85,86,100) have mixed types.Specify dtype option on import or set low_memory=False.\n",
      "  if (await self.run_code(code, result,  async_=asy)):\n"
     ]
    }
   ],
   "source": [
    "df=pd.read_clipboard()"
   ]
  },
  {
   "cell_type": "code",
   "execution_count": 3,
   "metadata": {},
   "outputs": [
    {
     "data": {
      "text/html": [
       "<div>\n",
       "<style scoped>\n",
       "    .dataframe tbody tr th:only-of-type {\n",
       "        vertical-align: middle;\n",
       "    }\n",
       "\n",
       "    .dataframe tbody tr th {\n",
       "        vertical-align: top;\n",
       "    }\n",
       "\n",
       "    .dataframe thead th {\n",
       "        text-align: right;\n",
       "    }\n",
       "</style>\n",
       "<table border=\"1\" class=\"dataframe\">\n",
       "  <thead>\n",
       "    <tr style=\"text-align: right;\">\n",
       "      <th></th>\n",
       "      <th>custid</th>\n",
       "      <th>region</th>\n",
       "      <th>townsize</th>\n",
       "      <th>gender</th>\n",
       "      <th>age</th>\n",
       "      <th>agecat</th>\n",
       "      <th>birthmonth</th>\n",
       "      <th>ed</th>\n",
       "      <th>edcat</th>\n",
       "      <th>jobcat</th>\n",
       "      <th>...</th>\n",
       "      <th>owncd</th>\n",
       "      <th>ownpda</th>\n",
       "      <th>ownpc</th>\n",
       "      <th>ownipod</th>\n",
       "      <th>owngame</th>\n",
       "      <th>ownfax</th>\n",
       "      <th>news</th>\n",
       "      <th>response_01</th>\n",
       "      <th>response_02</th>\n",
       "      <th>response_03</th>\n",
       "    </tr>\n",
       "  </thead>\n",
       "  <tbody>\n",
       "    <tr>\n",
       "      <th>0</th>\n",
       "      <td>3964-QJWTRG-NPN</td>\n",
       "      <td>1.0</td>\n",
       "      <td>2.00</td>\n",
       "      <td>1.0</td>\n",
       "      <td>20.0</td>\n",
       "      <td>2.0</td>\n",
       "      <td>September</td>\n",
       "      <td>15.0</td>\n",
       "      <td>3.0</td>\n",
       "      <td>1.0</td>\n",
       "      <td>...</td>\n",
       "      <td>0.0</td>\n",
       "      <td>0.0</td>\n",
       "      <td>0.0</td>\n",
       "      <td>1.0</td>\n",
       "      <td>1.0</td>\n",
       "      <td>0.0</td>\n",
       "      <td>0.0</td>\n",
       "      <td>0.0</td>\n",
       "      <td>1.0</td>\n",
       "      <td>0.0</td>\n",
       "    </tr>\n",
       "    <tr>\n",
       "      <th>1</th>\n",
       "      <td>0648-AIPJSP-UVM</td>\n",
       "      <td>5.0</td>\n",
       "      <td>5.00</td>\n",
       "      <td>0.0</td>\n",
       "      <td>22.0</td>\n",
       "      <td>2.0</td>\n",
       "      <td>May</td>\n",
       "      <td>17.0</td>\n",
       "      <td>4.0</td>\n",
       "      <td>2.0</td>\n",
       "      <td>...</td>\n",
       "      <td>1.0</td>\n",
       "      <td>1.0</td>\n",
       "      <td>1.0</td>\n",
       "      <td>1.0</td>\n",
       "      <td>1.0</td>\n",
       "      <td>1.0</td>\n",
       "      <td>1.0</td>\n",
       "      <td>0.0</td>\n",
       "      <td>0.0</td>\n",
       "      <td>0.0</td>\n",
       "    </tr>\n",
       "    <tr>\n",
       "      <th>2</th>\n",
       "      <td>5195-TLUDJE-HVO</td>\n",
       "      <td>3.0</td>\n",
       "      <td>4.00</td>\n",
       "      <td>1.0</td>\n",
       "      <td>67.0</td>\n",
       "      <td>6.0</td>\n",
       "      <td>June</td>\n",
       "      <td>14.0</td>\n",
       "      <td>2.0</td>\n",
       "      <td>2.0</td>\n",
       "      <td>...</td>\n",
       "      <td>1.0</td>\n",
       "      <td>0.0</td>\n",
       "      <td>0.0</td>\n",
       "      <td>0.0</td>\n",
       "      <td>0.0</td>\n",
       "      <td>0.0</td>\n",
       "      <td>1.0</td>\n",
       "      <td>0.0</td>\n",
       "      <td>0.0</td>\n",
       "      <td>0.0</td>\n",
       "    </tr>\n",
       "    <tr>\n",
       "      <th>3</th>\n",
       "      <td>4459-VLPQUH-3OL</td>\n",
       "      <td>4.0</td>\n",
       "      <td>3.00</td>\n",
       "      <td>0.0</td>\n",
       "      <td>23.0</td>\n",
       "      <td>2.0</td>\n",
       "      <td>May</td>\n",
       "      <td>16.0</td>\n",
       "      <td>3.0</td>\n",
       "      <td>2.0</td>\n",
       "      <td>...</td>\n",
       "      <td>1.0</td>\n",
       "      <td>0.0</td>\n",
       "      <td>1.0</td>\n",
       "      <td>1.0</td>\n",
       "      <td>1.0</td>\n",
       "      <td>0.0</td>\n",
       "      <td>1.0</td>\n",
       "      <td>1.0</td>\n",
       "      <td>0.0</td>\n",
       "      <td>0.0</td>\n",
       "    </tr>\n",
       "    <tr>\n",
       "      <th>4</th>\n",
       "      <td>8158-SMTQFB-CNO</td>\n",
       "      <td>2.0</td>\n",
       "      <td>2.00</td>\n",
       "      <td>0.0</td>\n",
       "      <td>26.0</td>\n",
       "      <td>3.0</td>\n",
       "      <td>July</td>\n",
       "      <td>16.0</td>\n",
       "      <td>3.0</td>\n",
       "      <td>2.0</td>\n",
       "      <td>...</td>\n",
       "      <td>1.0</td>\n",
       "      <td>0.0</td>\n",
       "      <td>1.0</td>\n",
       "      <td>0.0</td>\n",
       "      <td>1.0</td>\n",
       "      <td>0.0</td>\n",
       "      <td>0.0</td>\n",
       "      <td>0.0</td>\n",
       "      <td>1.0</td>\n",
       "      <td>0.0</td>\n",
       "    </tr>\n",
       "  </tbody>\n",
       "</table>\n",
       "<p>5 rows × 130 columns</p>\n",
       "</div>"
      ],
      "text/plain": [
       "            custid  region townsize  gender   age  agecat birthmonth    ed  \\\n",
       "0  3964-QJWTRG-NPN     1.0     2.00     1.0  20.0     2.0  September  15.0   \n",
       "1  0648-AIPJSP-UVM     5.0     5.00     0.0  22.0     2.0        May  17.0   \n",
       "2  5195-TLUDJE-HVO     3.0     4.00     1.0  67.0     6.0       June  14.0   \n",
       "3  4459-VLPQUH-3OL     4.0     3.00     0.0  23.0     2.0        May  16.0   \n",
       "4  8158-SMTQFB-CNO     2.0     2.00     0.0  26.0     3.0       July  16.0   \n",
       "\n",
       "   edcat  jobcat  ...  owncd  ownpda  ownpc  ownipod  owngame  ownfax  news  \\\n",
       "0    3.0     1.0  ...    0.0     0.0    0.0      1.0      1.0     0.0   0.0   \n",
       "1    4.0     2.0  ...    1.0     1.0    1.0      1.0      1.0     1.0   1.0   \n",
       "2    2.0     2.0  ...    1.0     0.0    0.0      0.0      0.0     0.0   1.0   \n",
       "3    3.0     2.0  ...    1.0     0.0    1.0      1.0      1.0     0.0   1.0   \n",
       "4    3.0     2.0  ...    1.0     0.0    1.0      0.0      1.0     0.0   0.0   \n",
       "\n",
       "   response_01  response_02 response_03  \n",
       "0          0.0          1.0         0.0  \n",
       "1          0.0          0.0         0.0  \n",
       "2          0.0          0.0         0.0  \n",
       "3          1.0          0.0         0.0  \n",
       "4          0.0          1.0         0.0  \n",
       "\n",
       "[5 rows x 130 columns]"
      ]
     },
     "execution_count": 3,
     "metadata": {},
     "output_type": "execute_result"
    }
   ],
   "source": [
    "df.head()"
   ]
  },
  {
   "cell_type": "code",
   "execution_count": 4,
   "metadata": {},
   "outputs": [],
   "source": [
    "imp=['ownfax', 'ownvcr', 'active', 'voice', 'internet', 'owntv', 'tollmon', 'equipten', 'card2spent', 'equip', 'tollfree', 'cardmon', 'wireten', 'ebill', 'cardtenurecat', 'equipmon', 'wireless', 'card2benefit', 'pager', 'response_03', 'response_01', 'card2tenurecat', 'ownpc', 'owngame', 'card2type', 'card2fee', 'wiremon', 'tollten', 'cardspent', 'owncd', 'churn', 'callcard', 'multline', 'forward', 'owndvd', 'response_02', 'tenure', 'cardten', 'ownpda', 'ownipod', 'card2', 'news']"
   ]
  },
  {
   "cell_type": "code",
   "execution_count": 5,
   "metadata": {},
   "outputs": [],
   "source": [
    "ndf=df.loc[:,imp]"
   ]
  },
  {
   "cell_type": "code",
   "execution_count": 6,
   "metadata": {},
   "outputs": [],
   "source": [
    "a=['address', 'age', 'bfast', 'birthmonth', 'callid', 'callwait', 'card2tenure', 'cardtenure', 'cartype', 'commutebike', 'commutebus', 'commutecar', 'commutecarpool', 'commutecat', 'commutemotorcycle', 'commutenonmotor', 'commutepublic', 'commuterail', 'commutetime', 'commutewalk', 'confer','custid', 'ed', 'employ', 'hourstv', 'lncardmon', 'lncardten', 'lncreddebt', 'lnequipmon', 'lnequipten', 'lninc', 'lnlongmon', 'lnlongten', 'lnothdebt', 'lntollmon', 'lntollten', 'lnwiremon', 'lnwireten', 'longmon', 'longten', 'pets_birds', 'pets_cats', 'pets_dogs', 'pets_freshfish', 'pets_reptiles', 'pets_saltfish', 'pets_small', 'spoused']"
   ]
  },
  {
   "cell_type": "code",
   "execution_count": 7,
   "metadata": {},
   "outputs": [],
   "source": [
    "a=set(a)"
   ]
  },
  {
   "cell_type": "code",
   "execution_count": 8,
   "metadata": {},
   "outputs": [],
   "source": [
    "b=set(df.columns)"
   ]
  },
  {
   "cell_type": "code",
   "execution_count": 9,
   "metadata": {},
   "outputs": [],
   "source": [
    "ndf=df.loc[:,b-a]"
   ]
  },
  {
   "cell_type": "code",
   "execution_count": 10,
   "metadata": {},
   "outputs": [],
   "source": [
    "ndf['total_spend']=ndf['cardspent']+ndf['card2spent']"
   ]
  },
  {
   "cell_type": "code",
   "execution_count": 11,
   "metadata": {},
   "outputs": [],
   "source": [
    "del ndf['card2spent']"
   ]
  },
  {
   "cell_type": "code",
   "execution_count": 12,
   "metadata": {},
   "outputs": [],
   "source": [
    "del ndf['cardspent']"
   ]
  },
  {
   "cell_type": "code",
   "execution_count": 13,
   "metadata": {},
   "outputs": [],
   "source": [
    "import seaborn as sns\n",
    "import  matplotlib"
   ]
  },
  {
   "cell_type": "code",
   "execution_count": 14,
   "metadata": {},
   "outputs": [
    {
     "data": {
      "text/html": [
       "<div>\n",
       "<style scoped>\n",
       "    .dataframe tbody tr th:only-of-type {\n",
       "        vertical-align: middle;\n",
       "    }\n",
       "\n",
       "    .dataframe tbody tr th {\n",
       "        vertical-align: top;\n",
       "    }\n",
       "\n",
       "    .dataframe thead th {\n",
       "        text-align: right;\n",
       "    }\n",
       "</style>\n",
       "<table border=\"1\" class=\"dataframe\">\n",
       "  <thead>\n",
       "    <tr style=\"text-align: right;\">\n",
       "      <th></th>\n",
       "      <th>voice</th>\n",
       "      <th>news</th>\n",
       "      <th>response_01</th>\n",
       "      <th>carcatvalue</th>\n",
       "      <th>card</th>\n",
       "      <th>owndvd</th>\n",
       "      <th>cardbenefit</th>\n",
       "      <th>owngame</th>\n",
       "      <th>union</th>\n",
       "      <th>cars</th>\n",
       "      <th>...</th>\n",
       "      <th>card2tenurecat</th>\n",
       "      <th>wireless</th>\n",
       "      <th>cardtenurecat</th>\n",
       "      <th>vote</th>\n",
       "      <th>callcard</th>\n",
       "      <th>retire</th>\n",
       "      <th>othdebt</th>\n",
       "      <th>gender</th>\n",
       "      <th>polview</th>\n",
       "      <th>total_spend</th>\n",
       "    </tr>\n",
       "  </thead>\n",
       "  <tbody>\n",
       "    <tr>\n",
       "      <th>count</th>\n",
       "      <td>5000.000000</td>\n",
       "      <td>5000.000000</td>\n",
       "      <td>5000.000000</td>\n",
       "      <td>5000.000000</td>\n",
       "      <td>5000.000000</td>\n",
       "      <td>5000.000000</td>\n",
       "      <td>5000.000000</td>\n",
       "      <td>5000.000000</td>\n",
       "      <td>5000.00000</td>\n",
       "      <td>5000.000000</td>\n",
       "      <td>...</td>\n",
       "      <td>5000.000000</td>\n",
       "      <td>5000.00000</td>\n",
       "      <td>5000.000000</td>\n",
       "      <td>5000.000000</td>\n",
       "      <td>5000.000000</td>\n",
       "      <td>5000.000000</td>\n",
       "      <td>5000.000000</td>\n",
       "      <td>5000.000000</td>\n",
       "      <td>5000.00000</td>\n",
       "      <td>5000.00000</td>\n",
       "    </tr>\n",
       "    <tr>\n",
       "      <th>mean</th>\n",
       "      <td>0.303000</td>\n",
       "      <td>0.472600</td>\n",
       "      <td>0.083600</td>\n",
       "      <td>1.389400</td>\n",
       "      <td>2.714200</td>\n",
       "      <td>0.913600</td>\n",
       "      <td>2.505800</td>\n",
       "      <td>0.474800</td>\n",
       "      <td>0.15120</td>\n",
       "      <td>2.130600</td>\n",
       "      <td>...</td>\n",
       "      <td>3.571400</td>\n",
       "      <td>0.26880</td>\n",
       "      <td>3.782200</td>\n",
       "      <td>0.518000</td>\n",
       "      <td>0.716200</td>\n",
       "      <td>0.147600</td>\n",
       "      <td>3.654456</td>\n",
       "      <td>0.503600</td>\n",
       "      <td>4.08860</td>\n",
       "      <td>498.07863</td>\n",
       "    </tr>\n",
       "    <tr>\n",
       "      <th>std</th>\n",
       "      <td>0.459601</td>\n",
       "      <td>0.499299</td>\n",
       "      <td>0.276815</td>\n",
       "      <td>1.081296</td>\n",
       "      <td>1.184905</td>\n",
       "      <td>0.280982</td>\n",
       "      <td>1.117236</td>\n",
       "      <td>0.499415</td>\n",
       "      <td>0.35828</td>\n",
       "      <td>1.307473</td>\n",
       "      <td>...</td>\n",
       "      <td>1.363845</td>\n",
       "      <td>0.44338</td>\n",
       "      <td>1.353783</td>\n",
       "      <td>0.499726</td>\n",
       "      <td>0.450886</td>\n",
       "      <td>0.354739</td>\n",
       "      <td>5.395214</td>\n",
       "      <td>0.500037</td>\n",
       "      <td>1.38706</td>\n",
       "      <td>351.52927</td>\n",
       "    </tr>\n",
       "    <tr>\n",
       "      <th>min</th>\n",
       "      <td>0.000000</td>\n",
       "      <td>0.000000</td>\n",
       "      <td>0.000000</td>\n",
       "      <td>-1.000000</td>\n",
       "      <td>1.000000</td>\n",
       "      <td>0.000000</td>\n",
       "      <td>1.000000</td>\n",
       "      <td>0.000000</td>\n",
       "      <td>0.00000</td>\n",
       "      <td>0.000000</td>\n",
       "      <td>...</td>\n",
       "      <td>1.000000</td>\n",
       "      <td>0.00000</td>\n",
       "      <td>1.000000</td>\n",
       "      <td>0.000000</td>\n",
       "      <td>0.000000</td>\n",
       "      <td>0.000000</td>\n",
       "      <td>0.000000</td>\n",
       "      <td>0.000000</td>\n",
       "      <td>1.00000</td>\n",
       "      <td>8.11000</td>\n",
       "    </tr>\n",
       "    <tr>\n",
       "      <th>25%</th>\n",
       "      <td>0.000000</td>\n",
       "      <td>0.000000</td>\n",
       "      <td>0.000000</td>\n",
       "      <td>1.000000</td>\n",
       "      <td>2.000000</td>\n",
       "      <td>1.000000</td>\n",
       "      <td>2.000000</td>\n",
       "      <td>0.000000</td>\n",
       "      <td>0.00000</td>\n",
       "      <td>1.000000</td>\n",
       "      <td>...</td>\n",
       "      <td>2.000000</td>\n",
       "      <td>0.00000</td>\n",
       "      <td>3.000000</td>\n",
       "      <td>0.000000</td>\n",
       "      <td>0.000000</td>\n",
       "      <td>0.000000</td>\n",
       "      <td>0.980000</td>\n",
       "      <td>0.000000</td>\n",
       "      <td>3.00000</td>\n",
       "      <td>276.28250</td>\n",
       "    </tr>\n",
       "    <tr>\n",
       "      <th>50%</th>\n",
       "      <td>0.000000</td>\n",
       "      <td>0.000000</td>\n",
       "      <td>0.000000</td>\n",
       "      <td>1.000000</td>\n",
       "      <td>3.000000</td>\n",
       "      <td>1.000000</td>\n",
       "      <td>3.000000</td>\n",
       "      <td>0.000000</td>\n",
       "      <td>0.00000</td>\n",
       "      <td>2.000000</td>\n",
       "      <td>...</td>\n",
       "      <td>4.000000</td>\n",
       "      <td>0.00000</td>\n",
       "      <td>4.000000</td>\n",
       "      <td>1.000000</td>\n",
       "      <td>1.000000</td>\n",
       "      <td>0.000000</td>\n",
       "      <td>2.100000</td>\n",
       "      <td>1.000000</td>\n",
       "      <td>4.00000</td>\n",
       "      <td>414.25000</td>\n",
       "    </tr>\n",
       "    <tr>\n",
       "      <th>75%</th>\n",
       "      <td>1.000000</td>\n",
       "      <td>1.000000</td>\n",
       "      <td>0.000000</td>\n",
       "      <td>2.000000</td>\n",
       "      <td>4.000000</td>\n",
       "      <td>1.000000</td>\n",
       "      <td>3.250000</td>\n",
       "      <td>1.000000</td>\n",
       "      <td>0.00000</td>\n",
       "      <td>3.000000</td>\n",
       "      <td>...</td>\n",
       "      <td>5.000000</td>\n",
       "      <td>1.00000</td>\n",
       "      <td>5.000000</td>\n",
       "      <td>1.000000</td>\n",
       "      <td>1.000000</td>\n",
       "      <td>0.000000</td>\n",
       "      <td>4.310000</td>\n",
       "      <td>1.000000</td>\n",
       "      <td>5.00000</td>\n",
       "      <td>615.56250</td>\n",
       "    </tr>\n",
       "    <tr>\n",
       "      <th>max</th>\n",
       "      <td>1.000000</td>\n",
       "      <td>1.000000</td>\n",
       "      <td>1.000000</td>\n",
       "      <td>3.000000</td>\n",
       "      <td>5.000000</td>\n",
       "      <td>1.000000</td>\n",
       "      <td>4.000000</td>\n",
       "      <td>1.000000</td>\n",
       "      <td>1.00000</td>\n",
       "      <td>8.000000</td>\n",
       "      <td>...</td>\n",
       "      <td>5.000000</td>\n",
       "      <td>1.00000</td>\n",
       "      <td>5.000000</td>\n",
       "      <td>1.000000</td>\n",
       "      <td>1.000000</td>\n",
       "      <td>1.000000</td>\n",
       "      <td>141.460000</td>\n",
       "      <td>1.000000</td>\n",
       "      <td>7.00000</td>\n",
       "      <td>4881.05000</td>\n",
       "    </tr>\n",
       "  </tbody>\n",
       "</table>\n",
       "<p>8 rows × 79 columns</p>\n",
       "</div>"
      ],
      "text/plain": [
       "             voice         news  response_01  carcatvalue         card  \\\n",
       "count  5000.000000  5000.000000  5000.000000  5000.000000  5000.000000   \n",
       "mean      0.303000     0.472600     0.083600     1.389400     2.714200   \n",
       "std       0.459601     0.499299     0.276815     1.081296     1.184905   \n",
       "min       0.000000     0.000000     0.000000    -1.000000     1.000000   \n",
       "25%       0.000000     0.000000     0.000000     1.000000     2.000000   \n",
       "50%       0.000000     0.000000     0.000000     1.000000     3.000000   \n",
       "75%       1.000000     1.000000     0.000000     2.000000     4.000000   \n",
       "max       1.000000     1.000000     1.000000     3.000000     5.000000   \n",
       "\n",
       "            owndvd  cardbenefit      owngame       union         cars  ...  \\\n",
       "count  5000.000000  5000.000000  5000.000000  5000.00000  5000.000000  ...   \n",
       "mean      0.913600     2.505800     0.474800     0.15120     2.130600  ...   \n",
       "std       0.280982     1.117236     0.499415     0.35828     1.307473  ...   \n",
       "min       0.000000     1.000000     0.000000     0.00000     0.000000  ...   \n",
       "25%       1.000000     2.000000     0.000000     0.00000     1.000000  ...   \n",
       "50%       1.000000     3.000000     0.000000     0.00000     2.000000  ...   \n",
       "75%       1.000000     3.250000     1.000000     0.00000     3.000000  ...   \n",
       "max       1.000000     4.000000     1.000000     1.00000     8.000000  ...   \n",
       "\n",
       "       card2tenurecat    wireless  cardtenurecat         vote     callcard  \\\n",
       "count     5000.000000  5000.00000    5000.000000  5000.000000  5000.000000   \n",
       "mean         3.571400     0.26880       3.782200     0.518000     0.716200   \n",
       "std          1.363845     0.44338       1.353783     0.499726     0.450886   \n",
       "min          1.000000     0.00000       1.000000     0.000000     0.000000   \n",
       "25%          2.000000     0.00000       3.000000     0.000000     0.000000   \n",
       "50%          4.000000     0.00000       4.000000     1.000000     1.000000   \n",
       "75%          5.000000     1.00000       5.000000     1.000000     1.000000   \n",
       "max          5.000000     1.00000       5.000000     1.000000     1.000000   \n",
       "\n",
       "            retire      othdebt       gender     polview  total_spend  \n",
       "count  5000.000000  5000.000000  5000.000000  5000.00000   5000.00000  \n",
       "mean      0.147600     3.654456     0.503600     4.08860    498.07863  \n",
       "std       0.354739     5.395214     0.500037     1.38706    351.52927  \n",
       "min       0.000000     0.000000     0.000000     1.00000      8.11000  \n",
       "25%       0.000000     0.980000     0.000000     3.00000    276.28250  \n",
       "50%       0.000000     2.100000     1.000000     4.00000    414.25000  \n",
       "75%       0.000000     4.310000     1.000000     5.00000    615.56250  \n",
       "max       1.000000   141.460000     1.000000     7.00000   4881.05000  \n",
       "\n",
       "[8 rows x 79 columns]"
      ]
     },
     "execution_count": 14,
     "metadata": {},
     "output_type": "execute_result"
    }
   ],
   "source": [
    "ndf.describe()"
   ]
  },
  {
   "cell_type": "code",
   "execution_count": 15,
   "metadata": {},
   "outputs": [],
   "source": [
    "ndf=ndf.replace('#NULL!',np.NaN)"
   ]
  },
  {
   "cell_type": "code",
   "execution_count": 16,
   "metadata": {},
   "outputs": [],
   "source": [
    "ndf.townsize=ndf.townsize.astype('float')"
   ]
  },
  {
   "cell_type": "code",
   "execution_count": 17,
   "metadata": {},
   "outputs": [
    {
     "data": {
      "text/plain": [
       "float64    80\n",
       "object      1\n",
       "dtype: int64"
      ]
     },
     "execution_count": 17,
     "metadata": {},
     "output_type": "execute_result"
    }
   ],
   "source": [
    "ndf.dtypes.value_counts()"
   ]
  },
  {
   "cell_type": "code",
   "execution_count": 18,
   "metadata": {},
   "outputs": [
    {
     "data": {
      "text/plain": [
       "dtype('float64')"
      ]
     },
     "execution_count": 18,
     "metadata": {},
     "output_type": "execute_result"
    }
   ],
   "source": [
    "ndf.townsize.dtype"
   ]
  },
  {
   "cell_type": "code",
   "execution_count": 19,
   "metadata": {},
   "outputs": [],
   "source": [
    " del ndf['cardten']"
   ]
  },
  {
   "cell_type": "code",
   "execution_count": 20,
   "metadata": {},
   "outputs": [
    {
     "data": {
      "text/plain": [
       "2"
      ]
     },
     "execution_count": 20,
     "metadata": {},
     "output_type": "execute_result"
    }
   ],
   "source": [
    "ndf.card2fee.nunique(dropna=True)"
   ]
  },
  {
   "cell_type": "code",
   "execution_count": 21,
   "metadata": {},
   "outputs": [
    {
     "data": {
      "text/plain": [
       "0       1.0\n",
       "1       1.0\n",
       "2       0.0\n",
       "3       0.0\n",
       "4       0.0\n",
       "       ... \n",
       "4995    0.0\n",
       "4996    0.0\n",
       "4997    0.0\n",
       "4998    0.0\n",
       "4999    0.0\n",
       "Name: pager, Length: 5000, dtype: float64"
      ]
     },
     "execution_count": 21,
     "metadata": {},
     "output_type": "execute_result"
    }
   ],
   "source": [
    "df['pager']"
   ]
  },
  {
   "cell_type": "code",
   "execution_count": 22,
   "metadata": {},
   "outputs": [],
   "source": [
    "c=list(ndf.columns)"
   ]
  },
  {
   "cell_type": "code",
   "execution_count": 23,
   "metadata": {},
   "outputs": [],
   "source": [
    "a=[]\n",
    "b=[]\n",
    "for e in c:\n",
    "    if ndf[e].nunique(dropna=True)>5:\n",
    "        a.append(e)\n",
    "    else:\n",
    "        b.append(e)\n",
    "        "
   ]
  },
  {
   "cell_type": "code",
   "execution_count": 24,
   "metadata": {},
   "outputs": [],
   "source": [
    "df_dis=ndf.loc[:,a]"
   ]
  },
  {
   "cell_type": "code",
   "execution_count": 25,
   "metadata": {},
   "outputs": [],
   "source": [
    "df_con=ndf.loc[:,b]"
   ]
  },
  {
   "cell_type": "code",
   "execution_count": 26,
   "metadata": {},
   "outputs": [
    {
     "data": {
      "text/plain": [
       "<matplotlib.axes._subplots.AxesSubplot at 0x25eeca5c608>"
      ]
     },
     "execution_count": 26,
     "metadata": {},
     "output_type": "execute_result"
    },
    {
     "data": {
      "image/png": "[encoded data removed]",
      "text/plain": [
       "<Figure size 1440x720 with 1 Axes>"
      ]
     },
     "metadata": {
      "needs_background": "light"
     },
     "output_type": "display_data"
    }
   ],
   "source": [
    "sns.distplot(np.sqrt(np.sqrt(df_dis.total_spend)))"
   ]
  },
  {
   "cell_type": "code",
   "execution_count": 27,
   "metadata": {},
   "outputs": [
    {
     "data": {
      "text/plain": [
       "<matplotlib.axes._subplots.AxesSubplot at 0x25eefa8a988>"
      ]
     },
     "execution_count": 27,
     "metadata": {},
     "output_type": "execute_result"
    },
    {
     "data": {
      "image/png": "[encoded data removed]",
      "text/plain": [
       "<Figure size 1440x720 with 1 Axes>"
      ]
     },
     "metadata": {
      "needs_background": "light"
     },
     "output_type": "display_data"
    }
   ],
   "source": [
    "sns.regplot(x='total_spend',y='debtinc',data=df_dis)"
   ]
  },
  {
   "cell_type": "code",
   "execution_count": 28,
   "metadata": {},
   "outputs": [
    {
     "data": {
      "text/html": [
       "<div>\n",
       "<style scoped>\n",
       "    .dataframe tbody tr th:only-of-type {\n",
       "        vertical-align: middle;\n",
       "    }\n",
       "\n",
       "    .dataframe tbody tr th {\n",
       "        vertical-align: top;\n",
       "    }\n",
       "\n",
       "    .dataframe thead th {\n",
       "        text-align: right;\n",
       "    }\n",
       "</style>\n",
       "<table border=\"1\" class=\"dataframe\">\n",
       "  <thead>\n",
       "    <tr style=\"text-align: right;\">\n",
       "      <th></th>\n",
       "      <th>voice</th>\n",
       "      <th>news</th>\n",
       "      <th>response_01</th>\n",
       "      <th>carcatvalue</th>\n",
       "      <th>card</th>\n",
       "      <th>owndvd</th>\n",
       "      <th>cardbenefit</th>\n",
       "      <th>owngame</th>\n",
       "      <th>union</th>\n",
       "      <th>carown</th>\n",
       "      <th>...</th>\n",
       "      <th>polcontrib</th>\n",
       "      <th>ownipod</th>\n",
       "      <th>inccat</th>\n",
       "      <th>card2tenurecat</th>\n",
       "      <th>wireless</th>\n",
       "      <th>cardtenurecat</th>\n",
       "      <th>vote</th>\n",
       "      <th>callcard</th>\n",
       "      <th>retire</th>\n",
       "      <th>gender</th>\n",
       "    </tr>\n",
       "  </thead>\n",
       "  <tbody>\n",
       "    <tr>\n",
       "      <th>0</th>\n",
       "      <td>1.0</td>\n",
       "      <td>0.0</td>\n",
       "      <td>0.0</td>\n",
       "      <td>1.0</td>\n",
       "      <td>3.0</td>\n",
       "      <td>1.0</td>\n",
       "      <td>1.0</td>\n",
       "      <td>1.0</td>\n",
       "      <td>1.0</td>\n",
       "      <td>1.0</td>\n",
       "      <td>...</td>\n",
       "      <td>0.0</td>\n",
       "      <td>1.0</td>\n",
       "      <td>2.0</td>\n",
       "      <td>2.0</td>\n",
       "      <td>0.0</td>\n",
       "      <td>2.0</td>\n",
       "      <td>1.0</td>\n",
       "      <td>1.0</td>\n",
       "      <td>0.0</td>\n",
       "      <td>1.0</td>\n",
       "    </tr>\n",
       "    <tr>\n",
       "      <th>1</th>\n",
       "      <td>1.0</td>\n",
       "      <td>1.0</td>\n",
       "      <td>0.0</td>\n",
       "      <td>1.0</td>\n",
       "      <td>2.0</td>\n",
       "      <td>1.0</td>\n",
       "      <td>1.0</td>\n",
       "      <td>1.0</td>\n",
       "      <td>0.0</td>\n",
       "      <td>1.0</td>\n",
       "      <td>...</td>\n",
       "      <td>0.0</td>\n",
       "      <td>1.0</td>\n",
       "      <td>1.0</td>\n",
       "      <td>2.0</td>\n",
       "      <td>1.0</td>\n",
       "      <td>2.0</td>\n",
       "      <td>0.0</td>\n",
       "      <td>1.0</td>\n",
       "      <td>0.0</td>\n",
       "      <td>0.0</td>\n",
       "    </tr>\n",
       "    <tr>\n",
       "      <th>2</th>\n",
       "      <td>0.0</td>\n",
       "      <td>1.0</td>\n",
       "      <td>0.0</td>\n",
       "      <td>1.0</td>\n",
       "      <td>2.0</td>\n",
       "      <td>1.0</td>\n",
       "      <td>4.0</td>\n",
       "      <td>0.0</td>\n",
       "      <td>0.0</td>\n",
       "      <td>1.0</td>\n",
       "      <td>...</td>\n",
       "      <td>0.0</td>\n",
       "      <td>0.0</td>\n",
       "      <td>2.0</td>\n",
       "      <td>5.0</td>\n",
       "      <td>0.0</td>\n",
       "      <td>5.0</td>\n",
       "      <td>0.0</td>\n",
       "      <td>1.0</td>\n",
       "      <td>0.0</td>\n",
       "      <td>1.0</td>\n",
       "    </tr>\n",
       "    <tr>\n",
       "      <th>3</th>\n",
       "      <td>0.0</td>\n",
       "      <td>1.0</td>\n",
       "      <td>1.0</td>\n",
       "      <td>1.0</td>\n",
       "      <td>2.0</td>\n",
       "      <td>1.0</td>\n",
       "      <td>4.0</td>\n",
       "      <td>1.0</td>\n",
       "      <td>0.0</td>\n",
       "      <td>1.0</td>\n",
       "      <td>...</td>\n",
       "      <td>0.0</td>\n",
       "      <td>1.0</td>\n",
       "      <td>1.0</td>\n",
       "      <td>2.0</td>\n",
       "      <td>0.0</td>\n",
       "      <td>2.0</td>\n",
       "      <td>0.0</td>\n",
       "      <td>1.0</td>\n",
       "      <td>0.0</td>\n",
       "      <td>0.0</td>\n",
       "    </tr>\n",
       "    <tr>\n",
       "      <th>4</th>\n",
       "      <td>1.0</td>\n",
       "      <td>0.0</td>\n",
       "      <td>0.0</td>\n",
       "      <td>1.0</td>\n",
       "      <td>4.0</td>\n",
       "      <td>1.0</td>\n",
       "      <td>1.0</td>\n",
       "      <td>1.0</td>\n",
       "      <td>0.0</td>\n",
       "      <td>0.0</td>\n",
       "      <td>...</td>\n",
       "      <td>0.0</td>\n",
       "      <td>0.0</td>\n",
       "      <td>1.0</td>\n",
       "      <td>3.0</td>\n",
       "      <td>1.0</td>\n",
       "      <td>3.0</td>\n",
       "      <td>0.0</td>\n",
       "      <td>1.0</td>\n",
       "      <td>0.0</td>\n",
       "      <td>0.0</td>\n",
       "    </tr>\n",
       "    <tr>\n",
       "      <th>...</th>\n",
       "      <td>...</td>\n",
       "      <td>...</td>\n",
       "      <td>...</td>\n",
       "      <td>...</td>\n",
       "      <td>...</td>\n",
       "      <td>...</td>\n",
       "      <td>...</td>\n",
       "      <td>...</td>\n",
       "      <td>...</td>\n",
       "      <td>...</td>\n",
       "      <td>...</td>\n",
       "      <td>...</td>\n",
       "      <td>...</td>\n",
       "      <td>...</td>\n",
       "      <td>...</td>\n",
       "      <td>...</td>\n",
       "      <td>...</td>\n",
       "      <td>...</td>\n",
       "      <td>...</td>\n",
       "      <td>...</td>\n",
       "      <td>...</td>\n",
       "    </tr>\n",
       "    <tr>\n",
       "      <th>4995</th>\n",
       "      <td>0.0</td>\n",
       "      <td>1.0</td>\n",
       "      <td>0.0</td>\n",
       "      <td>3.0</td>\n",
       "      <td>1.0</td>\n",
       "      <td>1.0</td>\n",
       "      <td>3.0</td>\n",
       "      <td>0.0</td>\n",
       "      <td>0.0</td>\n",
       "      <td>1.0</td>\n",
       "      <td>...</td>\n",
       "      <td>1.0</td>\n",
       "      <td>0.0</td>\n",
       "      <td>5.0</td>\n",
       "      <td>5.0</td>\n",
       "      <td>0.0</td>\n",
       "      <td>5.0</td>\n",
       "      <td>1.0</td>\n",
       "      <td>1.0</td>\n",
       "      <td>0.0</td>\n",
       "      <td>0.0</td>\n",
       "    </tr>\n",
       "    <tr>\n",
       "      <th>4996</th>\n",
       "      <td>0.0</td>\n",
       "      <td>0.0</td>\n",
       "      <td>0.0</td>\n",
       "      <td>3.0</td>\n",
       "      <td>3.0</td>\n",
       "      <td>1.0</td>\n",
       "      <td>4.0</td>\n",
       "      <td>0.0</td>\n",
       "      <td>0.0</td>\n",
       "      <td>1.0</td>\n",
       "      <td>...</td>\n",
       "      <td>0.0</td>\n",
       "      <td>0.0</td>\n",
       "      <td>4.0</td>\n",
       "      <td>4.0</td>\n",
       "      <td>1.0</td>\n",
       "      <td>4.0</td>\n",
       "      <td>0.0</td>\n",
       "      <td>1.0</td>\n",
       "      <td>0.0</td>\n",
       "      <td>0.0</td>\n",
       "    </tr>\n",
       "    <tr>\n",
       "      <th>4997</th>\n",
       "      <td>0.0</td>\n",
       "      <td>1.0</td>\n",
       "      <td>0.0</td>\n",
       "      <td>3.0</td>\n",
       "      <td>1.0</td>\n",
       "      <td>1.0</td>\n",
       "      <td>1.0</td>\n",
       "      <td>0.0</td>\n",
       "      <td>0.0</td>\n",
       "      <td>1.0</td>\n",
       "      <td>...</td>\n",
       "      <td>0.0</td>\n",
       "      <td>0.0</td>\n",
       "      <td>4.0</td>\n",
       "      <td>5.0</td>\n",
       "      <td>0.0</td>\n",
       "      <td>5.0</td>\n",
       "      <td>0.0</td>\n",
       "      <td>1.0</td>\n",
       "      <td>0.0</td>\n",
       "      <td>0.0</td>\n",
       "    </tr>\n",
       "    <tr>\n",
       "      <th>4998</th>\n",
       "      <td>0.0</td>\n",
       "      <td>1.0</td>\n",
       "      <td>0.0</td>\n",
       "      <td>3.0</td>\n",
       "      <td>3.0</td>\n",
       "      <td>1.0</td>\n",
       "      <td>1.0</td>\n",
       "      <td>1.0</td>\n",
       "      <td>0.0</td>\n",
       "      <td>1.0</td>\n",
       "      <td>...</td>\n",
       "      <td>1.0</td>\n",
       "      <td>1.0</td>\n",
       "      <td>5.0</td>\n",
       "      <td>4.0</td>\n",
       "      <td>0.0</td>\n",
       "      <td>5.0</td>\n",
       "      <td>0.0</td>\n",
       "      <td>1.0</td>\n",
       "      <td>0.0</td>\n",
       "      <td>0.0</td>\n",
       "    </tr>\n",
       "    <tr>\n",
       "      <th>4999</th>\n",
       "      <td>0.0</td>\n",
       "      <td>0.0</td>\n",
       "      <td>0.0</td>\n",
       "      <td>3.0</td>\n",
       "      <td>3.0</td>\n",
       "      <td>1.0</td>\n",
       "      <td>3.0</td>\n",
       "      <td>0.0</td>\n",
       "      <td>0.0</td>\n",
       "      <td>1.0</td>\n",
       "      <td>...</td>\n",
       "      <td>1.0</td>\n",
       "      <td>0.0</td>\n",
       "      <td>4.0</td>\n",
       "      <td>3.0</td>\n",
       "      <td>0.0</td>\n",
       "      <td>5.0</td>\n",
       "      <td>1.0</td>\n",
       "      <td>1.0</td>\n",
       "      <td>0.0</td>\n",
       "      <td>1.0</td>\n",
       "    </tr>\n",
       "  </tbody>\n",
       "</table>\n",
       "<p>5000 rows × 59 columns</p>\n",
       "</div>"
      ],
      "text/plain": [
       "      voice  news  response_01  carcatvalue  card  owndvd  cardbenefit  \\\n",
       "0       1.0   0.0          0.0          1.0   3.0     1.0          1.0   \n",
       "1       1.0   1.0          0.0          1.0   2.0     1.0          1.0   \n",
       "2       0.0   1.0          0.0          1.0   2.0     1.0          4.0   \n",
       "3       0.0   1.0          1.0          1.0   2.0     1.0          4.0   \n",
       "4       1.0   0.0          0.0          1.0   4.0     1.0          1.0   \n",
       "...     ...   ...          ...          ...   ...     ...          ...   \n",
       "4995    0.0   1.0          0.0          3.0   1.0     1.0          3.0   \n",
       "4996    0.0   0.0          0.0          3.0   3.0     1.0          4.0   \n",
       "4997    0.0   1.0          0.0          3.0   1.0     1.0          1.0   \n",
       "4998    0.0   1.0          0.0          3.0   3.0     1.0          1.0   \n",
       "4999    0.0   0.0          0.0          3.0   3.0     1.0          3.0   \n",
       "\n",
       "      owngame  union  carown  ...  polcontrib  ownipod  inccat  \\\n",
       "0         1.0    1.0     1.0  ...         0.0      1.0     2.0   \n",
       "1         1.0    0.0     1.0  ...         0.0      1.0     1.0   \n",
       "2         0.0    0.0     1.0  ...         0.0      0.0     2.0   \n",
       "3         1.0    0.0     1.0  ...         0.0      1.0     1.0   \n",
       "4         1.0    0.0     0.0  ...         0.0      0.0     1.0   \n",
       "...       ...    ...     ...  ...         ...      ...     ...   \n",
       "4995      0.0    0.0     1.0  ...         1.0      0.0     5.0   \n",
       "4996      0.0    0.0     1.0  ...         0.0      0.0     4.0   \n",
       "4997      0.0    0.0     1.0  ...         0.0      0.0     4.0   \n",
       "4998      1.0    0.0     1.0  ...         1.0      1.0     5.0   \n",
       "4999      0.0    0.0     1.0  ...         1.0      0.0     4.0   \n",
       "\n",
       "      card2tenurecat  wireless  cardtenurecat  vote  callcard  retire  gender  \n",
       "0                2.0       0.0            2.0   1.0       1.0     0.0     1.0  \n",
       "1                2.0       1.0            2.0   0.0       1.0     0.0     0.0  \n",
       "2                5.0       0.0            5.0   0.0       1.0     0.0     1.0  \n",
       "3                2.0       0.0            2.0   0.0       1.0     0.0     0.0  \n",
       "4                3.0       1.0            3.0   0.0       1.0     0.0     0.0  \n",
       "...              ...       ...            ...   ...       ...     ...     ...  \n",
       "4995             5.0       0.0            5.0   1.0       1.0     0.0     0.0  \n",
       "4996             4.0       1.0            4.0   0.0       1.0     0.0     0.0  \n",
       "4997             5.0       0.0            5.0   0.0       1.0     0.0     0.0  \n",
       "4998             4.0       0.0            5.0   0.0       1.0     0.0     0.0  \n",
       "4999             3.0       0.0            5.0   1.0       1.0     0.0     1.0  \n",
       "\n",
       "[5000 rows x 59 columns]"
      ]
     },
     "execution_count": 28,
     "metadata": {},
     "output_type": "execute_result"
    }
   ],
   "source": [
    "df_con"
   ]
  },
  {
   "cell_type": "code",
   "execution_count": 29,
   "metadata": {},
   "outputs": [
    {
     "data": {
      "text/plain": [
       "65.92"
      ]
     },
     "execution_count": 29,
     "metadata": {},
     "output_type": "execute_result"
    }
   ],
   "source": [
    "ndf.equipten.value_counts()[0]/ndf.shape[0]*100\n",
    "    "
   ]
  },
  {
   "cell_type": "code",
   "execution_count": 30,
   "metadata": {},
   "outputs": [
    {
     "data": {
      "text/plain": [
       "52.44"
      ]
     },
     "execution_count": 30,
     "metadata": {},
     "output_type": "execute_result"
    }
   ],
   "source": [
    "ndf.tollten.value_counts()[0]/ndf.shape[0]*100"
   ]
  },
  {
   "cell_type": "code",
   "execution_count": 31,
   "metadata": {},
   "outputs": [],
   "source": [
    "#more than 70 % values in wireten are null so it is wise to drop columns\n",
    "ndf=ndf.drop(['equipten','tollten'],axis='columns')"
   ]
  },
  {
   "cell_type": "code",
   "execution_count": 32,
   "metadata": {},
   "outputs": [],
   "source": [
    "df_dis=df_dis.drop(['wireten','equipten','tollten'],axis='columns')"
   ]
  },
  {
   "cell_type": "code",
   "execution_count": 33,
   "metadata": {},
   "outputs": [
    {
     "data": {
      "text/plain": [
       "<matplotlib.axes._subplots.AxesSubplot at 0x25eee48a6c8>"
      ]
     },
     "execution_count": 33,
     "metadata": {},
     "output_type": "execute_result"
    },
    {
     "data": {
      "image/png": "[encoded data removed]",
      "text/plain": [
       "<Figure size 1440x720 with 1 Axes>"
      ]
     },
     "metadata": {
      "needs_background": "light"
     },
     "output_type": "display_data"
    }
   ],
   "source": [
    "sns.distplot(df_dis.total_spend)"
   ]
  },
  {
   "cell_type": "code",
   "execution_count": 34,
   "metadata": {},
   "outputs": [
    {
     "data": {
      "text/plain": [
       "count    5000.00000\n",
       "mean      498.07863\n",
       "std       351.52927\n",
       "min         8.11000\n",
       "25%       276.28250\n",
       "50%       414.25000\n",
       "75%       615.56250\n",
       "max      4881.05000\n",
       "Name: total_spend, dtype: float64"
      ]
     },
     "execution_count": 34,
     "metadata": {},
     "output_type": "execute_result"
    }
   ],
   "source": [
    "df_dis.total_spend.describe()"
   ]
  },
  {
   "cell_type": "code",
   "execution_count": 35,
   "metadata": {},
   "outputs": [],
   "source": [
    "ndf['trans_spend']=np.sqrt(np.sqrt(ndf.total_spend))"
   ]
  },
  {
   "cell_type": "code",
   "execution_count": 36,
   "metadata": {},
   "outputs": [],
   "source": [
    "del ndf['total_spend']"
   ]
  },
  {
   "cell_type": "code",
   "execution_count": 37,
   "metadata": {},
   "outputs": [],
   "source": [
    "equ='trans_spend~card2fee+card2benefit+internet+owndvd+wireless+tollfree+active+ownipod+pager+ownpda+tenure+churn+multline+voice+owngame+ownpc+wiremon+callcard+equipmon+equip+forward+card2+ownvcr+owncd+card2type+response_03+tollmon+ebill+news+response_02+ownfax+cardmon+cardtenurecat+owntv+response_01+card2tenurecat'"
   ]
  },
  {
   "cell_type": "code",
   "execution_count": 38,
   "metadata": {},
   "outputs": [],
   "source": [
    "from sklearn.model_selection import train_test_split"
   ]
  },
  {
   "cell_type": "code",
   "execution_count": 39,
   "metadata": {},
   "outputs": [],
   "source": [
    "x,y=train_test_split(ndf,test_size=0.3,random_state=1234)"
   ]
  },
  {
   "cell_type": "code",
   "execution_count": 40,
   "metadata": {},
   "outputs": [],
   "source": [
    "ndf=ndf.fillna(0)"
   ]
  },
  {
   "cell_type": "code",
   "execution_count": 41,
   "metadata": {},
   "outputs": [],
   "source": [
    "x=ndf[ndf.columns.difference(['trans_spend'])]\n",
    "y=ndf['trans_spend']"
   ]
  },
  {
   "cell_type": "code",
   "execution_count": 42,
   "metadata": {},
   "outputs": [],
   "source": [
    "x_train,y_train,x_test,y_test=train_test_split(x,y,test_size=0.33, random_state=42)"
   ]
  },
  {
   "cell_type": "markdown",
   "metadata": {},
   "source": [
    "## model with whole data set"
   ]
  },
  {
   "cell_type": "code",
   "execution_count": 43,
   "metadata": {},
   "outputs": [
    {
     "name": "stdout",
     "output_type": "stream",
     "text": [
      "                            OLS Regression Results                            \n",
      "==============================================================================\n",
      "Dep. Variable:            trans_spend   R-squared:                       0.058\n",
      "Model:                            OLS   Adj. R-squared:                  0.051\n",
      "Method:                 Least Squares   F-statistic:                     8.421\n",
      "Date:                Wed, 20 May 2020   Prob (F-statistic):           1.82e-42\n",
      "Time:                        11:04:36   Log-Likelihood:                -5458.1\n",
      "No. Observations:                5000   AIC:                         1.099e+04\n",
      "Df Residuals:                    4963   BIC:                         1.123e+04\n",
      "Df Model:                          36                                         \n",
      "Covariance Type:            nonrobust                                         \n",
      "==================================================================================\n",
      "                     coef    std err          t      P>|t|      [0.025      0.975]\n",
      "----------------------------------------------------------------------------------\n",
      "Intercept          3.9879      0.100     39.898      0.000       3.792       4.184\n",
      "card2fee          -0.0372      0.026     -1.413      0.158      -0.089       0.014\n",
      "card2benefit   -3.592e-05      0.009     -0.004      0.997      -0.018       0.018\n",
      "internet           0.0331      0.011      3.046      0.002       0.012       0.054\n",
      "owndvd             0.2239      0.045      4.992      0.000       0.136       0.312\n",
      "wireless           0.0393      0.060      0.660      0.509      -0.077       0.156\n",
      "tollfree          -0.0444      0.044     -1.003      0.316      -0.131       0.042\n",
      "active             0.0008      0.021      0.040      0.968      -0.040       0.042\n",
      "ownipod            0.0199      0.025      0.810      0.418      -0.028       0.068\n",
      "pager             -0.0209      0.035     -0.589      0.556      -0.090       0.049\n",
      "ownpda             0.0416      0.033      1.249      0.212      -0.024       0.107\n",
      "tenure            -0.0005      0.001     -0.443      0.658      -0.003       0.002\n",
      "churn              0.0515      0.027      1.892      0.059      -0.002       0.105\n",
      "multline          -0.0317      0.026     -1.215      0.224      -0.083       0.019\n",
      "voice             -0.0850      0.032     -2.622      0.009      -0.149      -0.021\n",
      "owngame            0.0048      0.025      0.193      0.847      -0.044       0.054\n",
      "ownpc              0.0040      0.029      0.139      0.890      -0.052       0.060\n",
      "wiremon         8.365e-05      0.002      0.052      0.959      -0.003       0.003\n",
      "callcard          -0.0445      0.033     -1.350      0.177      -0.109       0.020\n",
      "equipmon           0.0020      0.002      0.835      0.404      -0.003       0.007\n",
      "equip             -0.0580      0.086     -0.672      0.501      -0.227       0.111\n",
      "forward            0.0390      0.028      1.399      0.162      -0.016       0.094\n",
      "card2             -0.0389      0.009     -4.427      0.000      -0.056      -0.022\n",
      "ownvcr             0.1905      0.046      4.161      0.000       0.101       0.280\n",
      "owncd              0.1737      0.051      3.437      0.001       0.075       0.273\n",
      "card2type         -0.0048      0.009     -0.525      0.599      -0.023       0.013\n",
      "response_03        0.1019      0.034      2.976      0.003       0.035       0.169\n",
      "tollmon            0.0036      0.001      2.532      0.011       0.001       0.006\n",
      "ebill             -0.0370      0.029     -1.270      0.204      -0.094       0.020\n",
      "news              -0.0007      0.026     -0.027      0.978      -0.051       0.050\n",
      "response_02        0.0297      0.031      0.969      0.332      -0.030       0.090\n",
      "ownfax             0.0234      0.035      0.671      0.502      -0.045       0.092\n",
      "cardmon           -0.0008      0.001     -0.827      0.408      -0.003       0.001\n",
      "cardtenurecat      0.0239      0.020      1.181      0.238      -0.016       0.064\n",
      "owntv             -0.0225      0.090     -0.249      0.803      -0.199       0.154\n",
      "response_01       -0.0159      0.038     -0.424      0.672      -0.089       0.058\n",
      "card2tenurecat     0.0120      0.023      0.510      0.610      -0.034       0.058\n",
      "==============================================================================\n",
      "Omnibus:                      122.269   Durbin-Watson:                   1.993\n",
      "Prob(Omnibus):                  0.000   Jarque-Bera (JB):              189.777\n",
      "Skew:                           0.243   Prob(JB):                     6.17e-42\n",
      "Kurtosis:                       3.821   Cond. No.                         647.\n",
      "==============================================================================\n",
      "\n",
      "Warnings:\n",
      "[1] Standard Errors assume that the covariance matrix of the errors is correctly specified.\n"
     ]
    }
   ],
   "source": [
    "import statsmodels.formula.api as smf\n",
    "model = smf.ols(equ, data=ndf).fit()\n",
    "print(model.summary())"
   ]
  },
  {
   "cell_type": "markdown",
   "metadata": {},
   "source": [
    "### feature engineeering"
   ]
  },
  {
   "cell_type": "code",
   "execution_count": 48,
   "metadata": {},
   "outputs": [],
   "source": [
    "from sklearn.linear_model import Lasso\n"
   ]
  },
  {
   "cell_type": "code",
   "execution_count": 49,
   "metadata": {},
   "outputs": [
    {
     "data": {
      "text/plain": [
       "array([ 0.00000000e+00, -0.00000000e+00, -0.00000000e+00, -0.00000000e+00,\n",
       "       -0.00000000e+00,  0.00000000e+00, -0.00000000e+00, -8.70191723e-02,\n",
       "       -0.00000000e+00, -0.00000000e+00, -0.00000000e+00, -0.00000000e+00,\n",
       "       -0.00000000e+00, -0.00000000e+00, -0.00000000e+00, -1.14308270e-03,\n",
       "       -0.00000000e+00, -0.00000000e+00, -0.00000000e+00, -0.00000000e+00,\n",
       "        4.16461989e-03,  0.00000000e+00,  0.00000000e+00,  0.00000000e+00,\n",
       "        0.00000000e+00,  0.00000000e+00, -0.00000000e+00,  0.00000000e+00,\n",
       "       -0.00000000e+00,  0.00000000e+00,  8.51412605e-04,  0.00000000e+00,\n",
       "       -0.00000000e+00,  0.00000000e+00,  0.00000000e+00,  0.00000000e+00,\n",
       "        3.44789392e-03,  0.00000000e+00, -0.00000000e+00, -0.00000000e+00,\n",
       "        0.00000000e+00, -0.00000000e+00, -0.00000000e+00,  0.00000000e+00,\n",
       "        0.00000000e+00,  0.00000000e+00,  0.00000000e+00,  0.00000000e+00,\n",
       "        0.00000000e+00,  0.00000000e+00,  0.00000000e+00,  0.00000000e+00,\n",
       "        0.00000000e+00, -0.00000000e+00, -0.00000000e+00,  0.00000000e+00,\n",
       "        0.00000000e+00, -0.00000000e+00, -0.00000000e+00,  0.00000000e+00,\n",
       "        0.00000000e+00, -0.00000000e+00,  0.00000000e+00,  0.00000000e+00,\n",
       "       -0.00000000e+00,  0.00000000e+00, -0.00000000e+00, -1.97924022e-04,\n",
       "        0.00000000e+00,  0.00000000e+00,  0.00000000e+00,  0.00000000e+00,\n",
       "       -0.00000000e+00,  0.00000000e+00,  0.00000000e+00, -0.00000000e+00,\n",
       "        8.73341176e-06])"
      ]
     },
     "execution_count": 49,
     "metadata": {},
     "output_type": "execute_result"
    }
   ],
   "source": [
    "Lasso(alpha=0.1).fit(x,y).coef_"
   ]
  },
  {
   "cell_type": "code",
   "execution_count": 90,
   "metadata": {},
   "outputs": [],
   "source": [
    "ls=pd.DataFrame(data=Lasso(alpha=0.1).fit(x,y).coef_,index=x.columns,columns=['a'])"
   ]
  },
  {
   "cell_type": "code",
   "execution_count": 97,
   "metadata": {},
   "outputs": [
    {
     "data": {
      "text/plain": [
       "['card', 'cardmon', 'tenure']"
      ]
     },
     "execution_count": 97,
     "metadata": {},
     "output_type": "execute_result"
    }
   ],
   "source": [
    "list(ls[ls['a']<0].index)"
   ]
  },
  {
   "cell_type": "code",
   "execution_count": 98,
   "metadata": {},
   "outputs": [
    {
     "data": {
      "text/plain": [
       "['carvalue', 'equipmon', 'income', 'wireten']"
      ]
     },
     "execution_count": 98,
     "metadata": {},
     "output_type": "execute_result"
    }
   ],
   "source": [
    "list(ls[ls['a']>0].index)"
   ]
  },
  {
   "cell_type": "code",
   "execution_count": 99,
   "metadata": {},
   "outputs": [],
   "source": [
    "lasso_imp=[list(ls[ls['a']>0].index),list(ls[ls['a']<0].index)]"
   ]
  },
  {
   "cell_type": "code",
   "execution_count": 100,
   "metadata": {},
   "outputs": [
    {
     "data": {
      "text/plain": [
       "[['carvalue', 'equipmon', 'income', 'wireten'], ['card', 'cardmon', 'tenure']]"
      ]
     },
     "execution_count": 100,
     "metadata": {},
     "output_type": "execute_result"
    }
   ],
   "source": [
    "lasso_imp"
   ]
  },
  {
   "cell_type": "code",
   "execution_count": 47,
   "metadata": {},
   "outputs": [],
   "source": [
    "from sklearn.feature_selection import RFE\n",
    "\n",
    "from sklearn.linear_model import LinearRegression\n",
    "\n",
    "lm = LinearRegression()\n",
    "rfe = RFE(lm, n_features_to_select=15).fit(x,y)\n",
    "bool_RFE = rfe.get_support()\n"
   ]
  },
  {
   "cell_type": "code",
   "execution_count": 54,
   "metadata": {},
   "outputs": [
    {
     "data": {
      "text/html": [
       "<div>\n",
       "<style scoped>\n",
       "    .dataframe tbody tr th:only-of-type {\n",
       "        vertical-align: middle;\n",
       "    }\n",
       "\n",
       "    .dataframe tbody tr th {\n",
       "        vertical-align: top;\n",
       "    }\n",
       "\n",
       "    .dataframe thead th {\n",
       "        text-align: right;\n",
       "    }\n",
       "</style>\n",
       "<table border=\"1\" class=\"dataframe\">\n",
       "  <thead>\n",
       "    <tr style=\"text-align: right;\">\n",
       "      <th></th>\n",
       "      <th>callcard</th>\n",
       "      <th>card</th>\n",
       "      <th>card2</th>\n",
       "      <th>card2fee</th>\n",
       "      <th>churn</th>\n",
       "      <th>gender</th>\n",
       "      <th>inccat</th>\n",
       "      <th>owncd</th>\n",
       "      <th>owndvd</th>\n",
       "      <th>owntv</th>\n",
       "      <th>ownvcr</th>\n",
       "      <th>response_03</th>\n",
       "      <th>retire</th>\n",
       "      <th>voice</th>\n",
       "      <th>wireless</th>\n",
       "    </tr>\n",
       "  </thead>\n",
       "  <tbody>\n",
       "    <tr>\n",
       "      <th>0</th>\n",
       "      <td>1.0</td>\n",
       "      <td>3.0</td>\n",
       "      <td>5.0</td>\n",
       "      <td>0.0</td>\n",
       "      <td>1.0</td>\n",
       "      <td>1.0</td>\n",
       "      <td>2.0</td>\n",
       "      <td>0.0</td>\n",
       "      <td>1.0</td>\n",
       "      <td>1.0</td>\n",
       "      <td>1.0</td>\n",
       "      <td>0.0</td>\n",
       "      <td>0.0</td>\n",
       "      <td>1.0</td>\n",
       "      <td>0.0</td>\n",
       "    </tr>\n",
       "    <tr>\n",
       "      <th>1</th>\n",
       "      <td>1.0</td>\n",
       "      <td>2.0</td>\n",
       "      <td>4.0</td>\n",
       "      <td>0.0</td>\n",
       "      <td>0.0</td>\n",
       "      <td>0.0</td>\n",
       "      <td>1.0</td>\n",
       "      <td>1.0</td>\n",
       "      <td>1.0</td>\n",
       "      <td>1.0</td>\n",
       "      <td>1.0</td>\n",
       "      <td>0.0</td>\n",
       "      <td>0.0</td>\n",
       "      <td>1.0</td>\n",
       "      <td>1.0</td>\n",
       "    </tr>\n",
       "    <tr>\n",
       "      <th>2</th>\n",
       "      <td>1.0</td>\n",
       "      <td>2.0</td>\n",
       "      <td>4.0</td>\n",
       "      <td>0.0</td>\n",
       "      <td>0.0</td>\n",
       "      <td>1.0</td>\n",
       "      <td>2.0</td>\n",
       "      <td>1.0</td>\n",
       "      <td>1.0</td>\n",
       "      <td>1.0</td>\n",
       "      <td>1.0</td>\n",
       "      <td>0.0</td>\n",
       "      <td>0.0</td>\n",
       "      <td>0.0</td>\n",
       "      <td>0.0</td>\n",
       "    </tr>\n",
       "    <tr>\n",
       "      <th>3</th>\n",
       "      <td>1.0</td>\n",
       "      <td>2.0</td>\n",
       "      <td>3.0</td>\n",
       "      <td>0.0</td>\n",
       "      <td>0.0</td>\n",
       "      <td>0.0</td>\n",
       "      <td>1.0</td>\n",
       "      <td>1.0</td>\n",
       "      <td>1.0</td>\n",
       "      <td>1.0</td>\n",
       "      <td>1.0</td>\n",
       "      <td>0.0</td>\n",
       "      <td>0.0</td>\n",
       "      <td>0.0</td>\n",
       "      <td>0.0</td>\n",
       "    </tr>\n",
       "    <tr>\n",
       "      <th>4</th>\n",
       "      <td>1.0</td>\n",
       "      <td>4.0</td>\n",
       "      <td>1.0</td>\n",
       "      <td>0.0</td>\n",
       "      <td>0.0</td>\n",
       "      <td>0.0</td>\n",
       "      <td>1.0</td>\n",
       "      <td>1.0</td>\n",
       "      <td>1.0</td>\n",
       "      <td>1.0</td>\n",
       "      <td>1.0</td>\n",
       "      <td>0.0</td>\n",
       "      <td>0.0</td>\n",
       "      <td>1.0</td>\n",
       "      <td>1.0</td>\n",
       "    </tr>\n",
       "    <tr>\n",
       "      <th>...</th>\n",
       "      <td>...</td>\n",
       "      <td>...</td>\n",
       "      <td>...</td>\n",
       "      <td>...</td>\n",
       "      <td>...</td>\n",
       "      <td>...</td>\n",
       "      <td>...</td>\n",
       "      <td>...</td>\n",
       "      <td>...</td>\n",
       "      <td>...</td>\n",
       "      <td>...</td>\n",
       "      <td>...</td>\n",
       "      <td>...</td>\n",
       "      <td>...</td>\n",
       "      <td>...</td>\n",
       "    </tr>\n",
       "    <tr>\n",
       "      <th>4995</th>\n",
       "      <td>1.0</td>\n",
       "      <td>1.0</td>\n",
       "      <td>3.0</td>\n",
       "      <td>0.0</td>\n",
       "      <td>0.0</td>\n",
       "      <td>0.0</td>\n",
       "      <td>5.0</td>\n",
       "      <td>1.0</td>\n",
       "      <td>1.0</td>\n",
       "      <td>1.0</td>\n",
       "      <td>1.0</td>\n",
       "      <td>0.0</td>\n",
       "      <td>0.0</td>\n",
       "      <td>0.0</td>\n",
       "      <td>0.0</td>\n",
       "    </tr>\n",
       "    <tr>\n",
       "      <th>4996</th>\n",
       "      <td>1.0</td>\n",
       "      <td>3.0</td>\n",
       "      <td>5.0</td>\n",
       "      <td>0.0</td>\n",
       "      <td>0.0</td>\n",
       "      <td>0.0</td>\n",
       "      <td>4.0</td>\n",
       "      <td>1.0</td>\n",
       "      <td>1.0</td>\n",
       "      <td>1.0</td>\n",
       "      <td>1.0</td>\n",
       "      <td>0.0</td>\n",
       "      <td>0.0</td>\n",
       "      <td>0.0</td>\n",
       "      <td>1.0</td>\n",
       "    </tr>\n",
       "    <tr>\n",
       "      <th>4997</th>\n",
       "      <td>1.0</td>\n",
       "      <td>1.0</td>\n",
       "      <td>2.0</td>\n",
       "      <td>0.0</td>\n",
       "      <td>0.0</td>\n",
       "      <td>0.0</td>\n",
       "      <td>4.0</td>\n",
       "      <td>1.0</td>\n",
       "      <td>1.0</td>\n",
       "      <td>1.0</td>\n",
       "      <td>1.0</td>\n",
       "      <td>0.0</td>\n",
       "      <td>0.0</td>\n",
       "      <td>0.0</td>\n",
       "      <td>0.0</td>\n",
       "    </tr>\n",
       "    <tr>\n",
       "      <th>4998</th>\n",
       "      <td>1.0</td>\n",
       "      <td>3.0</td>\n",
       "      <td>4.0</td>\n",
       "      <td>0.0</td>\n",
       "      <td>0.0</td>\n",
       "      <td>0.0</td>\n",
       "      <td>5.0</td>\n",
       "      <td>1.0</td>\n",
       "      <td>1.0</td>\n",
       "      <td>1.0</td>\n",
       "      <td>1.0</td>\n",
       "      <td>0.0</td>\n",
       "      <td>0.0</td>\n",
       "      <td>0.0</td>\n",
       "      <td>0.0</td>\n",
       "    </tr>\n",
       "    <tr>\n",
       "      <th>4999</th>\n",
       "      <td>1.0</td>\n",
       "      <td>3.0</td>\n",
       "      <td>4.0</td>\n",
       "      <td>0.0</td>\n",
       "      <td>1.0</td>\n",
       "      <td>1.0</td>\n",
       "      <td>4.0</td>\n",
       "      <td>1.0</td>\n",
       "      <td>1.0</td>\n",
       "      <td>1.0</td>\n",
       "      <td>1.0</td>\n",
       "      <td>0.0</td>\n",
       "      <td>0.0</td>\n",
       "      <td>0.0</td>\n",
       "      <td>0.0</td>\n",
       "    </tr>\n",
       "  </tbody>\n",
       "</table>\n",
       "<p>5000 rows × 15 columns</p>\n",
       "</div>"
      ],
      "text/plain": [
       "      callcard  card  card2  card2fee  churn  gender  inccat  owncd  owndvd  \\\n",
       "0          1.0   3.0    5.0       0.0    1.0     1.0     2.0    0.0     1.0   \n",
       "1          1.0   2.0    4.0       0.0    0.0     0.0     1.0    1.0     1.0   \n",
       "2          1.0   2.0    4.0       0.0    0.0     1.0     2.0    1.0     1.0   \n",
       "3          1.0   2.0    3.0       0.0    0.0     0.0     1.0    1.0     1.0   \n",
       "4          1.0   4.0    1.0       0.0    0.0     0.0     1.0    1.0     1.0   \n",
       "...        ...   ...    ...       ...    ...     ...     ...    ...     ...   \n",
       "4995       1.0   1.0    3.0       0.0    0.0     0.0     5.0    1.0     1.0   \n",
       "4996       1.0   3.0    5.0       0.0    0.0     0.0     4.0    1.0     1.0   \n",
       "4997       1.0   1.0    2.0       0.0    0.0     0.0     4.0    1.0     1.0   \n",
       "4998       1.0   3.0    4.0       0.0    0.0     0.0     5.0    1.0     1.0   \n",
       "4999       1.0   3.0    4.0       0.0    1.0     1.0     4.0    1.0     1.0   \n",
       "\n",
       "      owntv  ownvcr  response_03  retire  voice  wireless  \n",
       "0       1.0     1.0          0.0     0.0    1.0       0.0  \n",
       "1       1.0     1.0          0.0     0.0    1.0       1.0  \n",
       "2       1.0     1.0          0.0     0.0    0.0       0.0  \n",
       "3       1.0     1.0          0.0     0.0    0.0       0.0  \n",
       "4       1.0     1.0          0.0     0.0    1.0       1.0  \n",
       "...     ...     ...          ...     ...    ...       ...  \n",
       "4995    1.0     1.0          0.0     0.0    0.0       0.0  \n",
       "4996    1.0     1.0          0.0     0.0    0.0       1.0  \n",
       "4997    1.0     1.0          0.0     0.0    0.0       0.0  \n",
       "4998    1.0     1.0          0.0     0.0    0.0       0.0  \n",
       "4999    1.0     1.0          0.0     0.0    0.0       0.0  \n",
       "\n",
       "[5000 rows x 15 columns]"
      ]
     },
     "execution_count": 54,
     "metadata": {},
     "output_type": "execute_result"
    }
   ],
   "source": [
    "x.loc[:,bool_RFE]"
   ]
  },
  {
   "cell_type": "code",
   "execution_count": 55,
   "metadata": {},
   "outputs": [],
   "source": [
    "from sklearn.feature_selection import f_regression\n",
    "F_values, p_values  = f_regression(x,y)\n",
    "F_values = pd.Series(F_values, name='F_values')\n",
    "p_values = pd.Series(p_values, name='p_values')\n",
    "col_names = pd.Series(x.columns,name='col_names')\n",
    "f_result = pd.concat([col_names,F_values,p_values],axis=1)\n",
    "f1=list(f_result.sort_values(by=[\"F_values\"], ascending=False).head(15).col_names)"
   ]
  },
  {
   "cell_type": "code",
   "execution_count": 56,
   "metadata": {},
   "outputs": [],
   "source": [
    "from sklearn.feature_selection import SelectKBest, f_classif, chi2\n",
    "selector = SelectKBest(f_classif, k=15)\n",
    "selector.fit(x,y)\n",
    "K_Best = x.columns[selector.get_support()]\n",
    "f=list(K_Best)"
   ]
  },
  {
   "cell_type": "code",
   "execution_count": 57,
   "metadata": {},
   "outputs": [],
   "source": [
    "from statsmodels.stats.outliers_influence import variance_inflation_factor\n",
    "from patsy import dmatrices\n",
    "VIF = [variance_inflation_factor(x.values,i) for i in range(x.shape[1])]\n",
    "VIF = pd.Series(VIF, name='VIF')\n",
    "cols = pd.Series(x.columns, name='Column_Name')\n",
    "VIF_res = pd.concat([cols,VIF],axis=1)\n",
    "vif=list(VIF_res.sort_values(by=['VIF']).head(15).Column_Name)"
   ]
  },
  {
   "cell_type": "code",
   "execution_count": 58,
   "metadata": {},
   "outputs": [
    {
     "data": {
      "text/plain": [
       "[['inccat',\n",
       "  'income',\n",
       "  'carvalue',\n",
       "  'othdebt',\n",
       "  'card',\n",
       "  'creddebt',\n",
       "  'carcatvalue',\n",
       "  'retire',\n",
       "  'owndvd',\n",
       "  'ownvcr',\n",
       "  'owncd',\n",
       "  'empcat',\n",
       "  'wireten',\n",
       "  'edcat',\n",
       "  'wiremon'],\n",
       " ['carcatvalue',\n",
       "  'card2benefit',\n",
       "  'carown',\n",
       "  'carvalue',\n",
       "  'churn',\n",
       "  'creddebt',\n",
       "  'debtinc',\n",
       "  'default',\n",
       "  'edcat',\n",
       "  'internet',\n",
       "  'othdebt',\n",
       "  'ownpda',\n",
       "  'reason',\n",
       "  'response_02',\n",
       "  'tenure'],\n",
       " ['response_01',\n",
       "  'response_03',\n",
       "  'response_02',\n",
       "  'union',\n",
       "  'card2fee',\n",
       "  'cardfee',\n",
       "  'telecommute',\n",
       "  'polcontrib',\n",
       "  'polparty',\n",
       "  'carbuy',\n",
       "  'churn',\n",
       "  'pets',\n",
       "  'default',\n",
       "  'active',\n",
       "  'gender']]"
      ]
     },
     "execution_count": 58,
     "metadata": {},
     "output_type": "execute_result"
    }
   ],
   "source": [
    "[f1,f,vif]"
   ]
  },
  {
   "cell_type": "code",
   "execution_count": 60,
   "metadata": {},
   "outputs": [],
   "source": [
    "eqn='trans_spend~active+carbuy+carcatvalue+card+card2benefit+card2fee+cardfee+carown+carvalue+churn+creddebt+debtinc+default+edcat+empcat+gender+inccat+internet+othdebt+owncd+owndvd+ownpda+owntv+ownvcr+pets+polcontrib+polparty+reason+response_01+response_02+response_03+retire+telecommute+tenure+union+wiremon'"
   ]
  },
  {
   "cell_type": "code",
   "execution_count": 61,
   "metadata": {},
   "outputs": [],
   "source": [
    "n=['active','carbuy','carcatvalue','card','card2benefit','card2fee','cardfee','carown','carvalue','churn','creddebt','debtinc','default','edcat','empcat','gender','inccat','income','internet','othdebt','owncd','owndvd','ownpda','owntv','ownvcr','pets','polcontrib','polparty','reason','response_01','response_02','response_03','retire','telecommute','tenure','union','wiremon']"
   ]
  },
  {
   "cell_type": "code",
   "execution_count": 62,
   "metadata": {},
   "outputs": [
    {
     "data": {
      "text/plain": [
       "37"
      ]
     },
     "execution_count": 62,
     "metadata": {},
     "output_type": "execute_result"
    }
   ],
   "source": [
    "len(n)"
   ]
  },
  {
   "cell_type": "code",
   "execution_count": 63,
   "metadata": {},
   "outputs": [
    {
     "name": "stdout",
     "output_type": "stream",
     "text": [
      "                            OLS Regression Results                            \n",
      "==============================================================================\n",
      "Dep. Variable:            trans_spend   R-squared:                       0.237\n",
      "Model:                            OLS   Adj. R-squared:                  0.231\n",
      "Method:                 Least Squares   F-statistic:                     42.72\n",
      "Date:                Wed, 20 May 2020   Prob (F-statistic):          4.45e-259\n",
      "Time:                        11:05:43   Log-Likelihood:                -4931.6\n",
      "No. Observations:                5000   AIC:                             9937.\n",
      "Df Residuals:                    4963   BIC:                         1.018e+04\n",
      "Df Model:                          36                                         \n",
      "Covariance Type:            nonrobust                                         \n",
      "================================================================================\n",
      "                   coef    std err          t      P>|t|      [0.025      0.975]\n",
      "--------------------------------------------------------------------------------\n",
      "Intercept        4.4358      0.092     48.104      0.000       4.255       4.617\n",
      "active           0.0185      0.019      0.978      0.328      -0.019       0.056\n",
      "carbuy           0.0230      0.019      1.198      0.231      -0.015       0.061\n",
      "carcatvalue     -0.0290      0.022     -1.324      0.185      -0.072       0.014\n",
      "card            -0.1543      0.008    -19.757      0.000      -0.170      -0.139\n",
      "card2benefit    -0.0022      0.008     -0.266      0.790      -0.018       0.014\n",
      "card2fee        -0.0368      0.024     -1.555      0.120      -0.083       0.010\n",
      "cardfee         -0.0114      0.024     -0.483      0.629      -0.057       0.035\n",
      "carown           0.0165      0.023      0.724      0.469      -0.028       0.061\n",
      "carvalue         0.0013      0.001      1.033      0.302      -0.001       0.004\n",
      "churn            0.0243      0.024      1.003      0.316      -0.023       0.072\n",
      "creddebt         0.0096      0.004      2.515      0.012       0.002       0.017\n",
      "debtinc         -0.0037      0.002     -2.062      0.039      -0.007      -0.000\n",
      "default          0.0190      0.026      0.731      0.465      -0.032       0.070\n",
      "edcat           -0.0059      0.009     -0.638      0.524      -0.024       0.012\n",
      "empcat          -0.0061      0.011     -0.578      0.563      -0.027       0.015\n",
      "gender          -0.0986      0.018     -5.331      0.000      -0.135      -0.062\n",
      "inccat           0.1815      0.016     11.195      0.000       0.150       0.213\n",
      "internet         0.0188      0.008      2.432      0.015       0.004       0.034\n",
      "othdebt          0.0085      0.003      3.053      0.002       0.003       0.014\n",
      "owncd            0.0631      0.046      1.380      0.168      -0.027       0.153\n",
      "owndvd           0.0883      0.041      2.168      0.030       0.008       0.168\n",
      "ownpda          -0.0048      0.029     -0.164      0.870      -0.062       0.052\n",
      "owntv           -0.0344      0.081     -0.423      0.672      -0.194       0.125\n",
      "ownvcr           0.0686      0.041      1.655      0.098      -0.013       0.150\n",
      "pets            -0.0015      0.003     -0.561      0.575      -0.007       0.004\n",
      "polcontrib       0.0221      0.022      1.014      0.311      -0.021       0.065\n",
      "polparty         0.0024      0.019      0.124      0.901      -0.035       0.040\n",
      "reason          -0.0033      0.003     -1.031      0.303      -0.010       0.003\n",
      "response_01     -0.0075      0.034     -0.223      0.823      -0.073       0.058\n",
      "response_02     -0.0053      0.028     -0.190      0.849      -0.059       0.049\n",
      "response_03      0.0657      0.031      2.136      0.033       0.005       0.126\n",
      "retire          -0.1229      0.037     -3.287      0.001      -0.196      -0.050\n",
      "telecommute      0.0084      0.024      0.354      0.723      -0.038       0.055\n",
      "tenure        2.395e-05      0.001      0.042      0.966      -0.001       0.001\n",
      "union            0.0203      0.026      0.786      0.432      -0.030       0.071\n",
      "wiremon         -0.0006      0.001     -0.915      0.360      -0.002       0.001\n",
      "==============================================================================\n",
      "Omnibus:                       57.190   Durbin-Watson:                   1.997\n",
      "Prob(Omnibus):                  0.000   Jarque-Bera (JB):               91.271\n",
      "Skew:                           0.087   Prob(JB):                     1.52e-20\n",
      "Kurtosis:                       3.639   Cond. No.                         657.\n",
      "==============================================================================\n",
      "\n",
      "Warnings:\n",
      "[1] Standard Errors assume that the covariance matrix of the errors is correctly specified.\n"
     ]
    }
   ],
   "source": [
    "model2 = smf.ols(eqn, data=ndf).fit()\n",
    "print(model2.summary())"
   ]
  },
  {
   "cell_type": "code",
   "execution_count": 103,
   "metadata": {},
   "outputs": [
    {
     "data": {
      "text/plain": [
       "[['carvalue', 'equipmon', 'income', 'wireten'], ['card', 'cardmon', 'tenure']]"
      ]
     },
     "execution_count": 103,
     "metadata": {},
     "output_type": "execute_result"
    }
   ],
   "source": [
    "lasso_imp"
   ]
  },
  {
   "cell_type": "code",
   "execution_count": 109,
   "metadata": {},
   "outputs": [],
   "source": [
    "lasso_eqn='trans_spend~carvalue+equipmon+income+card+cardmon'"
   ]
  },
  {
   "cell_type": "code",
   "execution_count": 110,
   "metadata": {},
   "outputs": [
    {
     "name": "stdout",
     "output_type": "stream",
     "text": [
      "                            OLS Regression Results                            \n",
      "==============================================================================\n",
      "Dep. Variable:            trans_spend   R-squared:                       0.194\n",
      "Model:                            OLS   Adj. R-squared:                  0.193\n",
      "Method:                 Least Squares   F-statistic:                     240.1\n",
      "Date:                Wed, 20 May 2020   Prob (F-statistic):          1.92e-230\n",
      "Time:                        12:06:39   Log-Likelihood:                -5067.8\n",
      "No. Observations:                5000   AIC:                         1.015e+04\n",
      "Df Residuals:                    4994   BIC:                         1.019e+04\n",
      "Df Model:                           5                                         \n",
      "Covariance Type:            nonrobust                                         \n",
      "==============================================================================\n",
      "                 coef    std err          t      P>|t|      [0.025      0.975]\n",
      "------------------------------------------------------------------------------\n",
      "Intercept      4.6883      0.027    171.565      0.000       4.635       4.742\n",
      "carvalue       0.0046      0.001      6.696      0.000       0.003       0.006\n",
      "equipmon       0.0013      0.000      2.632      0.009       0.000       0.002\n",
      "income         0.0034      0.000     12.793      0.000       0.003       0.004\n",
      "card          -0.1583      0.008    -19.863      0.000      -0.174      -0.143\n",
      "cardmon       -0.0016      0.001     -2.477      0.013      -0.003      -0.000\n",
      "==============================================================================\n",
      "Omnibus:                       74.715   Durbin-Watson:                   1.993\n",
      "Prob(Omnibus):                  0.000   Jarque-Bera (JB):              134.348\n",
      "Skew:                           0.075   Prob(JB):                     6.71e-30\n",
      "Kurtosis:                       3.789   Cond. No.                         252.\n",
      "==============================================================================\n",
      "\n",
      "Warnings:\n",
      "[1] Standard Errors assume that the covariance matrix of the errors is correctly specified.\n"
     ]
    }
   ],
   "source": [
    "lasso = smf.ols(lasso_eqn, data=ndf).fit()\n",
    "print(lasso.summary())"
   ]
  },
  {
   "cell_type": "markdown",
   "metadata": {},
   "source": [
    "### from th above model it's evident that these variables  'carvalue,equipmon,income,card,cardmon' were able to explain almost 20% of variance in the target variable, so we regard them as top 4 key drivers for the  customers spend"
   ]
  }
 ],
 "metadata": {
  "kernelspec": {
   "display_name": "Python 3",
   "language": "python",
   "name": "python3"
  },
  "language_info": {
   "codemirror_mode": {
    "name": "ipython",
    "version": 3
   },
   "file_extension": ".py",
   "mimetype": "text/x-python",
   "name": "python",
   "nbconvert_exporter": "python",
   "pygments_lexer": "ipython3",
   "version": "3.7.6"
  }
 },
 "nbformat": 4,
 "nbformat_minor": 2
}
