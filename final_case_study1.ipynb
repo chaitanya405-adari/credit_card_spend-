{
 "cells": [
  {
   "cell_type": "markdown",
   "metadata": {},
   "source": [
    "1.no feature selction done \n",
    "2.no outlier  treatment\n"
   ]
  },
  {
   "cell_type": "code",
   "execution_count": null,
   "metadata": {},
   "outputs": [],
   "source": []
  },
  {
   "cell_type": "code",
   "execution_count": 1,
   "metadata": {},
   "outputs": [],
   "source": [
    "import pandas as pd\n",
    "import numpy as np\n",
    "%matplotlib inline\n",
    "import matplotlib \n",
    "matplotlib.rcParams[\"figure.figsize\"] = (10,5)\n"
   ]
  },
  {
   "cell_type": "code",
   "execution_count": 2,
   "metadata": {},
   "outputs": [
    {
     "name": "stderr",
     "output_type": "stream",
     "text": [
      "E:\\programs\\lib\\site-packages\\IPython\\core\\interactiveshell.py:3254: DtypeWarning: Columns (2,19,21,49,85,86,100) have mixed types.Specify dtype option on import or set low_memory=False.\n",
      "  if (await self.run_code(code, result,  async_=asy)):\n"
     ]
    }
   ],
   "source": [
    "df=pd.read_clipboard()"
   ]
  },
  {
   "cell_type": "code",
   "execution_count": 3,
   "metadata": {},
   "outputs": [
    {
     "data": {
      "text/html": [
       "<div>\n",
       "<style scoped>\n",
       "    .dataframe tbody tr th:only-of-type {\n",
       "        vertical-align: middle;\n",
       "    }\n",
       "\n",
       "    .dataframe tbody tr th {\n",
       "        vertical-align: top;\n",
       "    }\n",
       "\n",
       "    .dataframe thead th {\n",
       "        text-align: right;\n",
       "    }\n",
       "</style>\n",
       "<table border=\"1\" class=\"dataframe\">\n",
       "  <thead>\n",
       "    <tr style=\"text-align: right;\">\n",
       "      <th></th>\n",
       "      <th>custid</th>\n",
       "      <th>region</th>\n",
       "      <th>townsize</th>\n",
       "      <th>gender</th>\n",
       "      <th>age</th>\n",
       "      <th>agecat</th>\n",
       "      <th>birthmonth</th>\n",
       "      <th>ed</th>\n",
       "      <th>edcat</th>\n",
       "      <th>jobcat</th>\n",
       "      <th>...</th>\n",
       "      <th>owncd</th>\n",
       "      <th>ownpda</th>\n",
       "      <th>ownpc</th>\n",
       "      <th>ownipod</th>\n",
       "      <th>owngame</th>\n",
       "      <th>ownfax</th>\n",
       "      <th>news</th>\n",
       "      <th>response_01</th>\n",
       "      <th>response_02</th>\n",
       "      <th>response_03</th>\n",
       "    </tr>\n",
       "  </thead>\n",
       "  <tbody>\n",
       "    <tr>\n",
       "      <th>0</th>\n",
       "      <td>3964-QJWTRG-NPN</td>\n",
       "      <td>1.0</td>\n",
       "      <td>2.00</td>\n",
       "      <td>1.0</td>\n",
       "      <td>20.0</td>\n",
       "      <td>2.0</td>\n",
       "      <td>September</td>\n",
       "      <td>15.0</td>\n",
       "      <td>3.0</td>\n",
       "      <td>1.0</td>\n",
       "      <td>...</td>\n",
       "      <td>0.0</td>\n",
       "      <td>0.0</td>\n",
       "      <td>0.0</td>\n",
       "      <td>1.0</td>\n",
       "      <td>1.0</td>\n",
       "      <td>0.0</td>\n",
       "      <td>0.0</td>\n",
       "      <td>0.0</td>\n",
       "      <td>1.0</td>\n",
       "      <td>0.0</td>\n",
       "    </tr>\n",
       "    <tr>\n",
       "      <th>1</th>\n",
       "      <td>0648-AIPJSP-UVM</td>\n",
       "      <td>5.0</td>\n",
       "      <td>5.00</td>\n",
       "      <td>0.0</td>\n",
       "      <td>22.0</td>\n",
       "      <td>2.0</td>\n",
       "      <td>May</td>\n",
       "      <td>17.0</td>\n",
       "      <td>4.0</td>\n",
       "      <td>2.0</td>\n",
       "      <td>...</td>\n",
       "      <td>1.0</td>\n",
       "      <td>1.0</td>\n",
       "      <td>1.0</td>\n",
       "      <td>1.0</td>\n",
       "      <td>1.0</td>\n",
       "      <td>1.0</td>\n",
       "      <td>1.0</td>\n",
       "      <td>0.0</td>\n",
       "      <td>0.0</td>\n",
       "      <td>0.0</td>\n",
       "    </tr>\n",
       "    <tr>\n",
       "      <th>2</th>\n",
       "      <td>5195-TLUDJE-HVO</td>\n",
       "      <td>3.0</td>\n",
       "      <td>4.00</td>\n",
       "      <td>1.0</td>\n",
       "      <td>67.0</td>\n",
       "      <td>6.0</td>\n",
       "      <td>June</td>\n",
       "      <td>14.0</td>\n",
       "      <td>2.0</td>\n",
       "      <td>2.0</td>\n",
       "      <td>...</td>\n",
       "      <td>1.0</td>\n",
       "      <td>0.0</td>\n",
       "      <td>0.0</td>\n",
       "      <td>0.0</td>\n",
       "      <td>0.0</td>\n",
       "      <td>0.0</td>\n",
       "      <td>1.0</td>\n",
       "      <td>0.0</td>\n",
       "      <td>0.0</td>\n",
       "      <td>0.0</td>\n",
       "    </tr>\n",
       "    <tr>\n",
       "      <th>3</th>\n",
       "      <td>4459-VLPQUH-3OL</td>\n",
       "      <td>4.0</td>\n",
       "      <td>3.00</td>\n",
       "      <td>0.0</td>\n",
       "      <td>23.0</td>\n",
       "      <td>2.0</td>\n",
       "      <td>May</td>\n",
       "      <td>16.0</td>\n",
       "      <td>3.0</td>\n",
       "      <td>2.0</td>\n",
       "      <td>...</td>\n",
       "      <td>1.0</td>\n",
       "      <td>0.0</td>\n",
       "      <td>1.0</td>\n",
       "      <td>1.0</td>\n",
       "      <td>1.0</td>\n",
       "      <td>0.0</td>\n",
       "      <td>1.0</td>\n",
       "      <td>1.0</td>\n",
       "      <td>0.0</td>\n",
       "      <td>0.0</td>\n",
       "    </tr>\n",
       "    <tr>\n",
       "      <th>4</th>\n",
       "      <td>8158-SMTQFB-CNO</td>\n",
       "      <td>2.0</td>\n",
       "      <td>2.00</td>\n",
       "      <td>0.0</td>\n",
       "      <td>26.0</td>\n",
       "      <td>3.0</td>\n",
       "      <td>July</td>\n",
       "      <td>16.0</td>\n",
       "      <td>3.0</td>\n",
       "      <td>2.0</td>\n",
       "      <td>...</td>\n",
       "      <td>1.0</td>\n",
       "      <td>0.0</td>\n",
       "      <td>1.0</td>\n",
       "      <td>0.0</td>\n",
       "      <td>1.0</td>\n",
       "      <td>0.0</td>\n",
       "      <td>0.0</td>\n",
       "      <td>0.0</td>\n",
       "      <td>1.0</td>\n",
       "      <td>0.0</td>\n",
       "    </tr>\n",
       "  </tbody>\n",
       "</table>\n",
       "<p>5 rows × 130 columns</p>\n",
       "</div>"
      ],
      "text/plain": [
       "            custid  region townsize  gender   age  agecat birthmonth    ed  \\\n",
       "0  3964-QJWTRG-NPN     1.0     2.00     1.0  20.0     2.0  September  15.0   \n",
       "1  0648-AIPJSP-UVM     5.0     5.00     0.0  22.0     2.0        May  17.0   \n",
       "2  5195-TLUDJE-HVO     3.0     4.00     1.0  67.0     6.0       June  14.0   \n",
       "3  4459-VLPQUH-3OL     4.0     3.00     0.0  23.0     2.0        May  16.0   \n",
       "4  8158-SMTQFB-CNO     2.0     2.00     0.0  26.0     3.0       July  16.0   \n",
       "\n",
       "   edcat  jobcat  ...  owncd  ownpda  ownpc  ownipod  owngame  ownfax  news  \\\n",
       "0    3.0     1.0  ...    0.0     0.0    0.0      1.0      1.0     0.0   0.0   \n",
       "1    4.0     2.0  ...    1.0     1.0    1.0      1.0      1.0     1.0   1.0   \n",
       "2    2.0     2.0  ...    1.0     0.0    0.0      0.0      0.0     0.0   1.0   \n",
       "3    3.0     2.0  ...    1.0     0.0    1.0      1.0      1.0     0.0   1.0   \n",
       "4    3.0     2.0  ...    1.0     0.0    1.0      0.0      1.0     0.0   0.0   \n",
       "\n",
       "   response_01  response_02 response_03  \n",
       "0          0.0          1.0         0.0  \n",
       "1          0.0          0.0         0.0  \n",
       "2          0.0          0.0         0.0  \n",
       "3          1.0          0.0         0.0  \n",
       "4          0.0          1.0         0.0  \n",
       "\n",
       "[5 rows x 130 columns]"
      ]
     },
     "execution_count": 3,
     "metadata": {},
     "output_type": "execute_result"
    }
   ],
   "source": [
    "df.head()"
   ]
  },
  {
   "cell_type": "code",
   "execution_count": 4,
   "metadata": {},
   "outputs": [],
   "source": [
    "imp=['ownfax', 'ownvcr', 'active', 'voice', 'internet', 'owntv', 'tollmon', 'equipten', 'card2spent', 'equip', 'tollfree', 'cardmon', 'wireten', 'ebill', 'cardtenurecat', 'equipmon', 'wireless', 'card2benefit', 'pager', 'response_03', 'response_01', 'card2tenurecat', 'ownpc', 'owngame', 'card2type', 'card2fee', 'wiremon', 'tollten', 'cardspent', 'owncd', 'churn', 'callcard', 'multline', 'forward', 'owndvd', 'response_02', 'tenure', 'cardten', 'ownpda', 'ownipod', 'card2', 'news']"
   ]
  },
  {
   "cell_type": "code",
   "execution_count": 5,
   "metadata": {},
   "outputs": [],
   "source": [
    "ndf=df.loc[:,imp]"
   ]
  },
  {
   "cell_type": "code",
   "execution_count": 6,
   "metadata": {},
   "outputs": [],
   "source": [
    "a=['address', 'age', 'bfast', 'birthmonth', 'callid', 'callwait', 'card2tenure', 'cardtenure', 'cartype', 'commutebike', 'commutebus', 'commutecar', 'commutecarpool', 'commutecat', 'commutemotorcycle', 'commutenonmotor', 'commutepublic', 'commuterail', 'commutetime', 'commutewalk', 'confer','custid', 'ed', 'employ', 'hourstv', 'lncardmon', 'lncardten', 'lncreddebt', 'lnequipmon', 'lnequipten', 'lninc', 'lnlongmon', 'lnlongten', 'lnothdebt', 'lntollmon', 'lntollten', 'lnwiremon', 'lnwireten', 'longmon', 'longten', 'pets_birds', 'pets_cats', 'pets_dogs', 'pets_freshfish', 'pets_reptiles', 'pets_saltfish', 'pets_small', 'spoused']"
   ]
  },
  {
   "cell_type": "code",
   "execution_count": 7,
   "metadata": {},
   "outputs": [],
   "source": [
    "a=set(a)"
   ]
  },
  {
   "cell_type": "code",
   "execution_count": 8,
   "metadata": {},
   "outputs": [],
   "source": [
    "b=set(df.columns)"
   ]
  },
  {
   "cell_type": "code",
   "execution_count": 9,
   "metadata": {},
   "outputs": [],
   "source": [
    "ndf=df.loc[:,b-a]"
   ]
  },
  {
   "cell_type": "code",
   "execution_count": 10,
   "metadata": {},
   "outputs": [],
   "source": [
    "ndf['total_spend']=ndf['cardspent']+ndf['card2spent']"
   ]
  },
  {
   "cell_type": "code",
   "execution_count": 11,
   "metadata": {},
   "outputs": [],
   "source": [
    "del ndf['card2spent']"
   ]
  },
  {
   "cell_type": "code",
   "execution_count": 12,
   "metadata": {},
   "outputs": [],
   "source": [
    "del ndf['cardspent']"
   ]
  },
  {
   "cell_type": "code",
   "execution_count": 13,
   "metadata": {},
   "outputs": [],
   "source": [
    "import seaborn as sns\n",
    "import  matplotlib"
   ]
  },
  {
   "cell_type": "code",
   "execution_count": 14,
   "metadata": {},
   "outputs": [
    {
     "data": {
      "text/html": [
       "<div>\n",
       "<style scoped>\n",
       "    .dataframe tbody tr th:only-of-type {\n",
       "        vertical-align: middle;\n",
       "    }\n",
       "\n",
       "    .dataframe tbody tr th {\n",
       "        vertical-align: top;\n",
       "    }\n",
       "\n",
       "    .dataframe thead th {\n",
       "        text-align: right;\n",
       "    }\n",
       "</style>\n",
       "<table border=\"1\" class=\"dataframe\">\n",
       "  <thead>\n",
       "    <tr style=\"text-align: right;\">\n",
       "      <th></th>\n",
       "      <th>wiremon</th>\n",
       "      <th>churn</th>\n",
       "      <th>owngame</th>\n",
       "      <th>owntv</th>\n",
       "      <th>polview</th>\n",
       "      <th>carvalue</th>\n",
       "      <th>income</th>\n",
       "      <th>multline</th>\n",
       "      <th>commute</th>\n",
       "      <th>gender</th>\n",
       "      <th>...</th>\n",
       "      <th>jobsat</th>\n",
       "      <th>pager</th>\n",
       "      <th>pets</th>\n",
       "      <th>cardfee</th>\n",
       "      <th>equipmon</th>\n",
       "      <th>creddebt</th>\n",
       "      <th>voice</th>\n",
       "      <th>edcat</th>\n",
       "      <th>ebill</th>\n",
       "      <th>total_spend</th>\n",
       "    </tr>\n",
       "  </thead>\n",
       "  <tbody>\n",
       "    <tr>\n",
       "      <th>count</th>\n",
       "      <td>5000.000000</td>\n",
       "      <td>5000.000000</td>\n",
       "      <td>5000.000000</td>\n",
       "      <td>5000.000000</td>\n",
       "      <td>5000.00000</td>\n",
       "      <td>5000.000000</td>\n",
       "      <td>5000.000000</td>\n",
       "      <td>5000.000000</td>\n",
       "      <td>5000.000000</td>\n",
       "      <td>5000.000000</td>\n",
       "      <td>...</td>\n",
       "      <td>5000.000000</td>\n",
       "      <td>5000.000000</td>\n",
       "      <td>5000.000000</td>\n",
       "      <td>5000.000000</td>\n",
       "      <td>5000.000000</td>\n",
       "      <td>5000.000000</td>\n",
       "      <td>5000.000000</td>\n",
       "      <td>5000.000000</td>\n",
       "      <td>5000.000000</td>\n",
       "      <td>5000.00000</td>\n",
       "    </tr>\n",
       "    <tr>\n",
       "      <th>mean</th>\n",
       "      <td>10.701190</td>\n",
       "      <td>0.253200</td>\n",
       "      <td>0.474800</td>\n",
       "      <td>0.983000</td>\n",
       "      <td>4.08860</td>\n",
       "      <td>23.232580</td>\n",
       "      <td>54.759600</td>\n",
       "      <td>0.488400</td>\n",
       "      <td>2.996200</td>\n",
       "      <td>0.503600</td>\n",
       "      <td>...</td>\n",
       "      <td>2.964200</td>\n",
       "      <td>0.243600</td>\n",
       "      <td>3.067400</td>\n",
       "      <td>0.189800</td>\n",
       "      <td>12.991310</td>\n",
       "      <td>1.857364</td>\n",
       "      <td>0.303000</td>\n",
       "      <td>2.672000</td>\n",
       "      <td>0.348600</td>\n",
       "      <td>498.07863</td>\n",
       "    </tr>\n",
       "    <tr>\n",
       "      <th>std</th>\n",
       "      <td>19.799837</td>\n",
       "      <td>0.434888</td>\n",
       "      <td>0.499415</td>\n",
       "      <td>0.129284</td>\n",
       "      <td>1.38706</td>\n",
       "      <td>21.231637</td>\n",
       "      <td>55.377511</td>\n",
       "      <td>0.499915</td>\n",
       "      <td>2.743518</td>\n",
       "      <td>0.500037</td>\n",
       "      <td>...</td>\n",
       "      <td>1.379456</td>\n",
       "      <td>0.429297</td>\n",
       "      <td>3.414497</td>\n",
       "      <td>0.392182</td>\n",
       "      <td>19.212943</td>\n",
       "      <td>3.415789</td>\n",
       "      <td>0.459601</td>\n",
       "      <td>1.211738</td>\n",
       "      <td>0.476575</td>\n",
       "      <td>351.52927</td>\n",
       "    </tr>\n",
       "    <tr>\n",
       "      <th>min</th>\n",
       "      <td>0.000000</td>\n",
       "      <td>0.000000</td>\n",
       "      <td>0.000000</td>\n",
       "      <td>0.000000</td>\n",
       "      <td>1.00000</td>\n",
       "      <td>-1.000000</td>\n",
       "      <td>9.000000</td>\n",
       "      <td>0.000000</td>\n",
       "      <td>1.000000</td>\n",
       "      <td>0.000000</td>\n",
       "      <td>...</td>\n",
       "      <td>1.000000</td>\n",
       "      <td>0.000000</td>\n",
       "      <td>0.000000</td>\n",
       "      <td>0.000000</td>\n",
       "      <td>0.000000</td>\n",
       "      <td>0.000000</td>\n",
       "      <td>0.000000</td>\n",
       "      <td>1.000000</td>\n",
       "      <td>0.000000</td>\n",
       "      <td>8.11000</td>\n",
       "    </tr>\n",
       "    <tr>\n",
       "      <th>25%</th>\n",
       "      <td>0.000000</td>\n",
       "      <td>0.000000</td>\n",
       "      <td>0.000000</td>\n",
       "      <td>1.000000</td>\n",
       "      <td>3.00000</td>\n",
       "      <td>9.200000</td>\n",
       "      <td>24.000000</td>\n",
       "      <td>0.000000</td>\n",
       "      <td>1.000000</td>\n",
       "      <td>0.000000</td>\n",
       "      <td>...</td>\n",
       "      <td>2.000000</td>\n",
       "      <td>0.000000</td>\n",
       "      <td>0.000000</td>\n",
       "      <td>0.000000</td>\n",
       "      <td>0.000000</td>\n",
       "      <td>0.390000</td>\n",
       "      <td>0.000000</td>\n",
       "      <td>2.000000</td>\n",
       "      <td>0.000000</td>\n",
       "      <td>276.28250</td>\n",
       "    </tr>\n",
       "    <tr>\n",
       "      <th>50%</th>\n",
       "      <td>0.000000</td>\n",
       "      <td>0.000000</td>\n",
       "      <td>0.000000</td>\n",
       "      <td>1.000000</td>\n",
       "      <td>4.00000</td>\n",
       "      <td>17.000000</td>\n",
       "      <td>38.000000</td>\n",
       "      <td>0.000000</td>\n",
       "      <td>1.000000</td>\n",
       "      <td>1.000000</td>\n",
       "      <td>...</td>\n",
       "      <td>3.000000</td>\n",
       "      <td>0.000000</td>\n",
       "      <td>2.000000</td>\n",
       "      <td>0.000000</td>\n",
       "      <td>0.000000</td>\n",
       "      <td>0.930000</td>\n",
       "      <td>0.000000</td>\n",
       "      <td>2.000000</td>\n",
       "      <td>0.000000</td>\n",
       "      <td>414.25000</td>\n",
       "    </tr>\n",
       "    <tr>\n",
       "      <th>75%</th>\n",
       "      <td>20.962500</td>\n",
       "      <td>1.000000</td>\n",
       "      <td>1.000000</td>\n",
       "      <td>1.000000</td>\n",
       "      <td>5.00000</td>\n",
       "      <td>31.100000</td>\n",
       "      <td>67.000000</td>\n",
       "      <td>1.000000</td>\n",
       "      <td>4.000000</td>\n",
       "      <td>1.000000</td>\n",
       "      <td>...</td>\n",
       "      <td>4.000000</td>\n",
       "      <td>0.000000</td>\n",
       "      <td>5.000000</td>\n",
       "      <td>0.000000</td>\n",
       "      <td>30.800000</td>\n",
       "      <td>2.060000</td>\n",
       "      <td>1.000000</td>\n",
       "      <td>4.000000</td>\n",
       "      <td>1.000000</td>\n",
       "      <td>615.56250</td>\n",
       "    </tr>\n",
       "    <tr>\n",
       "      <th>max</th>\n",
       "      <td>186.250000</td>\n",
       "      <td>1.000000</td>\n",
       "      <td>1.000000</td>\n",
       "      <td>1.000000</td>\n",
       "      <td>7.00000</td>\n",
       "      <td>99.600000</td>\n",
       "      <td>1073.000000</td>\n",
       "      <td>1.000000</td>\n",
       "      <td>10.000000</td>\n",
       "      <td>1.000000</td>\n",
       "      <td>...</td>\n",
       "      <td>5.000000</td>\n",
       "      <td>1.000000</td>\n",
       "      <td>21.000000</td>\n",
       "      <td>1.000000</td>\n",
       "      <td>106.300000</td>\n",
       "      <td>109.070000</td>\n",
       "      <td>1.000000</td>\n",
       "      <td>5.000000</td>\n",
       "      <td>1.000000</td>\n",
       "      <td>4881.05000</td>\n",
       "    </tr>\n",
       "  </tbody>\n",
       "</table>\n",
       "<p>8 rows × 79 columns</p>\n",
       "</div>"
      ],
      "text/plain": [
       "           wiremon        churn      owngame        owntv     polview  \\\n",
       "count  5000.000000  5000.000000  5000.000000  5000.000000  5000.00000   \n",
       "mean     10.701190     0.253200     0.474800     0.983000     4.08860   \n",
       "std      19.799837     0.434888     0.499415     0.129284     1.38706   \n",
       "min       0.000000     0.000000     0.000000     0.000000     1.00000   \n",
       "25%       0.000000     0.000000     0.000000     1.000000     3.00000   \n",
       "50%       0.000000     0.000000     0.000000     1.000000     4.00000   \n",
       "75%      20.962500     1.000000     1.000000     1.000000     5.00000   \n",
       "max     186.250000     1.000000     1.000000     1.000000     7.00000   \n",
       "\n",
       "          carvalue       income     multline      commute       gender  ...  \\\n",
       "count  5000.000000  5000.000000  5000.000000  5000.000000  5000.000000  ...   \n",
       "mean     23.232580    54.759600     0.488400     2.996200     0.503600  ...   \n",
       "std      21.231637    55.377511     0.499915     2.743518     0.500037  ...   \n",
       "min      -1.000000     9.000000     0.000000     1.000000     0.000000  ...   \n",
       "25%       9.200000    24.000000     0.000000     1.000000     0.000000  ...   \n",
       "50%      17.000000    38.000000     0.000000     1.000000     1.000000  ...   \n",
       "75%      31.100000    67.000000     1.000000     4.000000     1.000000  ...   \n",
       "max      99.600000  1073.000000     1.000000    10.000000     1.000000  ...   \n",
       "\n",
       "            jobsat        pager         pets      cardfee     equipmon  \\\n",
       "count  5000.000000  5000.000000  5000.000000  5000.000000  5000.000000   \n",
       "mean      2.964200     0.243600     3.067400     0.189800    12.991310   \n",
       "std       1.379456     0.429297     3.414497     0.392182    19.212943   \n",
       "min       1.000000     0.000000     0.000000     0.000000     0.000000   \n",
       "25%       2.000000     0.000000     0.000000     0.000000     0.000000   \n",
       "50%       3.000000     0.000000     2.000000     0.000000     0.000000   \n",
       "75%       4.000000     0.000000     5.000000     0.000000    30.800000   \n",
       "max       5.000000     1.000000    21.000000     1.000000   106.300000   \n",
       "\n",
       "          creddebt        voice        edcat        ebill  total_spend  \n",
       "count  5000.000000  5000.000000  5000.000000  5000.000000   5000.00000  \n",
       "mean      1.857364     0.303000     2.672000     0.348600    498.07863  \n",
       "std       3.415789     0.459601     1.211738     0.476575    351.52927  \n",
       "min       0.000000     0.000000     1.000000     0.000000      8.11000  \n",
       "25%       0.390000     0.000000     2.000000     0.000000    276.28250  \n",
       "50%       0.930000     0.000000     2.000000     0.000000    414.25000  \n",
       "75%       2.060000     1.000000     4.000000     1.000000    615.56250  \n",
       "max     109.070000     1.000000     5.000000     1.000000   4881.05000  \n",
       "\n",
       "[8 rows x 79 columns]"
      ]
     },
     "execution_count": 14,
     "metadata": {},
     "output_type": "execute_result"
    }
   ],
   "source": [
    "ndf.describe()"
   ]
  },
  {
   "cell_type": "code",
   "execution_count": 15,
   "metadata": {},
   "outputs": [],
   "source": [
    "ndf=ndf.replace('#NULL!',np.NaN)"
   ]
  },
  {
   "cell_type": "code",
   "execution_count": 16,
   "metadata": {},
   "outputs": [],
   "source": [
    "ndf.townsize=ndf.townsize.astype('float')"
   ]
  },
  {
   "cell_type": "code",
   "execution_count": 17,
   "metadata": {},
   "outputs": [
    {
     "data": {
      "text/plain": [
       "float64    80\n",
       "object      1\n",
       "dtype: int64"
      ]
     },
     "execution_count": 17,
     "metadata": {},
     "output_type": "execute_result"
    }
   ],
   "source": [
    "ndf.dtypes.value_counts()"
   ]
  },
  {
   "cell_type": "code",
   "execution_count": 18,
   "metadata": {},
   "outputs": [
    {
     "data": {
      "text/plain": [
       "dtype('float64')"
      ]
     },
     "execution_count": 18,
     "metadata": {},
     "output_type": "execute_result"
    }
   ],
   "source": [
    "ndf.townsize.dtype"
   ]
  },
  {
   "cell_type": "code",
   "execution_count": 19,
   "metadata": {},
   "outputs": [],
   "source": [
    " del ndf['cardten']"
   ]
  },
  {
   "cell_type": "code",
   "execution_count": 20,
   "metadata": {},
   "outputs": [
    {
     "data": {
      "text/plain": [
       "2"
      ]
     },
     "execution_count": 20,
     "metadata": {},
     "output_type": "execute_result"
    }
   ],
   "source": [
    "ndf.card2fee.nunique(dropna=True)"
   ]
  },
  {
   "cell_type": "code",
   "execution_count": 21,
   "metadata": {},
   "outputs": [
    {
     "data": {
      "text/plain": [
       "0       1.0\n",
       "1       1.0\n",
       "2       0.0\n",
       "3       0.0\n",
       "4       0.0\n",
       "       ... \n",
       "4995    0.0\n",
       "4996    0.0\n",
       "4997    0.0\n",
       "4998    0.0\n",
       "4999    0.0\n",
       "Name: pager, Length: 5000, dtype: float64"
      ]
     },
     "execution_count": 21,
     "metadata": {},
     "output_type": "execute_result"
    }
   ],
   "source": [
    "df['pager']"
   ]
  },
  {
   "cell_type": "code",
   "execution_count": 22,
   "metadata": {},
   "outputs": [],
   "source": [
    "c=list(ndf.columns)"
   ]
  },
  {
   "cell_type": "code",
   "execution_count": 23,
   "metadata": {},
   "outputs": [],
   "source": [
    "a=[]\n",
    "b=[]\n",
    "for e in c:\n",
    "    if ndf[e].nunique(dropna=True)>5:\n",
    "        a.append(e)\n",
    "    else:\n",
    "        b.append(e)\n",
    "        "
   ]
  },
  {
   "cell_type": "code",
   "execution_count": 24,
   "metadata": {},
   "outputs": [],
   "source": [
    "df_dis=ndf.loc[:,a]"
   ]
  },
  {
   "cell_type": "code",
   "execution_count": 25,
   "metadata": {},
   "outputs": [],
   "source": [
    "df_con=ndf.loc[:,b]"
   ]
  },
  {
   "cell_type": "code",
   "execution_count": 26,
   "metadata": {},
   "outputs": [
    {
     "data": {
      "text/plain": [
       "<matplotlib.axes._subplots.AxesSubplot at 0x214ddf10f88>"
      ]
     },
     "execution_count": 26,
     "metadata": {},
     "output_type": "execute_result"
    },
    {
     "data": {
      "image/png": "[encoded data removed]",
      "text/plain": [
       "<Figure size 720x360 with 1 Axes>"
      ]
     },
     "metadata": {
      "needs_background": "light"
     },
     "output_type": "display_data"
    }
   ],
   "source": [
    "sns.distplot(np.sqrt(np.sqrt(df_dis.total_spend)))"
   ]
  },
  {
   "cell_type": "code",
   "execution_count": 27,
   "metadata": {},
   "outputs": [
    {
     "data": {
      "text/plain": [
       "<matplotlib.axes._subplots.AxesSubplot at 0x214def127c8>"
      ]
     },
     "execution_count": 27,
     "metadata": {},
     "output_type": "execute_result"
    },
    {
     "data": {
      "image/png": "[encoded data removed]",
      "text/plain": [
       "<Figure size 720x360 with 1 Axes>"
      ]
     },
     "metadata": {
      "needs_background": "light"
     },
     "output_type": "display_data"
    }
   ],
   "source": [
    "sns.regplot(x='total_spend',y='debtinc',data=df_dis)"
   ]
  },
  {
   "cell_type": "code",
   "execution_count": 28,
   "metadata": {},
   "outputs": [
    {
     "data": {
      "text/html": [
       "<div>\n",
       "<style scoped>\n",
       "    .dataframe tbody tr th:only-of-type {\n",
       "        vertical-align: middle;\n",
       "    }\n",
       "\n",
       "    .dataframe tbody tr th {\n",
       "        vertical-align: top;\n",
       "    }\n",
       "\n",
       "    .dataframe thead th {\n",
       "        text-align: right;\n",
       "    }\n",
       "</style>\n",
       "<table border=\"1\" class=\"dataframe\">\n",
       "  <thead>\n",
       "    <tr style=\"text-align: right;\">\n",
       "      <th></th>\n",
       "      <th>churn</th>\n",
       "      <th>owngame</th>\n",
       "      <th>owntv</th>\n",
       "      <th>multline</th>\n",
       "      <th>gender</th>\n",
       "      <th>addresscat</th>\n",
       "      <th>homeown</th>\n",
       "      <th>tollfree</th>\n",
       "      <th>card2tenurecat</th>\n",
       "      <th>agecat</th>\n",
       "      <th>...</th>\n",
       "      <th>polcontrib</th>\n",
       "      <th>wireless</th>\n",
       "      <th>ownpc</th>\n",
       "      <th>ownpda</th>\n",
       "      <th>jobsat</th>\n",
       "      <th>pager</th>\n",
       "      <th>cardfee</th>\n",
       "      <th>voice</th>\n",
       "      <th>edcat</th>\n",
       "      <th>ebill</th>\n",
       "    </tr>\n",
       "  </thead>\n",
       "  <tbody>\n",
       "    <tr>\n",
       "      <th>0</th>\n",
       "      <td>1.0</td>\n",
       "      <td>1.0</td>\n",
       "      <td>1.0</td>\n",
       "      <td>1.0</td>\n",
       "      <td>1.0</td>\n",
       "      <td>1.0</td>\n",
       "      <td>0.0</td>\n",
       "      <td>1.0</td>\n",
       "      <td>2.0</td>\n",
       "      <td>2.0</td>\n",
       "      <td>...</td>\n",
       "      <td>0.0</td>\n",
       "      <td>0.0</td>\n",
       "      <td>0.0</td>\n",
       "      <td>0.0</td>\n",
       "      <td>1.0</td>\n",
       "      <td>1.0</td>\n",
       "      <td>0.0</td>\n",
       "      <td>1.0</td>\n",
       "      <td>3.0</td>\n",
       "      <td>0.0</td>\n",
       "    </tr>\n",
       "    <tr>\n",
       "      <th>1</th>\n",
       "      <td>0.0</td>\n",
       "      <td>1.0</td>\n",
       "      <td>1.0</td>\n",
       "      <td>1.0</td>\n",
       "      <td>0.0</td>\n",
       "      <td>1.0</td>\n",
       "      <td>1.0</td>\n",
       "      <td>0.0</td>\n",
       "      <td>2.0</td>\n",
       "      <td>2.0</td>\n",
       "      <td>...</td>\n",
       "      <td>0.0</td>\n",
       "      <td>1.0</td>\n",
       "      <td>1.0</td>\n",
       "      <td>1.0</td>\n",
       "      <td>1.0</td>\n",
       "      <td>1.0</td>\n",
       "      <td>0.0</td>\n",
       "      <td>1.0</td>\n",
       "      <td>4.0</td>\n",
       "      <td>1.0</td>\n",
       "    </tr>\n",
       "    <tr>\n",
       "      <th>2</th>\n",
       "      <td>0.0</td>\n",
       "      <td>0.0</td>\n",
       "      <td>1.0</td>\n",
       "      <td>1.0</td>\n",
       "      <td>1.0</td>\n",
       "      <td>5.0</td>\n",
       "      <td>1.0</td>\n",
       "      <td>0.0</td>\n",
       "      <td>5.0</td>\n",
       "      <td>6.0</td>\n",
       "      <td>...</td>\n",
       "      <td>0.0</td>\n",
       "      <td>0.0</td>\n",
       "      <td>0.0</td>\n",
       "      <td>0.0</td>\n",
       "      <td>4.0</td>\n",
       "      <td>0.0</td>\n",
       "      <td>0.0</td>\n",
       "      <td>0.0</td>\n",
       "      <td>2.0</td>\n",
       "      <td>0.0</td>\n",
       "    </tr>\n",
       "    <tr>\n",
       "      <th>3</th>\n",
       "      <td>0.0</td>\n",
       "      <td>1.0</td>\n",
       "      <td>1.0</td>\n",
       "      <td>1.0</td>\n",
       "      <td>0.0</td>\n",
       "      <td>2.0</td>\n",
       "      <td>1.0</td>\n",
       "      <td>0.0</td>\n",
       "      <td>2.0</td>\n",
       "      <td>2.0</td>\n",
       "      <td>...</td>\n",
       "      <td>0.0</td>\n",
       "      <td>0.0</td>\n",
       "      <td>1.0</td>\n",
       "      <td>0.0</td>\n",
       "      <td>2.0</td>\n",
       "      <td>0.0</td>\n",
       "      <td>0.0</td>\n",
       "      <td>0.0</td>\n",
       "      <td>3.0</td>\n",
       "      <td>1.0</td>\n",
       "    </tr>\n",
       "    <tr>\n",
       "      <th>4</th>\n",
       "      <td>0.0</td>\n",
       "      <td>1.0</td>\n",
       "      <td>1.0</td>\n",
       "      <td>0.0</td>\n",
       "      <td>0.0</td>\n",
       "      <td>2.0</td>\n",
       "      <td>0.0</td>\n",
       "      <td>1.0</td>\n",
       "      <td>3.0</td>\n",
       "      <td>3.0</td>\n",
       "      <td>...</td>\n",
       "      <td>0.0</td>\n",
       "      <td>1.0</td>\n",
       "      <td>1.0</td>\n",
       "      <td>0.0</td>\n",
       "      <td>1.0</td>\n",
       "      <td>0.0</td>\n",
       "      <td>0.0</td>\n",
       "      <td>1.0</td>\n",
       "      <td>3.0</td>\n",
       "      <td>0.0</td>\n",
       "    </tr>\n",
       "    <tr>\n",
       "      <th>...</th>\n",
       "      <td>...</td>\n",
       "      <td>...</td>\n",
       "      <td>...</td>\n",
       "      <td>...</td>\n",
       "      <td>...</td>\n",
       "      <td>...</td>\n",
       "      <td>...</td>\n",
       "      <td>...</td>\n",
       "      <td>...</td>\n",
       "      <td>...</td>\n",
       "      <td>...</td>\n",
       "      <td>...</td>\n",
       "      <td>...</td>\n",
       "      <td>...</td>\n",
       "      <td>...</td>\n",
       "      <td>...</td>\n",
       "      <td>...</td>\n",
       "      <td>...</td>\n",
       "      <td>...</td>\n",
       "      <td>...</td>\n",
       "      <td>...</td>\n",
       "    </tr>\n",
       "    <tr>\n",
       "      <th>4995</th>\n",
       "      <td>0.0</td>\n",
       "      <td>0.0</td>\n",
       "      <td>1.0</td>\n",
       "      <td>0.0</td>\n",
       "      <td>0.0</td>\n",
       "      <td>4.0</td>\n",
       "      <td>1.0</td>\n",
       "      <td>0.0</td>\n",
       "      <td>5.0</td>\n",
       "      <td>6.0</td>\n",
       "      <td>...</td>\n",
       "      <td>1.0</td>\n",
       "      <td>0.0</td>\n",
       "      <td>0.0</td>\n",
       "      <td>0.0</td>\n",
       "      <td>1.0</td>\n",
       "      <td>0.0</td>\n",
       "      <td>0.0</td>\n",
       "      <td>0.0</td>\n",
       "      <td>1.0</td>\n",
       "      <td>0.0</td>\n",
       "    </tr>\n",
       "    <tr>\n",
       "      <th>4996</th>\n",
       "      <td>0.0</td>\n",
       "      <td>0.0</td>\n",
       "      <td>1.0</td>\n",
       "      <td>0.0</td>\n",
       "      <td>0.0</td>\n",
       "      <td>3.0</td>\n",
       "      <td>1.0</td>\n",
       "      <td>1.0</td>\n",
       "      <td>4.0</td>\n",
       "      <td>5.0</td>\n",
       "      <td>...</td>\n",
       "      <td>0.0</td>\n",
       "      <td>1.0</td>\n",
       "      <td>0.0</td>\n",
       "      <td>0.0</td>\n",
       "      <td>5.0</td>\n",
       "      <td>0.0</td>\n",
       "      <td>0.0</td>\n",
       "      <td>0.0</td>\n",
       "      <td>2.0</td>\n",
       "      <td>0.0</td>\n",
       "    </tr>\n",
       "    <tr>\n",
       "      <th>4997</th>\n",
       "      <td>0.0</td>\n",
       "      <td>0.0</td>\n",
       "      <td>1.0</td>\n",
       "      <td>1.0</td>\n",
       "      <td>0.0</td>\n",
       "      <td>5.0</td>\n",
       "      <td>1.0</td>\n",
       "      <td>1.0</td>\n",
       "      <td>5.0</td>\n",
       "      <td>6.0</td>\n",
       "      <td>...</td>\n",
       "      <td>0.0</td>\n",
       "      <td>0.0</td>\n",
       "      <td>0.0</td>\n",
       "      <td>1.0</td>\n",
       "      <td>3.0</td>\n",
       "      <td>0.0</td>\n",
       "      <td>0.0</td>\n",
       "      <td>0.0</td>\n",
       "      <td>4.0</td>\n",
       "      <td>0.0</td>\n",
       "    </tr>\n",
       "    <tr>\n",
       "      <th>4998</th>\n",
       "      <td>0.0</td>\n",
       "      <td>1.0</td>\n",
       "      <td>1.0</td>\n",
       "      <td>1.0</td>\n",
       "      <td>0.0</td>\n",
       "      <td>4.0</td>\n",
       "      <td>1.0</td>\n",
       "      <td>0.0</td>\n",
       "      <td>4.0</td>\n",
       "      <td>4.0</td>\n",
       "      <td>...</td>\n",
       "      <td>1.0</td>\n",
       "      <td>0.0</td>\n",
       "      <td>1.0</td>\n",
       "      <td>0.0</td>\n",
       "      <td>4.0</td>\n",
       "      <td>0.0</td>\n",
       "      <td>0.0</td>\n",
       "      <td>0.0</td>\n",
       "      <td>4.0</td>\n",
       "      <td>1.0</td>\n",
       "    </tr>\n",
       "    <tr>\n",
       "      <th>4999</th>\n",
       "      <td>1.0</td>\n",
       "      <td>0.0</td>\n",
       "      <td>1.0</td>\n",
       "      <td>0.0</td>\n",
       "      <td>1.0</td>\n",
       "      <td>3.0</td>\n",
       "      <td>1.0</td>\n",
       "      <td>0.0</td>\n",
       "      <td>3.0</td>\n",
       "      <td>4.0</td>\n",
       "      <td>...</td>\n",
       "      <td>1.0</td>\n",
       "      <td>0.0</td>\n",
       "      <td>0.0</td>\n",
       "      <td>0.0</td>\n",
       "      <td>4.0</td>\n",
       "      <td>0.0</td>\n",
       "      <td>0.0</td>\n",
       "      <td>0.0</td>\n",
       "      <td>1.0</td>\n",
       "      <td>0.0</td>\n",
       "    </tr>\n",
       "  </tbody>\n",
       "</table>\n",
       "<p>5000 rows × 59 columns</p>\n",
       "</div>"
      ],
      "text/plain": [
       "      churn  owngame  owntv  multline  gender  addresscat  homeown  tollfree  \\\n",
       "0       1.0      1.0    1.0       1.0     1.0         1.0      0.0       1.0   \n",
       "1       0.0      1.0    1.0       1.0     0.0         1.0      1.0       0.0   \n",
       "2       0.0      0.0    1.0       1.0     1.0         5.0      1.0       0.0   \n",
       "3       0.0      1.0    1.0       1.0     0.0         2.0      1.0       0.0   \n",
       "4       0.0      1.0    1.0       0.0     0.0         2.0      0.0       1.0   \n",
       "...     ...      ...    ...       ...     ...         ...      ...       ...   \n",
       "4995    0.0      0.0    1.0       0.0     0.0         4.0      1.0       0.0   \n",
       "4996    0.0      0.0    1.0       0.0     0.0         3.0      1.0       1.0   \n",
       "4997    0.0      0.0    1.0       1.0     0.0         5.0      1.0       1.0   \n",
       "4998    0.0      1.0    1.0       1.0     0.0         4.0      1.0       0.0   \n",
       "4999    1.0      0.0    1.0       0.0     1.0         3.0      1.0       0.0   \n",
       "\n",
       "      card2tenurecat  agecat  ...  polcontrib  wireless  ownpc  ownpda  \\\n",
       "0                2.0     2.0  ...         0.0       0.0    0.0     0.0   \n",
       "1                2.0     2.0  ...         0.0       1.0    1.0     1.0   \n",
       "2                5.0     6.0  ...         0.0       0.0    0.0     0.0   \n",
       "3                2.0     2.0  ...         0.0       0.0    1.0     0.0   \n",
       "4                3.0     3.0  ...         0.0       1.0    1.0     0.0   \n",
       "...              ...     ...  ...         ...       ...    ...     ...   \n",
       "4995             5.0     6.0  ...         1.0       0.0    0.0     0.0   \n",
       "4996             4.0     5.0  ...         0.0       1.0    0.0     0.0   \n",
       "4997             5.0     6.0  ...         0.0       0.0    0.0     1.0   \n",
       "4998             4.0     4.0  ...         1.0       0.0    1.0     0.0   \n",
       "4999             3.0     4.0  ...         1.0       0.0    0.0     0.0   \n",
       "\n",
       "      jobsat  pager  cardfee  voice  edcat  ebill  \n",
       "0        1.0    1.0      0.0    1.0    3.0    0.0  \n",
       "1        1.0    1.0      0.0    1.0    4.0    1.0  \n",
       "2        4.0    0.0      0.0    0.0    2.0    0.0  \n",
       "3        2.0    0.0      0.0    0.0    3.0    1.0  \n",
       "4        1.0    0.0      0.0    1.0    3.0    0.0  \n",
       "...      ...    ...      ...    ...    ...    ...  \n",
       "4995     1.0    0.0      0.0    0.0    1.0    0.0  \n",
       "4996     5.0    0.0      0.0    0.0    2.0    0.0  \n",
       "4997     3.0    0.0      0.0    0.0    4.0    0.0  \n",
       "4998     4.0    0.0      0.0    0.0    4.0    1.0  \n",
       "4999     4.0    0.0      0.0    0.0    1.0    0.0  \n",
       "\n",
       "[5000 rows x 59 columns]"
      ]
     },
     "execution_count": 28,
     "metadata": {},
     "output_type": "execute_result"
    }
   ],
   "source": [
    "df_con"
   ]
  },
  {
   "cell_type": "code",
   "execution_count": 29,
   "metadata": {},
   "outputs": [
    {
     "data": {
      "text/plain": [
       "65.92"
      ]
     },
     "execution_count": 29,
     "metadata": {},
     "output_type": "execute_result"
    }
   ],
   "source": [
    "ndf.equipten.value_counts()[0]/ndf.shape[0]*100\n",
    "    "
   ]
  },
  {
   "cell_type": "code",
   "execution_count": 30,
   "metadata": {},
   "outputs": [
    {
     "data": {
      "text/plain": [
       "52.44"
      ]
     },
     "execution_count": 30,
     "metadata": {},
     "output_type": "execute_result"
    }
   ],
   "source": [
    "ndf.tollten.value_counts()[0]/ndf.shape[0]*100"
   ]
  },
  {
   "cell_type": "code",
   "execution_count": 31,
   "metadata": {},
   "outputs": [],
   "source": [
    "#more than 70 % values in wireten are null so it is wise to drop columns\n",
    "ndf=ndf.drop(['equipten','tollten'],axis='columns')"
   ]
  },
  {
   "cell_type": "code",
   "execution_count": 32,
   "metadata": {},
   "outputs": [],
   "source": [
    "df_dis=df_dis.drop(['wireten','equipten','tollten'],axis='columns')"
   ]
  },
  {
   "cell_type": "code",
   "execution_count": 33,
   "metadata": {},
   "outputs": [
    {
     "data": {
      "text/plain": [
       "<matplotlib.axes._subplots.AxesSubplot at 0x214e029fcc8>"
      ]
     },
     "execution_count": 33,
     "metadata": {},
     "output_type": "execute_result"
    },
    {
     "data": {
      "image/png": "[encoded data removed]",
      "text/plain": [
       "<Figure size 720x360 with 1 Axes>"
      ]
     },
     "metadata": {
      "needs_background": "light"
     },
     "output_type": "display_data"
    }
   ],
   "source": [
    "sns.distplot(df_dis.total_spend)"
   ]
  },
  {
   "cell_type": "code",
   "execution_count": 34,
   "metadata": {},
   "outputs": [
    {
     "data": {
      "text/plain": [
       "count    5000.00000\n",
       "mean      498.07863\n",
       "std       351.52927\n",
       "min         8.11000\n",
       "25%       276.28250\n",
       "50%       414.25000\n",
       "75%       615.56250\n",
       "max      4881.05000\n",
       "Name: total_spend, dtype: float64"
      ]
     },
     "execution_count": 34,
     "metadata": {},
     "output_type": "execute_result"
    }
   ],
   "source": [
    "df_dis.total_spend.describe()"
   ]
  },
  {
   "cell_type": "code",
   "execution_count": 35,
   "metadata": {},
   "outputs": [],
   "source": [
    "ndf['trans_spend']=np.sqrt(np.sqrt(ndf.total_spend))"
   ]
  },
  {
   "cell_type": "code",
   "execution_count": 36,
   "metadata": {},
   "outputs": [],
   "source": [
    "del ndf['total_spend']"
   ]
  },
  {
   "cell_type": "code",
   "execution_count": 37,
   "metadata": {},
   "outputs": [],
   "source": [
    "equ='trans_spend~card2fee+card2benefit+internet+owndvd+wireless+tollfree+active+ownipod+pager+ownpda+tenure+churn+multline+voice+owngame+ownpc+wiremon+callcard+equipmon+equip+forward+card2+ownvcr+owncd+card2type+response_03+tollmon+ebill+news+response_02+ownfax+cardmon+cardtenurecat+owntv+response_01+card2tenurecat'"
   ]
  },
  {
   "cell_type": "code",
   "execution_count": 38,
   "metadata": {},
   "outputs": [],
   "source": [
    "from sklearn.model_selection import train_test_split"
   ]
  },
  {
   "cell_type": "code",
   "execution_count": 39,
   "metadata": {},
   "outputs": [],
   "source": [
    "x,y=train_test_split(ndf,test_size=0.3,random_state=1234)"
   ]
  },
  {
   "cell_type": "code",
   "execution_count": 40,
   "metadata": {},
   "outputs": [],
   "source": [
    "ndf=ndf.fillna(0)"
   ]
  },
  {
   "cell_type": "code",
   "execution_count": 41,
   "metadata": {},
   "outputs": [],
   "source": [
    "x=ndf[ndf.columns.difference(['trans_spend'])]\n",
    "y=ndf['trans_spend']"
   ]
  },
  {
   "cell_type": "code",
   "execution_count": 42,
   "metadata": {},
   "outputs": [],
   "source": [
    "x_train,y_train,x_test,y_test=train_test_split(x,y,test_size=0.33, random_state=42)"
   ]
  },
  {
   "cell_type": "markdown",
   "metadata": {},
   "source": [
    "## model with whole data set"
   ]
  },
  {
   "cell_type": "code",
   "execution_count": 43,
   "metadata": {},
   "outputs": [
    {
     "name": "stdout",
     "output_type": "stream",
     "text": [
      "                            OLS Regression Results                            \n",
      "==============================================================================\n",
      "Dep. Variable:            trans_spend   R-squared:                       0.058\n",
      "Model:                            OLS   Adj. R-squared:                  0.051\n",
      "Method:                 Least Squares   F-statistic:                     8.421\n",
      "Date:                Tue, 26 May 2020   Prob (F-statistic):           1.82e-42\n",
      "Time:                        20:45:20   Log-Likelihood:                -5458.1\n",
      "No. Observations:                5000   AIC:                         1.099e+04\n",
      "Df Residuals:                    4963   BIC:                         1.123e+04\n",
      "Df Model:                          36                                         \n",
      "Covariance Type:            nonrobust                                         \n",
      "==================================================================================\n",
      "                     coef    std err          t      P>|t|      [0.025      0.975]\n",
      "----------------------------------------------------------------------------------\n",
      "Intercept          3.9879      0.100     39.898      0.000       3.792       4.184\n",
      "card2fee          -0.0372      0.026     -1.413      0.158      -0.089       0.014\n",
      "card2benefit   -3.592e-05      0.009     -0.004      0.997      -0.018       0.018\n",
      "internet           0.0331      0.011      3.046      0.002       0.012       0.054\n",
      "owndvd             0.2239      0.045      4.992      0.000       0.136       0.312\n",
      "wireless           0.0393      0.060      0.660      0.509      -0.077       0.156\n",
      "tollfree          -0.0444      0.044     -1.003      0.316      -0.131       0.042\n",
      "active             0.0008      0.021      0.040      0.968      -0.040       0.042\n",
      "ownipod            0.0199      0.025      0.810      0.418      -0.028       0.068\n",
      "pager             -0.0209      0.035     -0.589      0.556      -0.090       0.049\n",
      "ownpda             0.0416      0.033      1.249      0.212      -0.024       0.107\n",
      "tenure            -0.0005      0.001     -0.443      0.658      -0.003       0.002\n",
      "churn              0.0515      0.027      1.892      0.059      -0.002       0.105\n",
      "multline          -0.0317      0.026     -1.215      0.224      -0.083       0.019\n",
      "voice             -0.0850      0.032     -2.622      0.009      -0.149      -0.021\n",
      "owngame            0.0048      0.025      0.193      0.847      -0.044       0.054\n",
      "ownpc              0.0040      0.029      0.139      0.890      -0.052       0.060\n",
      "wiremon         8.365e-05      0.002      0.052      0.959      -0.003       0.003\n",
      "callcard          -0.0445      0.033     -1.350      0.177      -0.109       0.020\n",
      "equipmon           0.0020      0.002      0.835      0.404      -0.003       0.007\n",
      "equip             -0.0580      0.086     -0.672      0.501      -0.227       0.111\n",
      "forward            0.0390      0.028      1.399      0.162      -0.016       0.094\n",
      "card2             -0.0389      0.009     -4.427      0.000      -0.056      -0.022\n",
      "ownvcr             0.1905      0.046      4.161      0.000       0.101       0.280\n",
      "owncd              0.1737      0.051      3.437      0.001       0.075       0.273\n",
      "card2type         -0.0048      0.009     -0.525      0.599      -0.023       0.013\n",
      "response_03        0.1019      0.034      2.976      0.003       0.035       0.169\n",
      "tollmon            0.0036      0.001      2.532      0.011       0.001       0.006\n",
      "ebill             -0.0370      0.029     -1.270      0.204      -0.094       0.020\n",
      "news              -0.0007      0.026     -0.027      0.978      -0.051       0.050\n",
      "response_02        0.0297      0.031      0.969      0.332      -0.030       0.090\n",
      "ownfax             0.0234      0.035      0.671      0.502      -0.045       0.092\n",
      "cardmon           -0.0008      0.001     -0.827      0.408      -0.003       0.001\n",
      "cardtenurecat      0.0239      0.020      1.181      0.238      -0.016       0.064\n",
      "owntv             -0.0225      0.090     -0.249      0.803      -0.199       0.154\n",
      "response_01       -0.0159      0.038     -0.424      0.672      -0.089       0.058\n",
      "card2tenurecat     0.0120      0.023      0.510      0.610      -0.034       0.058\n",
      "==============================================================================\n",
      "Omnibus:                      122.269   Durbin-Watson:                   1.993\n",
      "Prob(Omnibus):                  0.000   Jarque-Bera (JB):              189.777\n",
      "Skew:                           0.243   Prob(JB):                     6.17e-42\n",
      "Kurtosis:                       3.821   Cond. No.                         647.\n",
      "==============================================================================\n",
      "\n",
      "Warnings:\n",
      "[1] Standard Errors assume that the covariance matrix of the errors is correctly specified.\n"
     ]
    }
   ],
   "source": [
    "import statsmodels.formula.api as smf\n",
    "model = smf.ols(equ, data=ndf).fit()\n",
    "print(model.summary())"
   ]
  },
  {
   "cell_type": "markdown",
   "metadata": {},
   "source": [
    "### feature engineeering"
   ]
  },
  {
   "cell_type": "code",
   "execution_count": 44,
   "metadata": {},
   "outputs": [],
   "source": [
    "from sklearn.linear_model import Lasso\n"
   ]
  },
  {
   "cell_type": "code",
   "execution_count": 45,
   "metadata": {},
   "outputs": [
    {
     "data": {
      "text/plain": [
       "array([ 0.00000000e+00, -0.00000000e+00, -0.00000000e+00, -0.00000000e+00,\n",
       "       -0.00000000e+00,  0.00000000e+00, -0.00000000e+00, -8.70191723e-02,\n",
       "       -0.00000000e+00, -0.00000000e+00, -0.00000000e+00, -0.00000000e+00,\n",
       "       -0.00000000e+00, -0.00000000e+00, -0.00000000e+00, -1.14308270e-03,\n",
       "       -0.00000000e+00, -0.00000000e+00, -0.00000000e+00, -0.00000000e+00,\n",
       "        4.16461989e-03,  0.00000000e+00,  0.00000000e+00,  0.00000000e+00,\n",
       "        0.00000000e+00,  0.00000000e+00, -0.00000000e+00,  0.00000000e+00,\n",
       "       -0.00000000e+00,  0.00000000e+00,  8.51412605e-04,  0.00000000e+00,\n",
       "       -0.00000000e+00,  0.00000000e+00,  0.00000000e+00,  0.00000000e+00,\n",
       "        3.44789392e-03,  0.00000000e+00, -0.00000000e+00, -0.00000000e+00,\n",
       "        0.00000000e+00, -0.00000000e+00, -0.00000000e+00,  0.00000000e+00,\n",
       "        0.00000000e+00,  0.00000000e+00,  0.00000000e+00,  0.00000000e+00,\n",
       "        0.00000000e+00,  0.00000000e+00,  0.00000000e+00,  0.00000000e+00,\n",
       "        0.00000000e+00, -0.00000000e+00, -0.00000000e+00,  0.00000000e+00,\n",
       "        0.00000000e+00, -0.00000000e+00, -0.00000000e+00,  0.00000000e+00,\n",
       "        0.00000000e+00, -0.00000000e+00,  0.00000000e+00,  0.00000000e+00,\n",
       "       -0.00000000e+00,  0.00000000e+00, -0.00000000e+00, -1.97924022e-04,\n",
       "        0.00000000e+00,  0.00000000e+00,  0.00000000e+00,  0.00000000e+00,\n",
       "       -0.00000000e+00,  0.00000000e+00,  0.00000000e+00, -0.00000000e+00,\n",
       "        8.73341176e-06])"
      ]
     },
     "execution_count": 45,
     "metadata": {},
     "output_type": "execute_result"
    }
   ],
   "source": [
    "Lasso(alpha=0.1).fit(x,y).coef_"
   ]
  },
  {
   "cell_type": "code",
   "execution_count": 46,
   "metadata": {},
   "outputs": [],
   "source": [
    "ls=pd.DataFrame(data=Lasso(alpha=0.1).fit(x,y).coef_,index=x.columns,columns=['a'])"
   ]
  },
  {
   "cell_type": "code",
   "execution_count": 47,
   "metadata": {},
   "outputs": [
    {
     "data": {
      "text/plain": [
       "['card', 'cardmon', 'tenure']"
      ]
     },
     "execution_count": 47,
     "metadata": {},
     "output_type": "execute_result"
    }
   ],
   "source": [
    "list(ls[ls['a']<0].index)"
   ]
  },
  {
   "cell_type": "code",
   "execution_count": 48,
   "metadata": {},
   "outputs": [
    {
     "data": {
      "text/plain": [
       "['carvalue', 'equipmon', 'income', 'wireten']"
      ]
     },
     "execution_count": 48,
     "metadata": {},
     "output_type": "execute_result"
    }
   ],
   "source": [
    "list(ls[ls['a']>0].index)"
   ]
  },
  {
   "cell_type": "code",
   "execution_count": 49,
   "metadata": {},
   "outputs": [],
   "source": [
    "lasso_imp=[list(ls[ls['a']>0].index),list(ls[ls['a']<0].index)]"
   ]
  },
  {
   "cell_type": "code",
   "execution_count": 50,
   "metadata": {},
   "outputs": [
    {
     "data": {
      "text/plain": [
       "[['carvalue', 'equipmon', 'income', 'wireten'], ['card', 'cardmon', 'tenure']]"
      ]
     },
     "execution_count": 50,
     "metadata": {},
     "output_type": "execute_result"
    }
   ],
   "source": [
    "lasso_imp"
   ]
  },
  {
   "cell_type": "code",
   "execution_count": 51,
   "metadata": {},
   "outputs": [],
   "source": [
    "from sklearn.feature_selection import RFE\n",
    "\n",
    "from sklearn.linear_model import LinearRegression\n",
    "\n",
    "lm = LinearRegression()\n",
    "rfe = RFE(lm, n_features_to_select=15).fit(x,y)\n",
    "bool_RFE = rfe.get_support()\n"
   ]
  },
  {
   "cell_type": "code",
   "execution_count": 52,
   "metadata": {},
   "outputs": [
    {
     "data": {
      "text/html": [
       "<div>\n",
       "<style scoped>\n",
       "    .dataframe tbody tr th:only-of-type {\n",
       "        vertical-align: middle;\n",
       "    }\n",
       "\n",
       "    .dataframe tbody tr th {\n",
       "        vertical-align: top;\n",
       "    }\n",
       "\n",
       "    .dataframe thead th {\n",
       "        text-align: right;\n",
       "    }\n",
       "</style>\n",
       "<table border=\"1\" class=\"dataframe\">\n",
       "  <thead>\n",
       "    <tr style=\"text-align: right;\">\n",
       "      <th></th>\n",
       "      <th>callcard</th>\n",
       "      <th>card</th>\n",
       "      <th>card2</th>\n",
       "      <th>card2fee</th>\n",
       "      <th>churn</th>\n",
       "      <th>gender</th>\n",
       "      <th>inccat</th>\n",
       "      <th>owncd</th>\n",
       "      <th>owndvd</th>\n",
       "      <th>owntv</th>\n",
       "      <th>ownvcr</th>\n",
       "      <th>response_03</th>\n",
       "      <th>retire</th>\n",
       "      <th>voice</th>\n",
       "      <th>wireless</th>\n",
       "    </tr>\n",
       "  </thead>\n",
       "  <tbody>\n",
       "    <tr>\n",
       "      <th>0</th>\n",
       "      <td>1.0</td>\n",
       "      <td>3.0</td>\n",
       "      <td>5.0</td>\n",
       "      <td>0.0</td>\n",
       "      <td>1.0</td>\n",
       "      <td>1.0</td>\n",
       "      <td>2.0</td>\n",
       "      <td>0.0</td>\n",
       "      <td>1.0</td>\n",
       "      <td>1.0</td>\n",
       "      <td>1.0</td>\n",
       "      <td>0.0</td>\n",
       "      <td>0.0</td>\n",
       "      <td>1.0</td>\n",
       "      <td>0.0</td>\n",
       "    </tr>\n",
       "    <tr>\n",
       "      <th>1</th>\n",
       "      <td>1.0</td>\n",
       "      <td>2.0</td>\n",
       "      <td>4.0</td>\n",
       "      <td>0.0</td>\n",
       "      <td>0.0</td>\n",
       "      <td>0.0</td>\n",
       "      <td>1.0</td>\n",
       "      <td>1.0</td>\n",
       "      <td>1.0</td>\n",
       "      <td>1.0</td>\n",
       "      <td>1.0</td>\n",
       "      <td>0.0</td>\n",
       "      <td>0.0</td>\n",
       "      <td>1.0</td>\n",
       "      <td>1.0</td>\n",
       "    </tr>\n",
       "    <tr>\n",
       "      <th>2</th>\n",
       "      <td>1.0</td>\n",
       "      <td>2.0</td>\n",
       "      <td>4.0</td>\n",
       "      <td>0.0</td>\n",
       "      <td>0.0</td>\n",
       "      <td>1.0</td>\n",
       "      <td>2.0</td>\n",
       "      <td>1.0</td>\n",
       "      <td>1.0</td>\n",
       "      <td>1.0</td>\n",
       "      <td>1.0</td>\n",
       "      <td>0.0</td>\n",
       "      <td>0.0</td>\n",
       "      <td>0.0</td>\n",
       "      <td>0.0</td>\n",
       "    </tr>\n",
       "    <tr>\n",
       "      <th>3</th>\n",
       "      <td>1.0</td>\n",
       "      <td>2.0</td>\n",
       "      <td>3.0</td>\n",
       "      <td>0.0</td>\n",
       "      <td>0.0</td>\n",
       "      <td>0.0</td>\n",
       "      <td>1.0</td>\n",
       "      <td>1.0</td>\n",
       "      <td>1.0</td>\n",
       "      <td>1.0</td>\n",
       "      <td>1.0</td>\n",
       "      <td>0.0</td>\n",
       "      <td>0.0</td>\n",
       "      <td>0.0</td>\n",
       "      <td>0.0</td>\n",
       "    </tr>\n",
       "    <tr>\n",
       "      <th>4</th>\n",
       "      <td>1.0</td>\n",
       "      <td>4.0</td>\n",
       "      <td>1.0</td>\n",
       "      <td>0.0</td>\n",
       "      <td>0.0</td>\n",
       "      <td>0.0</td>\n",
       "      <td>1.0</td>\n",
       "      <td>1.0</td>\n",
       "      <td>1.0</td>\n",
       "      <td>1.0</td>\n",
       "      <td>1.0</td>\n",
       "      <td>0.0</td>\n",
       "      <td>0.0</td>\n",
       "      <td>1.0</td>\n",
       "      <td>1.0</td>\n",
       "    </tr>\n",
       "    <tr>\n",
       "      <th>...</th>\n",
       "      <td>...</td>\n",
       "      <td>...</td>\n",
       "      <td>...</td>\n",
       "      <td>...</td>\n",
       "      <td>...</td>\n",
       "      <td>...</td>\n",
       "      <td>...</td>\n",
       "      <td>...</td>\n",
       "      <td>...</td>\n",
       "      <td>...</td>\n",
       "      <td>...</td>\n",
       "      <td>...</td>\n",
       "      <td>...</td>\n",
       "      <td>...</td>\n",
       "      <td>...</td>\n",
       "    </tr>\n",
       "    <tr>\n",
       "      <th>4995</th>\n",
       "      <td>1.0</td>\n",
       "      <td>1.0</td>\n",
       "      <td>3.0</td>\n",
       "      <td>0.0</td>\n",
       "      <td>0.0</td>\n",
       "      <td>0.0</td>\n",
       "      <td>5.0</td>\n",
       "      <td>1.0</td>\n",
       "      <td>1.0</td>\n",
       "      <td>1.0</td>\n",
       "      <td>1.0</td>\n",
       "      <td>0.0</td>\n",
       "      <td>0.0</td>\n",
       "      <td>0.0</td>\n",
       "      <td>0.0</td>\n",
       "    </tr>\n",
       "    <tr>\n",
       "      <th>4996</th>\n",
       "      <td>1.0</td>\n",
       "      <td>3.0</td>\n",
       "      <td>5.0</td>\n",
       "      <td>0.0</td>\n",
       "      <td>0.0</td>\n",
       "      <td>0.0</td>\n",
       "      <td>4.0</td>\n",
       "      <td>1.0</td>\n",
       "      <td>1.0</td>\n",
       "      <td>1.0</td>\n",
       "      <td>1.0</td>\n",
       "      <td>0.0</td>\n",
       "      <td>0.0</td>\n",
       "      <td>0.0</td>\n",
       "      <td>1.0</td>\n",
       "    </tr>\n",
       "    <tr>\n",
       "      <th>4997</th>\n",
       "      <td>1.0</td>\n",
       "      <td>1.0</td>\n",
       "      <td>2.0</td>\n",
       "      <td>0.0</td>\n",
       "      <td>0.0</td>\n",
       "      <td>0.0</td>\n",
       "      <td>4.0</td>\n",
       "      <td>1.0</td>\n",
       "      <td>1.0</td>\n",
       "      <td>1.0</td>\n",
       "      <td>1.0</td>\n",
       "      <td>0.0</td>\n",
       "      <td>0.0</td>\n",
       "      <td>0.0</td>\n",
       "      <td>0.0</td>\n",
       "    </tr>\n",
       "    <tr>\n",
       "      <th>4998</th>\n",
       "      <td>1.0</td>\n",
       "      <td>3.0</td>\n",
       "      <td>4.0</td>\n",
       "      <td>0.0</td>\n",
       "      <td>0.0</td>\n",
       "      <td>0.0</td>\n",
       "      <td>5.0</td>\n",
       "      <td>1.0</td>\n",
       "      <td>1.0</td>\n",
       "      <td>1.0</td>\n",
       "      <td>1.0</td>\n",
       "      <td>0.0</td>\n",
       "      <td>0.0</td>\n",
       "      <td>0.0</td>\n",
       "      <td>0.0</td>\n",
       "    </tr>\n",
       "    <tr>\n",
       "      <th>4999</th>\n",
       "      <td>1.0</td>\n",
       "      <td>3.0</td>\n",
       "      <td>4.0</td>\n",
       "      <td>0.0</td>\n",
       "      <td>1.0</td>\n",
       "      <td>1.0</td>\n",
       "      <td>4.0</td>\n",
       "      <td>1.0</td>\n",
       "      <td>1.0</td>\n",
       "      <td>1.0</td>\n",
       "      <td>1.0</td>\n",
       "      <td>0.0</td>\n",
       "      <td>0.0</td>\n",
       "      <td>0.0</td>\n",
       "      <td>0.0</td>\n",
       "    </tr>\n",
       "  </tbody>\n",
       "</table>\n",
       "<p>5000 rows × 15 columns</p>\n",
       "</div>"
      ],
      "text/plain": [
       "      callcard  card  card2  card2fee  churn  gender  inccat  owncd  owndvd  \\\n",
       "0          1.0   3.0    5.0       0.0    1.0     1.0     2.0    0.0     1.0   \n",
       "1          1.0   2.0    4.0       0.0    0.0     0.0     1.0    1.0     1.0   \n",
       "2          1.0   2.0    4.0       0.0    0.0     1.0     2.0    1.0     1.0   \n",
       "3          1.0   2.0    3.0       0.0    0.0     0.0     1.0    1.0     1.0   \n",
       "4          1.0   4.0    1.0       0.0    0.0     0.0     1.0    1.0     1.0   \n",
       "...        ...   ...    ...       ...    ...     ...     ...    ...     ...   \n",
       "4995       1.0   1.0    3.0       0.0    0.0     0.0     5.0    1.0     1.0   \n",
       "4996       1.0   3.0    5.0       0.0    0.0     0.0     4.0    1.0     1.0   \n",
       "4997       1.0   1.0    2.0       0.0    0.0     0.0     4.0    1.0     1.0   \n",
       "4998       1.0   3.0    4.0       0.0    0.0     0.0     5.0    1.0     1.0   \n",
       "4999       1.0   3.0    4.0       0.0    1.0     1.0     4.0    1.0     1.0   \n",
       "\n",
       "      owntv  ownvcr  response_03  retire  voice  wireless  \n",
       "0       1.0     1.0          0.0     0.0    1.0       0.0  \n",
       "1       1.0     1.0          0.0     0.0    1.0       1.0  \n",
       "2       1.0     1.0          0.0     0.0    0.0       0.0  \n",
       "3       1.0     1.0          0.0     0.0    0.0       0.0  \n",
       "4       1.0     1.0          0.0     0.0    1.0       1.0  \n",
       "...     ...     ...          ...     ...    ...       ...  \n",
       "4995    1.0     1.0          0.0     0.0    0.0       0.0  \n",
       "4996    1.0     1.0          0.0     0.0    0.0       1.0  \n",
       "4997    1.0     1.0          0.0     0.0    0.0       0.0  \n",
       "4998    1.0     1.0          0.0     0.0    0.0       0.0  \n",
       "4999    1.0     1.0          0.0     0.0    0.0       0.0  \n",
       "\n",
       "[5000 rows x 15 columns]"
      ]
     },
     "execution_count": 52,
     "metadata": {},
     "output_type": "execute_result"
    }
   ],
   "source": [
    "x.loc[:,bool_RFE]"
   ]
  },
  {
   "cell_type": "code",
   "execution_count": 53,
   "metadata": {},
   "outputs": [],
   "source": [
    "from sklearn.feature_selection import f_regression\n",
    "F_values, p_values  = f_regression(x,y)\n",
    "F_values = pd.Series(F_values, name='F_values')\n",
    "p_values = pd.Series(p_values, name='p_values')\n",
    "col_names = pd.Series(x.columns,name='col_names')\n",
    "f_result = pd.concat([col_names,F_values,p_values],axis=1)\n",
    "f1=list(f_result.sort_values(by=[\"F_values\"], ascending=False).head(15).col_names)"
   ]
  },
  {
   "cell_type": "code",
   "execution_count": 54,
   "metadata": {},
   "outputs": [],
   "source": [
    "from sklearn.feature_selection import SelectKBest, f_classif, chi2\n",
    "selector = SelectKBest(f_classif, k=15)\n",
    "selector.fit(x,y)\n",
    "K_Best = x.columns[selector.get_support()]\n",
    "f=list(K_Best)"
   ]
  },
  {
   "cell_type": "code",
   "execution_count": 55,
   "metadata": {},
   "outputs": [],
   "source": [
    "from statsmodels.stats.outliers_influence import variance_inflation_factor\n",
    "from patsy import dmatrices\n",
    "VIF = [variance_inflation_factor(x.values,i) for i in range(x.shape[1])]\n",
    "VIF = pd.Series(VIF, name='VIF')\n",
    "cols = pd.Series(x.columns, name='Column_Name')\n",
    "VIF_res = pd.concat([cols,VIF],axis=1)\n",
    "vif=list(VIF_res.sort_values(by=['VIF']).head(15).Column_Name)"
   ]
  },
  {
   "cell_type": "code",
   "execution_count": 56,
   "metadata": {},
   "outputs": [
    {
     "data": {
      "text/plain": [
       "[['inccat',\n",
       "  'income',\n",
       "  'carvalue',\n",
       "  'othdebt',\n",
       "  'card',\n",
       "  'creddebt',\n",
       "  'carcatvalue',\n",
       "  'retire',\n",
       "  'owndvd',\n",
       "  'ownvcr',\n",
       "  'owncd',\n",
       "  'empcat',\n",
       "  'wireten',\n",
       "  'edcat',\n",
       "  'wiremon'],\n",
       " ['carcatvalue',\n",
       "  'card2benefit',\n",
       "  'carown',\n",
       "  'carvalue',\n",
       "  'churn',\n",
       "  'creddebt',\n",
       "  'debtinc',\n",
       "  'default',\n",
       "  'edcat',\n",
       "  'internet',\n",
       "  'othdebt',\n",
       "  'ownpda',\n",
       "  'reason',\n",
       "  'response_02',\n",
       "  'tenure'],\n",
       " ['response_01',\n",
       "  'response_03',\n",
       "  'response_02',\n",
       "  'union',\n",
       "  'card2fee',\n",
       "  'cardfee',\n",
       "  'telecommute',\n",
       "  'polcontrib',\n",
       "  'polparty',\n",
       "  'carbuy',\n",
       "  'churn',\n",
       "  'pets',\n",
       "  'default',\n",
       "  'active',\n",
       "  'gender']]"
      ]
     },
     "execution_count": 56,
     "metadata": {},
     "output_type": "execute_result"
    }
   ],
   "source": [
    "[f1,f,vif]"
   ]
  },
  {
   "cell_type": "code",
   "execution_count": 57,
   "metadata": {},
   "outputs": [],
   "source": [
    "eqn='trans_spend~active+carbuy+carcatvalue+card+card2benefit+card2fee+cardfee+carown+carvalue+churn+creddebt+debtinc+default+edcat+empcat+gender+inccat+internet+othdebt+owncd+owndvd+ownpda+owntv+ownvcr+pets+polcontrib+polparty+reason+response_01+response_02+response_03+retire+telecommute+tenure+union+wiremon'"
   ]
  },
  {
   "cell_type": "code",
   "execution_count": 58,
   "metadata": {},
   "outputs": [],
   "source": [
    "n=['active','carbuy','carcatvalue','card','card2benefit','card2fee','cardfee','carown','carvalue','churn','creddebt','debtinc','default','edcat','empcat','gender','inccat','income','internet','othdebt','owncd','owndvd','ownpda','owntv','ownvcr','pets','polcontrib','polparty','reason','response_01','response_02','response_03','retire','telecommute','tenure','union','wiremon']"
   ]
  },
  {
   "cell_type": "code",
   "execution_count": 59,
   "metadata": {},
   "outputs": [
    {
     "data": {
      "text/plain": [
       "37"
      ]
     },
     "execution_count": 59,
     "metadata": {},
     "output_type": "execute_result"
    }
   ],
   "source": [
    "len(n)"
   ]
  },
  {
   "cell_type": "code",
   "execution_count": 60,
   "metadata": {},
   "outputs": [
    {
     "name": "stdout",
     "output_type": "stream",
     "text": [
      "                            OLS Regression Results                            \n",
      "==============================================================================\n",
      "Dep. Variable:            trans_spend   R-squared:                       0.237\n",
      "Model:                            OLS   Adj. R-squared:                  0.231\n",
      "Method:                 Least Squares   F-statistic:                     42.72\n",
      "Date:                Tue, 26 May 2020   Prob (F-statistic):          4.45e-259\n",
      "Time:                        20:45:28   Log-Likelihood:                -4931.6\n",
      "No. Observations:                5000   AIC:                             9937.\n",
      "Df Residuals:                    4963   BIC:                         1.018e+04\n",
      "Df Model:                          36                                         \n",
      "Covariance Type:            nonrobust                                         \n",
      "================================================================================\n",
      "                   coef    std err          t      P>|t|      [0.025      0.975]\n",
      "--------------------------------------------------------------------------------\n",
      "Intercept        4.4358      0.092     48.104      0.000       4.255       4.617\n",
      "active           0.0185      0.019      0.978      0.328      -0.019       0.056\n",
      "carbuy           0.0230      0.019      1.198      0.231      -0.015       0.061\n",
      "carcatvalue     -0.0290      0.022     -1.324      0.185      -0.072       0.014\n",
      "card            -0.1543      0.008    -19.757      0.000      -0.170      -0.139\n",
      "card2benefit    -0.0022      0.008     -0.266      0.790      -0.018       0.014\n",
      "card2fee        -0.0368      0.024     -1.555      0.120      -0.083       0.010\n",
      "cardfee         -0.0114      0.024     -0.483      0.629      -0.057       0.035\n",
      "carown           0.0165      0.023      0.724      0.469      -0.028       0.061\n",
      "carvalue         0.0013      0.001      1.033      0.302      -0.001       0.004\n",
      "churn            0.0243      0.024      1.003      0.316      -0.023       0.072\n",
      "creddebt         0.0096      0.004      2.515      0.012       0.002       0.017\n",
      "debtinc         -0.0037      0.002     -2.062      0.039      -0.007      -0.000\n",
      "default          0.0190      0.026      0.731      0.465      -0.032       0.070\n",
      "edcat           -0.0059      0.009     -0.638      0.524      -0.024       0.012\n",
      "empcat          -0.0061      0.011     -0.578      0.563      -0.027       0.015\n",
      "gender          -0.0986      0.018     -5.331      0.000      -0.135      -0.062\n",
      "inccat           0.1815      0.016     11.195      0.000       0.150       0.213\n",
      "internet         0.0188      0.008      2.432      0.015       0.004       0.034\n",
      "othdebt          0.0085      0.003      3.053      0.002       0.003       0.014\n",
      "owncd            0.0631      0.046      1.380      0.168      -0.027       0.153\n",
      "owndvd           0.0883      0.041      2.168      0.030       0.008       0.168\n",
      "ownpda          -0.0048      0.029     -0.164      0.870      -0.062       0.052\n",
      "owntv           -0.0344      0.081     -0.423      0.672      -0.194       0.125\n",
      "ownvcr           0.0686      0.041      1.655      0.098      -0.013       0.150\n",
      "pets            -0.0015      0.003     -0.561      0.575      -0.007       0.004\n",
      "polcontrib       0.0221      0.022      1.014      0.311      -0.021       0.065\n",
      "polparty         0.0024      0.019      0.124      0.901      -0.035       0.040\n",
      "reason          -0.0033      0.003     -1.031      0.303      -0.010       0.003\n",
      "response_01     -0.0075      0.034     -0.223      0.823      -0.073       0.058\n",
      "response_02     -0.0053      0.028     -0.190      0.849      -0.059       0.049\n",
      "response_03      0.0657      0.031      2.136      0.033       0.005       0.126\n",
      "retire          -0.1229      0.037     -3.287      0.001      -0.196      -0.050\n",
      "telecommute      0.0084      0.024      0.354      0.723      -0.038       0.055\n",
      "tenure        2.395e-05      0.001      0.042      0.966      -0.001       0.001\n",
      "union            0.0203      0.026      0.786      0.432      -0.030       0.071\n",
      "wiremon         -0.0006      0.001     -0.915      0.360      -0.002       0.001\n",
      "==============================================================================\n",
      "Omnibus:                       57.190   Durbin-Watson:                   1.997\n",
      "Prob(Omnibus):                  0.000   Jarque-Bera (JB):               91.271\n",
      "Skew:                           0.087   Prob(JB):                     1.52e-20\n",
      "Kurtosis:                       3.639   Cond. No.                         657.\n",
      "==============================================================================\n",
      "\n",
      "Warnings:\n",
      "[1] Standard Errors assume that the covariance matrix of the errors is correctly specified.\n"
     ]
    }
   ],
   "source": [
    "model2 = smf.ols(eqn, data=ndf).fit()\n",
    "print(model2.summary())"
   ]
  },
  {
   "cell_type": "code",
   "execution_count": 61,
   "metadata": {},
   "outputs": [
    {
     "data": {
      "text/plain": [
       "[['carvalue', 'equipmon', 'income', 'wireten'], ['card', 'cardmon', 'tenure']]"
      ]
     },
     "execution_count": 61,
     "metadata": {},
     "output_type": "execute_result"
    }
   ],
   "source": [
    "lasso_imp"
   ]
  },
  {
   "cell_type": "code",
   "execution_count": 62,
   "metadata": {},
   "outputs": [],
   "source": [
    "lasso_eqn='trans_spend~carvalue+equipmon+income+card+cardmon'"
   ]
  },
  {
   "cell_type": "code",
   "execution_count": 63,
   "metadata": {},
   "outputs": [
    {
     "name": "stdout",
     "output_type": "stream",
     "text": [
      "                            OLS Regression Results                            \n",
      "==============================================================================\n",
      "Dep. Variable:            trans_spend   R-squared:                       0.194\n",
      "Model:                            OLS   Adj. R-squared:                  0.193\n",
      "Method:                 Least Squares   F-statistic:                     240.1\n",
      "Date:                Tue, 26 May 2020   Prob (F-statistic):          1.92e-230\n",
      "Time:                        20:45:29   Log-Likelihood:                -5067.8\n",
      "No. Observations:                5000   AIC:                         1.015e+04\n",
      "Df Residuals:                    4994   BIC:                         1.019e+04\n",
      "Df Model:                           5                                         \n",
      "Covariance Type:            nonrobust                                         \n",
      "==============================================================================\n",
      "                 coef    std err          t      P>|t|      [0.025      0.975]\n",
      "------------------------------------------------------------------------------\n",
      "Intercept      4.6883      0.027    171.565      0.000       4.635       4.742\n",
      "carvalue       0.0046      0.001      6.696      0.000       0.003       0.006\n",
      "equipmon       0.0013      0.000      2.632      0.009       0.000       0.002\n",
      "income         0.0034      0.000     12.793      0.000       0.003       0.004\n",
      "card          -0.1583      0.008    -19.863      0.000      -0.174      -0.143\n",
      "cardmon       -0.0016      0.001     -2.477      0.013      -0.003      -0.000\n",
      "==============================================================================\n",
      "Omnibus:                       74.715   Durbin-Watson:                   1.993\n",
      "Prob(Omnibus):                  0.000   Jarque-Bera (JB):              134.348\n",
      "Skew:                           0.075   Prob(JB):                     6.71e-30\n",
      "Kurtosis:                       3.789   Cond. No.                         252.\n",
      "==============================================================================\n",
      "\n",
      "Warnings:\n",
      "[1] Standard Errors assume that the covariance matrix of the errors is correctly specified.\n"
     ]
    }
   ],
   "source": [
    "lasso = smf.ols(lasso_eqn, data=ndf).fit()\n",
    "print(lasso.summary())"
   ]
  },
  {
   "cell_type": "markdown",
   "metadata": {},
   "source": [
    "### from th above model it's evident that these variables  'carvalue,equipmon,income,card,cardmon' were able to explain almost 20% of variance in the target variable, so we regard them as top 4 key drivers for the  customers spend"
   ]
  },
  {
   "cell_type": "code",
   "execution_count": 64,
   "metadata": {},
   "outputs": [
    {
     "data": {
      "text/html": [
       "<div>\n",
       "<style scoped>\n",
       "    .dataframe tbody tr th:only-of-type {\n",
       "        vertical-align: middle;\n",
       "    }\n",
       "\n",
       "    .dataframe tbody tr th {\n",
       "        vertical-align: top;\n",
       "    }\n",
       "\n",
       "    .dataframe thead th {\n",
       "        text-align: right;\n",
       "    }\n",
       "</style>\n",
       "<table border=\"1\" class=\"dataframe\">\n",
       "  <thead>\n",
       "    <tr style=\"text-align: right;\">\n",
       "      <th></th>\n",
       "      <th>wiremon</th>\n",
       "      <th>polview</th>\n",
       "      <th>carvalue</th>\n",
       "      <th>income</th>\n",
       "      <th>commute</th>\n",
       "      <th>jobcat</th>\n",
       "      <th>debtinc</th>\n",
       "      <th>tollmon</th>\n",
       "      <th>tenure</th>\n",
       "      <th>spousedcat</th>\n",
       "      <th>reside</th>\n",
       "      <th>othdebt</th>\n",
       "      <th>cars</th>\n",
       "      <th>cardmon</th>\n",
       "      <th>pets</th>\n",
       "      <th>equipmon</th>\n",
       "      <th>creddebt</th>\n",
       "      <th>total_spend</th>\n",
       "    </tr>\n",
       "  </thead>\n",
       "  <tbody>\n",
       "    <tr>\n",
       "      <th>0</th>\n",
       "      <td>0.00</td>\n",
       "      <td>6.0</td>\n",
       "      <td>14.3</td>\n",
       "      <td>31.0</td>\n",
       "      <td>8.0</td>\n",
       "      <td>1.0</td>\n",
       "      <td>11.1</td>\n",
       "      <td>29.0</td>\n",
       "      <td>5.0</td>\n",
       "      <td>-1.0</td>\n",
       "      <td>3.0</td>\n",
       "      <td>2.24</td>\n",
       "      <td>2.0</td>\n",
       "      <td>14.25</td>\n",
       "      <td>0.0</td>\n",
       "      <td>29.50</td>\n",
       "      <td>1.20</td>\n",
       "      <td>149.46</td>\n",
       "    </tr>\n",
       "    <tr>\n",
       "      <th>1</th>\n",
       "      <td>45.65</td>\n",
       "      <td>4.0</td>\n",
       "      <td>6.8</td>\n",
       "      <td>15.0</td>\n",
       "      <td>1.0</td>\n",
       "      <td>2.0</td>\n",
       "      <td>18.6</td>\n",
       "      <td>0.0</td>\n",
       "      <td>39.0</td>\n",
       "      <td>-1.0</td>\n",
       "      <td>2.0</td>\n",
       "      <td>1.57</td>\n",
       "      <td>2.0</td>\n",
       "      <td>16.00</td>\n",
       "      <td>6.0</td>\n",
       "      <td>54.85</td>\n",
       "      <td>1.22</td>\n",
       "      <td>77.54</td>\n",
       "    </tr>\n",
       "    <tr>\n",
       "      <th>2</th>\n",
       "      <td>0.00</td>\n",
       "      <td>5.0</td>\n",
       "      <td>18.8</td>\n",
       "      <td>35.0</td>\n",
       "      <td>4.0</td>\n",
       "      <td>2.0</td>\n",
       "      <td>9.9</td>\n",
       "      <td>0.0</td>\n",
       "      <td>65.0</td>\n",
       "      <td>2.0</td>\n",
       "      <td>3.0</td>\n",
       "      <td>2.54</td>\n",
       "      <td>3.0</td>\n",
       "      <td>23.00</td>\n",
       "      <td>3.0</td>\n",
       "      <td>0.00</td>\n",
       "      <td>0.93</td>\n",
       "      <td>359.97</td>\n",
       "    </tr>\n",
       "    <tr>\n",
       "      <th>3</th>\n",
       "      <td>0.00</td>\n",
       "      <td>3.0</td>\n",
       "      <td>8.7</td>\n",
       "      <td>20.0</td>\n",
       "      <td>1.0</td>\n",
       "      <td>2.0</td>\n",
       "      <td>5.7</td>\n",
       "      <td>0.0</td>\n",
       "      <td>36.0</td>\n",
       "      <td>4.0</td>\n",
       "      <td>5.0</td>\n",
       "      <td>1.12</td>\n",
       "      <td>3.0</td>\n",
       "      <td>21.00</td>\n",
       "      <td>0.0</td>\n",
       "      <td>0.00</td>\n",
       "      <td>0.02</td>\n",
       "      <td>359.41</td>\n",
       "    </tr>\n",
       "    <tr>\n",
       "      <th>4</th>\n",
       "      <td>19.05</td>\n",
       "      <td>4.0</td>\n",
       "      <td>10.6</td>\n",
       "      <td>23.0</td>\n",
       "      <td>6.0</td>\n",
       "      <td>2.0</td>\n",
       "      <td>1.7</td>\n",
       "      <td>16.5</td>\n",
       "      <td>21.0</td>\n",
       "      <td>2.0</td>\n",
       "      <td>4.0</td>\n",
       "      <td>0.18</td>\n",
       "      <td>1.0</td>\n",
       "      <td>17.25</td>\n",
       "      <td>0.0</td>\n",
       "      <td>0.00</td>\n",
       "      <td>0.21</td>\n",
       "      <td>507.83</td>\n",
       "    </tr>\n",
       "    <tr>\n",
       "      <th>...</th>\n",
       "      <td>...</td>\n",
       "      <td>...</td>\n",
       "      <td>...</td>\n",
       "      <td>...</td>\n",
       "      <td>...</td>\n",
       "      <td>...</td>\n",
       "      <td>...</td>\n",
       "      <td>...</td>\n",
       "      <td>...</td>\n",
       "      <td>...</td>\n",
       "      <td>...</td>\n",
       "      <td>...</td>\n",
       "      <td>...</td>\n",
       "      <td>...</td>\n",
       "      <td>...</td>\n",
       "      <td>...</td>\n",
       "      <td>...</td>\n",
       "      <td>...</td>\n",
       "    </tr>\n",
       "    <tr>\n",
       "      <th>4995</th>\n",
       "      <td>0.00</td>\n",
       "      <td>4.0</td>\n",
       "      <td>64.5</td>\n",
       "      <td>196.0</td>\n",
       "      <td>5.0</td>\n",
       "      <td>1.0</td>\n",
       "      <td>8.0</td>\n",
       "      <td>0.0</td>\n",
       "      <td>69.0</td>\n",
       "      <td>-1.0</td>\n",
       "      <td>1.0</td>\n",
       "      <td>7.75</td>\n",
       "      <td>1.0</td>\n",
       "      <td>21.75</td>\n",
       "      <td>4.0</td>\n",
       "      <td>0.00</td>\n",
       "      <td>7.93</td>\n",
       "      <td>1425.67</td>\n",
       "    </tr>\n",
       "    <tr>\n",
       "      <th>4996</th>\n",
       "      <td>27.90</td>\n",
       "      <td>4.0</td>\n",
       "      <td>40.0</td>\n",
       "      <td>83.0</td>\n",
       "      <td>4.0</td>\n",
       "      <td>1.0</td>\n",
       "      <td>15.0</td>\n",
       "      <td>36.5</td>\n",
       "      <td>30.0</td>\n",
       "      <td>-1.0</td>\n",
       "      <td>1.0</td>\n",
       "      <td>9.11</td>\n",
       "      <td>2.0</td>\n",
       "      <td>26.25</td>\n",
       "      <td>1.0</td>\n",
       "      <td>0.00</td>\n",
       "      <td>3.34</td>\n",
       "      <td>366.35</td>\n",
       "    </tr>\n",
       "    <tr>\n",
       "      <th>4997</th>\n",
       "      <td>0.00</td>\n",
       "      <td>4.0</td>\n",
       "      <td>53.6</td>\n",
       "      <td>108.0</td>\n",
       "      <td>1.0</td>\n",
       "      <td>1.0</td>\n",
       "      <td>10.8</td>\n",
       "      <td>44.0</td>\n",
       "      <td>72.0</td>\n",
       "      <td>-1.0</td>\n",
       "      <td>1.0</td>\n",
       "      <td>8.11</td>\n",
       "      <td>3.0</td>\n",
       "      <td>15.25</td>\n",
       "      <td>0.0</td>\n",
       "      <td>0.00</td>\n",
       "      <td>3.56</td>\n",
       "      <td>1527.75</td>\n",
       "    </tr>\n",
       "    <tr>\n",
       "      <th>4998</th>\n",
       "      <td>0.00</td>\n",
       "      <td>2.0</td>\n",
       "      <td>96.0</td>\n",
       "      <td>189.0</td>\n",
       "      <td>1.0</td>\n",
       "      <td>2.0</td>\n",
       "      <td>10.8</td>\n",
       "      <td>0.0</td>\n",
       "      <td>37.0</td>\n",
       "      <td>3.0</td>\n",
       "      <td>4.0</td>\n",
       "      <td>15.39</td>\n",
       "      <td>2.0</td>\n",
       "      <td>9.50</td>\n",
       "      <td>0.0</td>\n",
       "      <td>29.55</td>\n",
       "      <td>5.02</td>\n",
       "      <td>752.95</td>\n",
       "    </tr>\n",
       "    <tr>\n",
       "      <th>4999</th>\n",
       "      <td>0.00</td>\n",
       "      <td>2.0</td>\n",
       "      <td>49.3</td>\n",
       "      <td>77.0</td>\n",
       "      <td>4.0</td>\n",
       "      <td>5.0</td>\n",
       "      <td>6.2</td>\n",
       "      <td>0.0</td>\n",
       "      <td>25.0</td>\n",
       "      <td>2.0</td>\n",
       "      <td>2.0</td>\n",
       "      <td>2.51</td>\n",
       "      <td>2.0</td>\n",
       "      <td>11.50</td>\n",
       "      <td>9.0</td>\n",
       "      <td>0.00</td>\n",
       "      <td>2.27</td>\n",
       "      <td>407.86</td>\n",
       "    </tr>\n",
       "  </tbody>\n",
       "</table>\n",
       "<p>5000 rows × 18 columns</p>\n",
       "</div>"
      ],
      "text/plain": [
       "      wiremon  polview  carvalue  income  commute  jobcat  debtinc  tollmon  \\\n",
       "0        0.00      6.0      14.3    31.0      8.0     1.0     11.1     29.0   \n",
       "1       45.65      4.0       6.8    15.0      1.0     2.0     18.6      0.0   \n",
       "2        0.00      5.0      18.8    35.0      4.0     2.0      9.9      0.0   \n",
       "3        0.00      3.0       8.7    20.0      1.0     2.0      5.7      0.0   \n",
       "4       19.05      4.0      10.6    23.0      6.0     2.0      1.7     16.5   \n",
       "...       ...      ...       ...     ...      ...     ...      ...      ...   \n",
       "4995     0.00      4.0      64.5   196.0      5.0     1.0      8.0      0.0   \n",
       "4996    27.90      4.0      40.0    83.0      4.0     1.0     15.0     36.5   \n",
       "4997     0.00      4.0      53.6   108.0      1.0     1.0     10.8     44.0   \n",
       "4998     0.00      2.0      96.0   189.0      1.0     2.0     10.8      0.0   \n",
       "4999     0.00      2.0      49.3    77.0      4.0     5.0      6.2      0.0   \n",
       "\n",
       "      tenure  spousedcat  reside  othdebt  cars  cardmon  pets  equipmon  \\\n",
       "0        5.0        -1.0     3.0     2.24   2.0    14.25   0.0     29.50   \n",
       "1       39.0        -1.0     2.0     1.57   2.0    16.00   6.0     54.85   \n",
       "2       65.0         2.0     3.0     2.54   3.0    23.00   3.0      0.00   \n",
       "3       36.0         4.0     5.0     1.12   3.0    21.00   0.0      0.00   \n",
       "4       21.0         2.0     4.0     0.18   1.0    17.25   0.0      0.00   \n",
       "...      ...         ...     ...      ...   ...      ...   ...       ...   \n",
       "4995    69.0        -1.0     1.0     7.75   1.0    21.75   4.0      0.00   \n",
       "4996    30.0        -1.0     1.0     9.11   2.0    26.25   1.0      0.00   \n",
       "4997    72.0        -1.0     1.0     8.11   3.0    15.25   0.0      0.00   \n",
       "4998    37.0         3.0     4.0    15.39   2.0     9.50   0.0     29.55   \n",
       "4999    25.0         2.0     2.0     2.51   2.0    11.50   9.0      0.00   \n",
       "\n",
       "      creddebt  total_spend  \n",
       "0         1.20       149.46  \n",
       "1         1.22        77.54  \n",
       "2         0.93       359.97  \n",
       "3         0.02       359.41  \n",
       "4         0.21       507.83  \n",
       "...        ...          ...  \n",
       "4995      7.93      1425.67  \n",
       "4996      3.34       366.35  \n",
       "4997      3.56      1527.75  \n",
       "4998      5.02       752.95  \n",
       "4999      2.27       407.86  \n",
       "\n",
       "[5000 rows x 18 columns]"
      ]
     },
     "execution_count": 64,
     "metadata": {},
     "output_type": "execute_result"
    }
   ],
   "source": [
    "df_dis"
   ]
  },
  {
   "cell_type": "code",
   "execution_count": 65,
   "metadata": {},
   "outputs": [],
   "source": [
    "from matplotlib import pyplot as plt\n",
    "import seaborn as sns"
   ]
  },
  {
   "cell_type": "code",
   "execution_count": 66,
   "metadata": {},
   "outputs": [
    {
     "data": {
      "text/plain": [
       "<matplotlib.axes._subplots.AxesSubplot at 0x214e30c7688>"
      ]
     },
     "execution_count": 66,
     "metadata": {},
     "output_type": "execute_result"
    },
    {
     "data": {
      "image/png": "[encoded data removed]",
      "text/plain": [
       "<Figure size 720x360 with 1 Axes>"
      ]
     },
     "metadata": {
      "needs_background": "light"
     },
     "output_type": "display_data"
    }
   ],
   "source": [
    "sns.boxplot(x=df_dis['debtinc'],data=df_dis)"
   ]
  },
  {
   "cell_type": "raw",
   "metadata": {},
   "source": [
    "1.finding right way for outlier treatment \n",
    "2.dealing with null values\n",
    "3.separate way for extreme outliers"
   ]
  },
  {
   "cell_type": "code",
   "execution_count": 67,
   "metadata": {},
   "outputs": [],
   "source": [
    "def outlier_miss_treat(x):\n",
    "    x = x.clip(lower=x.quantile(0.05),upper=x.quantile(0.95))\n",
    "    return x"
   ]
  },
  {
   "cell_type": "code",
   "execution_count": 68,
   "metadata": {},
   "outputs": [],
   "source": [
    "df_dis=df_dis.apply(outlier_miss_treat)"
   ]
  },
  {
   "cell_type": "code",
   "execution_count": 69,
   "metadata": {},
   "outputs": [],
   "source": [
    "df_dis['total_spend']=ndf['trans_spend']"
   ]
  },
  {
   "cell_type": "code",
   "execution_count": 70,
   "metadata": {},
   "outputs": [],
   "source": [
    "cdf=pd.concat([df_dis,df_con],axis=1)"
   ]
  },
  {
   "cell_type": "code",
   "execution_count": 71,
   "metadata": {},
   "outputs": [],
   "source": [
    "cdf=cdf.apply(outlier_miss_treat)"
   ]
  },
  {
   "cell_type": "code",
   "execution_count": 72,
   "metadata": {},
   "outputs": [],
   "source": [
    "eqn='total_spend~active+carbuy+carcatvalue+card+card2benefit+card2fee+cardfee+carown+carvalue+churn+creddebt+debtinc+default+edcat+empcat+gender+inccat+internet+othdebt+owncd+owndvd+ownpda+owntv+ownvcr+pets+polcontrib+polparty+reason+response_01+response_02+response_03+retire+telecommute+tenure+union+wiremon'"
   ]
  },
  {
   "cell_type": "markdown",
   "metadata": {},
   "source": [
    "### model using lasso"
   ]
  },
  {
   "cell_type": "code",
   "execution_count": 73,
   "metadata": {},
   "outputs": [],
   "source": [
    "lasso_eqn='total_spend~income+card+cardmon'"
   ]
  },
  {
   "cell_type": "code",
   "execution_count": 74,
   "metadata": {},
   "outputs": [
    {
     "name": "stdout",
     "output_type": "stream",
     "text": [
      "                            OLS Regression Results                            \n",
      "==============================================================================\n",
      "Dep. Variable:            total_spend   R-squared:                       0.216\n",
      "Model:                            OLS   Adj. R-squared:                  0.216\n",
      "Method:                 Least Squares   F-statistic:                     459.1\n",
      "Date:                Tue, 26 May 2020   Prob (F-statistic):          1.81e-263\n",
      "Time:                        20:45:31   Log-Likelihood:                -4336.3\n",
      "No. Observations:                5000   AIC:                             8681.\n",
      "Df Residuals:                    4996   BIC:                             8707.\n",
      "Df Model:                           3                                         \n",
      "Covariance Type:            nonrobust                                         \n",
      "==============================================================================\n",
      "                 coef    std err          t      P>|t|      [0.025      0.975]\n",
      "------------------------------------------------------------------------------\n",
      "Intercept      4.6257      0.025    187.496      0.000       4.577       4.674\n",
      "income         0.0070      0.000     31.212      0.000       0.007       0.007\n",
      "card          -0.1547      0.007    -21.138      0.000      -0.169      -0.140\n",
      "cardmon       -0.0019      0.001     -2.989      0.003      -0.003      -0.001\n",
      "==============================================================================\n",
      "Omnibus:                       83.659   Durbin-Watson:                   1.992\n",
      "Prob(Omnibus):                  0.000   Jarque-Bera (JB):               50.771\n",
      "Skew:                           0.083   Prob(JB):                     9.44e-12\n",
      "Kurtosis:                       2.535   Cond. No.                         200.\n",
      "==============================================================================\n",
      "\n",
      "Warnings:\n",
      "[1] Standard Errors assume that the covariance matrix of the errors is correctly specified.\n"
     ]
    }
   ],
   "source": [
    "clean= smf.ols(lasso_eqn, data=cdf).fit()\n",
    "print(clean.summary())"
   ]
  },
  {
   "cell_type": "code",
   "execution_count": 75,
   "metadata": {},
   "outputs": [],
   "source": [
    "#after standard data cleaning income, card,cardmon were able to explain 21% of variance in data"
   ]
  },
  {
   "cell_type": "markdown",
   "metadata": {},
   "source": [
    "## model using f1"
   ]
  },
  {
   "cell_type": "code",
   "execution_count": 76,
   "metadata": {},
   "outputs": [
    {
     "name": "stdout",
     "output_type": "stream",
     "text": [
      "['inccat', 'income', 'carvalue', 'othdebt', 'card', 'creddebt', 'carcatvalue', 'retire', 'owndvd', 'ownvcr', 'owncd', 'empcat', 'wireten', 'edcat', 'wiremon']\n"
     ]
    }
   ],
   "source": [
    "print(f1)"
   ]
  },
  {
   "cell_type": "code",
   "execution_count": 79,
   "metadata": {},
   "outputs": [],
   "source": [
    "f1='total_spend~inccat+income+card+retire'"
   ]
  },
  {
   "cell_type": "code",
   "execution_count": 80,
   "metadata": {},
   "outputs": [
    {
     "name": "stdout",
     "output_type": "stream",
     "text": [
      "                            OLS Regression Results                            \n",
      "==============================================================================\n",
      "Dep. Variable:            total_spend   R-squared:                       0.226\n",
      "Model:                            OLS   Adj. R-squared:                  0.225\n",
      "Method:                 Least Squares   F-statistic:                     364.2\n",
      "Date:                Tue, 26 May 2020   Prob (F-statistic):          1.45e-275\n",
      "Time:                        20:46:13   Log-Likelihood:                -4305.2\n",
      "No. Observations:                5000   AIC:                             8620.\n",
      "Df Residuals:                    4995   BIC:                             8653.\n",
      "Df Model:                           4                                         \n",
      "Covariance Type:            nonrobust                                         \n",
      "==============================================================================\n",
      "                 coef    std err          t      P>|t|      [0.025      0.975]\n",
      "------------------------------------------------------------------------------\n",
      "Intercept      4.5534      0.031    145.103      0.000       4.492       4.615\n",
      "inccat         0.1182      0.023      5.053      0.000       0.072       0.164\n",
      "income         0.0028      0.001      3.587      0.000       0.001       0.004\n",
      "card          -0.1549      0.007    -21.302      0.000      -0.169      -0.141\n",
      "retire        -0.1410      0.024     -5.822      0.000      -0.189      -0.094\n",
      "==============================================================================\n",
      "Omnibus:                       80.239   Durbin-Watson:                   1.994\n",
      "Prob(Omnibus):                  0.000   Jarque-Bera (JB):               48.020\n",
      "Skew:                           0.064   Prob(JB):                     3.74e-11\n",
      "Kurtosis:                       2.537   Cond. No.                         288.\n",
      "==============================================================================\n",
      "\n",
      "Warnings:\n",
      "[1] Standard Errors assume that the covariance matrix of the errors is correctly specified.\n"
     ]
    }
   ],
   "source": [
    "clean= smf.ols(f1, data=cdf).fit()\n",
    "print(clean.summary())"
   ]
  },
  {
   "cell_type": "markdown",
   "metadata": {},
   "source": [
    "## model using f1 and lasso"
   ]
  },
  {
   "cell_type": "code",
   "execution_count": 81,
   "metadata": {},
   "outputs": [],
   "source": [
    "u='total_spend~card+inccat+income+retire'"
   ]
  },
  {
   "cell_type": "code",
   "execution_count": 82,
   "metadata": {},
   "outputs": [
    {
     "name": "stdout",
     "output_type": "stream",
     "text": [
      "                            OLS Regression Results                            \n",
      "==============================================================================\n",
      "Dep. Variable:            total_spend   R-squared:                       0.226\n",
      "Model:                            OLS   Adj. R-squared:                  0.225\n",
      "Method:                 Least Squares   F-statistic:                     364.2\n",
      "Date:                Tue, 26 May 2020   Prob (F-statistic):          1.45e-275\n",
      "Time:                        20:46:14   Log-Likelihood:                -4305.2\n",
      "No. Observations:                5000   AIC:                             8620.\n",
      "Df Residuals:                    4995   BIC:                             8653.\n",
      "Df Model:                           4                                         \n",
      "Covariance Type:            nonrobust                                         \n",
      "==============================================================================\n",
      "                 coef    std err          t      P>|t|      [0.025      0.975]\n",
      "------------------------------------------------------------------------------\n",
      "Intercept      4.5534      0.031    145.103      0.000       4.492       4.615\n",
      "card          -0.1549      0.007    -21.302      0.000      -0.169      -0.141\n",
      "inccat         0.1182      0.023      5.053      0.000       0.072       0.164\n",
      "income         0.0028      0.001      3.587      0.000       0.001       0.004\n",
      "retire        -0.1410      0.024     -5.822      0.000      -0.189      -0.094\n",
      "==============================================================================\n",
      "Omnibus:                       80.239   Durbin-Watson:                   1.994\n",
      "Prob(Omnibus):                  0.000   Jarque-Bera (JB):               48.020\n",
      "Skew:                           0.064   Prob(JB):                     3.74e-11\n",
      "Kurtosis:                       2.537   Cond. No.                         288.\n",
      "==============================================================================\n",
      "\n",
      "Warnings:\n",
      "[1] Standard Errors assume that the covariance matrix of the errors is correctly specified.\n"
     ]
    }
   ],
   "source": [
    "clean= smf.ols(u, data=cdf).fit()\n",
    "print(clean.summary())"
   ]
  },
  {
   "cell_type": "markdown",
   "metadata": {},
   "source": [
    "### accuracy increased by 1% with two new varibles inccat,retire"
   ]
  },
  {
   "cell_type": "markdown",
   "metadata": {},
   "source": [
    "## model using f regression variables"
   ]
  },
  {
   "cell_type": "code",
   "execution_count": 83,
   "metadata": {},
   "outputs": [
    {
     "name": "stdout",
     "output_type": "stream",
     "text": [
      "['carcatvalue', 'card2benefit', 'carown', 'carvalue', 'churn', 'creddebt', 'debtinc', 'default', 'edcat', 'internet', 'othdebt', 'ownpda', 'reason', 'response_02', 'tenure']\n"
     ]
    }
   ],
   "source": [
    "print(f)"
   ]
  },
  {
   "cell_type": "code",
   "execution_count": 84,
   "metadata": {},
   "outputs": [],
   "source": [
    "w='total_spend~carcatvalue+card2benefit+carown+carvalue+churn+creddebt+debtinc+default+edcat+internet+othdebt+ownpda+reason+response_02+tenure'"
   ]
  },
  {
   "cell_type": "code",
   "execution_count": 85,
   "metadata": {},
   "outputs": [
    {
     "name": "stdout",
     "output_type": "stream",
     "text": [
      "                            OLS Regression Results                            \n",
      "==============================================================================\n",
      "Dep. Variable:            total_spend   R-squared:                       0.138\n",
      "Model:                            OLS   Adj. R-squared:                  0.136\n",
      "Method:                 Least Squares   F-statistic:                     53.37\n",
      "Date:                Tue, 26 May 2020   Prob (F-statistic):          1.06e-148\n",
      "Time:                        20:46:14   Log-Likelihood:                -4572.6\n",
      "No. Observations:                5000   AIC:                             9177.\n",
      "Df Residuals:                    4984   BIC:                             9282.\n",
      "Df Model:                          15                                         \n",
      "Covariance Type:            nonrobust                                         \n",
      "================================================================================\n",
      "                   coef    std err          t      P>|t|      [0.025      0.975]\n",
      "--------------------------------------------------------------------------------\n",
      "Intercept        4.4542      0.046     96.877      0.000       4.364       4.544\n",
      "carcatvalue     -0.0672      0.022     -3.035      0.002      -0.111      -0.024\n",
      "card2benefit     0.0017      0.008      0.219      0.826      -0.013       0.017\n",
      "carown           0.0049      0.021      0.236      0.813      -0.036       0.045\n",
      "carvalue         0.0071      0.001      5.425      0.000       0.005       0.010\n",
      "churn            0.0255      0.022      1.139      0.255      -0.018       0.069\n",
      "creddebt         0.0508      0.008      6.643      0.000       0.036       0.066\n",
      "debtinc         -0.0204      0.002     -8.402      0.000      -0.025      -0.016\n",
      "default          0.0064      0.023      0.281      0.779      -0.038       0.051\n",
      "edcat            0.0024      0.008      0.293      0.770      -0.014       0.019\n",
      "internet         0.0165      0.007      2.373      0.018       0.003       0.030\n",
      "othdebt          0.0466      0.005      9.036      0.000       0.036       0.057\n",
      "ownpda          -0.0029      0.023     -0.126      0.900      -0.049       0.043\n",
      "reason          -0.0053      0.003     -1.751      0.080      -0.011       0.001\n",
      "response_02      0.0148      0.026      0.577      0.564      -0.035       0.065\n",
      "tenure          -0.0003      0.000     -0.658      0.510      -0.001       0.001\n",
      "==============================================================================\n",
      "Omnibus:                      128.137   Durbin-Watson:                   1.985\n",
      "Prob(Omnibus):                  0.000   Jarque-Bera (JB):               72.431\n",
      "Skew:                           0.122   Prob(JB):                     1.87e-16\n",
      "Kurtosis:                       2.463   Cond. No.                         281.\n",
      "==============================================================================\n",
      "\n",
      "Warnings:\n",
      "[1] Standard Errors assume that the covariance matrix of the errors is correctly specified.\n"
     ]
    }
   ],
   "source": [
    "clean= smf.ols(w, data=cdf).fit()\n",
    "print(clean.summary())"
   ]
  },
  {
   "cell_type": "markdown",
   "metadata": {},
   "source": [
    "### f regression is giving very bad accuracy"
   ]
  },
  {
   "cell_type": "code",
   "execution_count": 86,
   "metadata": {},
   "outputs": [
    {
     "name": "stdout",
     "output_type": "stream",
     "text": [
      "['response_01', 'response_03', 'response_02', 'union', 'card2fee', 'cardfee', 'telecommute', 'polcontrib', 'polparty', 'carbuy', 'churn', 'pets', 'default', 'active', 'gender']\n"
     ]
    }
   ],
   "source": [
    "print(vif)"
   ]
  },
  {
   "cell_type": "code",
   "execution_count": 87,
   "metadata": {},
   "outputs": [],
   "source": [
    "v1='total_spend~response_01+response_03+response_02+union+card2fee+cardfee+telecommute+polcontrib+polparty+carbuy+churn+pets+default+active+gender'"
   ]
  },
  {
   "cell_type": "code",
   "execution_count": 88,
   "metadata": {},
   "outputs": [
    {
     "name": "stdout",
     "output_type": "stream",
     "text": [
      "                            OLS Regression Results                            \n",
      "==============================================================================\n",
      "Dep. Variable:            total_spend   R-squared:                       0.012\n",
      "Model:                            OLS   Adj. R-squared:                  0.009\n",
      "Method:                 Least Squares   F-statistic:                     4.174\n",
      "Date:                Tue, 26 May 2020   Prob (F-statistic):           1.01e-07\n",
      "Time:                        20:46:15   Log-Likelihood:                -4913.8\n",
      "No. Observations:                5000   AIC:                             9860.\n",
      "Df Residuals:                    4984   BIC:                             9964.\n",
      "Df Model:                          15                                         \n",
      "Covariance Type:            nonrobust                                         \n",
      "===============================================================================\n",
      "                  coef    std err          t      P>|t|      [0.025      0.975]\n",
      "-------------------------------------------------------------------------------\n",
      "Intercept       4.5599      0.024    193.145      0.000       4.514       4.606\n",
      "response_01    -0.0105      0.033     -0.316      0.752      -0.076       0.055\n",
      "response_03     0.1229      0.030      4.061      0.000       0.064       0.182\n",
      "response_02     0.0570      0.027      2.086      0.037       0.003       0.111\n",
      "union           0.0335      0.026      1.310      0.190      -0.017       0.084\n",
      "card2fee       -0.0403      0.024     -1.714      0.087      -0.086       0.006\n",
      "cardfee        -0.0068      0.023     -0.291      0.771      -0.053       0.039\n",
      "telecommute     0.0024      0.023      0.104      0.917      -0.044       0.048\n",
      "polcontrib      0.0399      0.022      1.844      0.065      -0.003       0.082\n",
      "polparty       -0.0015      0.019     -0.081      0.935      -0.039       0.036\n",
      "carbuy          0.0220      0.019      1.152      0.249      -0.015       0.059\n",
      "churn           0.0131      0.021      0.609      0.543      -0.029       0.055\n",
      "pets           -0.0008      0.003     -0.287      0.774      -0.007       0.005\n",
      "default         0.0154      0.022      0.701      0.484      -0.028       0.059\n",
      "active         -0.0120      0.019     -0.650      0.516      -0.048       0.024\n",
      "gender         -0.0983      0.018     -5.357      0.000      -0.134      -0.062\n",
      "==============================================================================\n",
      "Omnibus:                      245.994   Durbin-Watson:                   1.984\n",
      "Prob(Omnibus):                  0.000   Jarque-Bera (JB):              117.997\n",
      "Skew:                           0.177   Prob(JB):                     2.38e-26\n",
      "Kurtosis:                       2.336   Cond. No.                         16.4\n",
      "==============================================================================\n",
      "\n",
      "Warnings:\n",
      "[1] Standard Errors assume that the covariance matrix of the errors is correctly specified.\n"
     ]
    }
   ],
   "source": [
    "clean= smf.ols(v1, data=cdf).fit()\n",
    "print(clean.summary())"
   ]
  },
  {
   "cell_type": "markdown",
   "metadata": {},
   "source": [
    "#### vif is also giving very bad accuracy"
   ]
  },
  {
   "cell_type": "markdown",
   "metadata": {},
   "source": [
    "total_spend~card+inccat+income+retire'"
   ]
  },
  {
   "cell_type": "code",
   "execution_count": 89,
   "metadata": {},
   "outputs": [],
   "source": [
    "imp=cdf.loc[:,['card','inccat','income','retire']]"
   ]
  },
  {
   "cell_type": "code",
   "execution_count": 90,
   "metadata": {},
   "outputs": [
    {
     "data": {
      "text/plain": [
       "0        31.0\n",
       "1        15.0\n",
       "2        35.0\n",
       "3        20.0\n",
       "4        23.0\n",
       "        ...  \n",
       "4995    147.0\n",
       "4996     83.0\n",
       "4997    108.0\n",
       "4998    147.0\n",
       "4999     77.0\n",
       "Name: income, Length: 5000, dtype: float64"
      ]
     },
     "execution_count": 90,
     "metadata": {},
     "output_type": "execute_result"
    }
   ],
   "source": [
    "imp.income"
   ]
  },
  {
   "cell_type": "code",
   "execution_count": 91,
   "metadata": {},
   "outputs": [
    {
     "data": {
      "text/plain": [
       "<matplotlib.axes._subplots.AxesSubplot at 0x214e32342c8>"
      ]
     },
     "execution_count": 91,
     "metadata": {},
     "output_type": "execute_result"
    },
    {
     "data": {
      "image/png": "[encoded data removed]",
      "text/plain": [
       "<Figure size 720x360 with 1 Axes>"
      ]
     },
     "metadata": {
      "needs_background": "light"
     },
     "output_type": "display_data"
    }
   ],
   "source": [
    "sns.distplot(imp.income)"
   ]
  },
  {
   "cell_type": "code",
   "execution_count": 92,
   "metadata": {},
   "outputs": [
    {
     "data": {
      "text/plain": [
       "<matplotlib.axes._subplots.AxesSubplot at 0x214e3224788>"
      ]
     },
     "execution_count": 92,
     "metadata": {},
     "output_type": "execute_result"
    },
    {
     "data": {
      "image/png": "[encoded data removed]",
      "text/plain": [
       "<Figure size 720x360 with 1 Axes>"
      ]
     },
     "metadata": {
      "needs_background": "light"
     },
     "output_type": "display_data"
    }
   ],
   "source": [
    "sns.boxplot(x=imp.income,data=imp)"
   ]
  },
  {
   "cell_type": "code",
   "execution_count": 93,
   "metadata": {},
   "outputs": [
    {
     "data": {
      "text/plain": [
       "<matplotlib.axes._subplots.AxesSubplot at 0x214e32f05c8>"
      ]
     },
     "execution_count": 93,
     "metadata": {},
     "output_type": "execute_result"
    },
    {
     "data": {
      "image/png": "[encoded data removed]",
      "text/plain": [
       "<Figure size 720x360 with 1 Axes>"
      ]
     },
     "metadata": {
      "needs_background": "light"
     },
     "output_type": "display_data"
    }
   ],
   "source": [
    "sns.boxplot(x=imp.income.clip(upper=imp.income.quantile(0.90)),data=imp)"
   ]
  },
  {
   "cell_type": "code",
   "execution_count": 94,
   "metadata": {},
   "outputs": [],
   "source": [
    "imp['t_income']=imp.income.clip(upper=imp.income.quantile(0.90))"
   ]
  },
  {
   "cell_type": "code",
   "execution_count": 95,
   "metadata": {},
   "outputs": [],
   "source": [
    "cdf['t_income']=imp.income.clip(upper=imp.income.quantile(0.90))"
   ]
  },
  {
   "cell_type": "code",
   "execution_count": 96,
   "metadata": {},
   "outputs": [],
   "source": [
    "f2='total_spend~card+inccat+t_income+retire'"
   ]
  },
  {
   "cell_type": "code",
   "execution_count": 97,
   "metadata": {},
   "outputs": [
    {
     "name": "stdout",
     "output_type": "stream",
     "text": [
      "                            OLS Regression Results                            \n",
      "==============================================================================\n",
      "Dep. Variable:            total_spend   R-squared:                       0.226\n",
      "Model:                            OLS   Adj. R-squared:                  0.225\n",
      "Method:                 Least Squares   F-statistic:                     364.2\n",
      "Date:                Tue, 26 May 2020   Prob (F-statistic):          1.45e-275\n",
      "Time:                        20:46:16   Log-Likelihood:                -4305.2\n",
      "No. Observations:                5000   AIC:                             8620.\n",
      "Df Residuals:                    4995   BIC:                             8653.\n",
      "Df Model:                           4                                         \n",
      "Covariance Type:            nonrobust                                         \n",
      "==============================================================================\n",
      "                 coef    std err          t      P>|t|      [0.025      0.975]\n",
      "------------------------------------------------------------------------------\n",
      "Intercept      4.5534      0.031    145.103      0.000       4.492       4.615\n",
      "inccat         0.1182      0.023      5.053      0.000       0.072       0.164\n",
      "income         0.0028      0.001      3.587      0.000       0.001       0.004\n",
      "card          -0.1549      0.007    -21.302      0.000      -0.169      -0.141\n",
      "retire        -0.1410      0.024     -5.822      0.000      -0.189      -0.094\n",
      "==============================================================================\n",
      "Omnibus:                       80.239   Durbin-Watson:                   1.994\n",
      "Prob(Omnibus):                  0.000   Jarque-Bera (JB):               48.020\n",
      "Skew:                           0.064   Prob(JB):                     3.74e-11\n",
      "Kurtosis:                       2.537   Cond. No.                         288.\n",
      "==============================================================================\n",
      "\n",
      "Warnings:\n",
      "[1] Standard Errors assume that the covariance matrix of the errors is correctly specified.\n"
     ]
    }
   ],
   "source": [
    "clean= smf.ols(f1, data=cdf).fit()\n",
    "print(clean.summary())"
   ]
  },
  {
   "cell_type": "code",
   "execution_count": 108,
   "metadata": {},
   "outputs": [],
   "source": [
    "l=[]\n",
    "for e in df_dis.columns:\n",
    "    if df_dis[e].nunique(dropna=True)>10:\n",
    "        l.append(e)\n",
    "    "
   ]
  },
  {
   "cell_type": "code",
   "execution_count": 115,
   "metadata": {},
   "outputs": [],
   "source": [
    "max_threshold=df_dis[l].income.quantile(0.95)"
   ]
  },
  {
   "cell_type": "code",
   "execution_count": 119,
   "metadata": {},
   "outputs": [
    {
     "data": {
      "text/html": [
       "<div>\n",
       "<style scoped>\n",
       "    .dataframe tbody tr th:only-of-type {\n",
       "        vertical-align: middle;\n",
       "    }\n",
       "\n",
       "    .dataframe tbody tr th {\n",
       "        vertical-align: top;\n",
       "    }\n",
       "\n",
       "    .dataframe thead th {\n",
       "        text-align: right;\n",
       "    }\n",
       "</style>\n",
       "<table border=\"1\" class=\"dataframe\">\n",
       "  <thead>\n",
       "    <tr style=\"text-align: right;\">\n",
       "      <th></th>\n",
       "      <th>wiremon</th>\n",
       "      <th>polview</th>\n",
       "      <th>carvalue</th>\n",
       "      <th>income</th>\n",
       "      <th>commute</th>\n",
       "      <th>jobcat</th>\n",
       "      <th>debtinc</th>\n",
       "      <th>tollmon</th>\n",
       "      <th>tenure</th>\n",
       "      <th>spousedcat</th>\n",
       "      <th>reside</th>\n",
       "      <th>othdebt</th>\n",
       "      <th>cars</th>\n",
       "      <th>cardmon</th>\n",
       "      <th>pets</th>\n",
       "      <th>equipmon</th>\n",
       "      <th>creddebt</th>\n",
       "      <th>total_spend</th>\n",
       "    </tr>\n",
       "  </thead>\n",
       "  <tbody>\n",
       "  </tbody>\n",
       "</table>\n",
       "</div>"
      ],
      "text/plain": [
       "Empty DataFrame\n",
       "Columns: [wiremon, polview, carvalue, income, commute, jobcat, debtinc, tollmon, tenure, spousedcat, reside, othdebt, cars, cardmon, pets, equipmon, creddebt, total_spend]\n",
       "Index: []"
      ]
     },
     "execution_count": 119,
     "metadata": {},
     "output_type": "execute_result"
    }
   ],
   "source": [
    "df_dis[df_dis[l].income>max_threshold]"
   ]
  },
  {
   "cell_type": "code",
   "execution_count": 131,
   "metadata": {},
   "outputs": [
    {
     "data": {
      "text/html": [
       "<div>\n",
       "<style scoped>\n",
       "    .dataframe tbody tr th:only-of-type {\n",
       "        vertical-align: middle;\n",
       "    }\n",
       "\n",
       "    .dataframe tbody tr th {\n",
       "        vertical-align: top;\n",
       "    }\n",
       "\n",
       "    .dataframe thead th {\n",
       "        text-align: right;\n",
       "    }\n",
       "</style>\n",
       "<table border=\"1\" class=\"dataframe\">\n",
       "  <thead>\n",
       "    <tr style=\"text-align: right;\">\n",
       "      <th></th>\n",
       "      <th>wiremon</th>\n",
       "      <th>carvalue</th>\n",
       "      <th>income</th>\n",
       "      <th>debtinc</th>\n",
       "      <th>tollmon</th>\n",
       "      <th>tenure</th>\n",
       "      <th>othdebt</th>\n",
       "      <th>cardmon</th>\n",
       "      <th>pets</th>\n",
       "      <th>equipmon</th>\n",
       "      <th>creddebt</th>\n",
       "      <th>total_spend</th>\n",
       "    </tr>\n",
       "  </thead>\n",
       "  <tbody>\n",
       "    <tr>\n",
       "      <th>16</th>\n",
       "      <td>40.200</td>\n",
       "      <td>72.0</td>\n",
       "      <td>147.0</td>\n",
       "      <td>9.5</td>\n",
       "      <td>28.75</td>\n",
       "      <td>48.0</td>\n",
       "      <td>11.812</td>\n",
       "      <td>29.25</td>\n",
       "      <td>1.0</td>\n",
       "      <td>43.1500</td>\n",
       "      <td>1.8000</td>\n",
       "      <td>4.478189</td>\n",
       "    </tr>\n",
       "    <tr>\n",
       "      <th>17</th>\n",
       "      <td>0.000</td>\n",
       "      <td>72.0</td>\n",
       "      <td>147.0</td>\n",
       "      <td>10.7</td>\n",
       "      <td>43.50</td>\n",
       "      <td>70.0</td>\n",
       "      <td>11.812</td>\n",
       "      <td>19.75</td>\n",
       "      <td>0.0</td>\n",
       "      <td>0.0000</td>\n",
       "      <td>6.3715</td>\n",
       "      <td>5.997753</td>\n",
       "    </tr>\n",
       "    <tr>\n",
       "      <th>49</th>\n",
       "      <td>51.305</td>\n",
       "      <td>72.0</td>\n",
       "      <td>147.0</td>\n",
       "      <td>9.4</td>\n",
       "      <td>43.50</td>\n",
       "      <td>48.0</td>\n",
       "      <td>11.240</td>\n",
       "      <td>13.75</td>\n",
       "      <td>2.0</td>\n",
       "      <td>0.0000</td>\n",
       "      <td>6.3715</td>\n",
       "      <td>5.999919</td>\n",
       "    </tr>\n",
       "    <tr>\n",
       "      <th>83</th>\n",
       "      <td>0.000</td>\n",
       "      <td>72.0</td>\n",
       "      <td>147.0</td>\n",
       "      <td>11.7</td>\n",
       "      <td>43.50</td>\n",
       "      <td>72.0</td>\n",
       "      <td>11.812</td>\n",
       "      <td>24.25</td>\n",
       "      <td>0.0</td>\n",
       "      <td>0.0000</td>\n",
       "      <td>6.3715</td>\n",
       "      <td>5.486286</td>\n",
       "    </tr>\n",
       "    <tr>\n",
       "      <th>110</th>\n",
       "      <td>0.000</td>\n",
       "      <td>-1.0</td>\n",
       "      <td>147.0</td>\n",
       "      <td>2.6</td>\n",
       "      <td>43.50</td>\n",
       "      <td>71.0</td>\n",
       "      <td>4.460</td>\n",
       "      <td>12.00</td>\n",
       "      <td>2.0</td>\n",
       "      <td>0.0000</td>\n",
       "      <td>1.3700</td>\n",
       "      <td>5.408939</td>\n",
       "    </tr>\n",
       "    <tr>\n",
       "      <th>...</th>\n",
       "      <td>...</td>\n",
       "      <td>...</td>\n",
       "      <td>...</td>\n",
       "      <td>...</td>\n",
       "      <td>...</td>\n",
       "      <td>...</td>\n",
       "      <td>...</td>\n",
       "      <td>...</td>\n",
       "      <td>...</td>\n",
       "      <td>...</td>\n",
       "      <td>...</td>\n",
       "      <td>...</td>\n",
       "    </tr>\n",
       "    <tr>\n",
       "      <th>4937</th>\n",
       "      <td>0.000</td>\n",
       "      <td>72.0</td>\n",
       "      <td>147.0</td>\n",
       "      <td>22.2</td>\n",
       "      <td>26.50</td>\n",
       "      <td>34.0</td>\n",
       "      <td>11.812</td>\n",
       "      <td>10.00</td>\n",
       "      <td>0.0</td>\n",
       "      <td>0.0000</td>\n",
       "      <td>6.3715</td>\n",
       "      <td>4.593783</td>\n",
       "    </tr>\n",
       "    <tr>\n",
       "      <th>4949</th>\n",
       "      <td>33.150</td>\n",
       "      <td>72.0</td>\n",
       "      <td>147.0</td>\n",
       "      <td>5.2</td>\n",
       "      <td>0.00</td>\n",
       "      <td>50.0</td>\n",
       "      <td>11.812</td>\n",
       "      <td>0.00</td>\n",
       "      <td>7.0</td>\n",
       "      <td>48.1000</td>\n",
       "      <td>4.2200</td>\n",
       "      <td>5.469312</td>\n",
       "    </tr>\n",
       "    <tr>\n",
       "      <th>4959</th>\n",
       "      <td>51.305</td>\n",
       "      <td>72.0</td>\n",
       "      <td>147.0</td>\n",
       "      <td>11.7</td>\n",
       "      <td>24.25</td>\n",
       "      <td>71.0</td>\n",
       "      <td>11.812</td>\n",
       "      <td>42.00</td>\n",
       "      <td>1.0</td>\n",
       "      <td>49.0525</td>\n",
       "      <td>6.3715</td>\n",
       "      <td>5.000080</td>\n",
       "    </tr>\n",
       "    <tr>\n",
       "      <th>4995</th>\n",
       "      <td>0.000</td>\n",
       "      <td>64.5</td>\n",
       "      <td>147.0</td>\n",
       "      <td>8.0</td>\n",
       "      <td>0.00</td>\n",
       "      <td>69.0</td>\n",
       "      <td>7.750</td>\n",
       "      <td>21.75</td>\n",
       "      <td>4.0</td>\n",
       "      <td>0.0000</td>\n",
       "      <td>6.3715</td>\n",
       "      <td>6.144758</td>\n",
       "    </tr>\n",
       "    <tr>\n",
       "      <th>4998</th>\n",
       "      <td>0.000</td>\n",
       "      <td>72.0</td>\n",
       "      <td>147.0</td>\n",
       "      <td>10.8</td>\n",
       "      <td>0.00</td>\n",
       "      <td>37.0</td>\n",
       "      <td>11.812</td>\n",
       "      <td>9.50</td>\n",
       "      <td>0.0</td>\n",
       "      <td>29.5500</td>\n",
       "      <td>5.0200</td>\n",
       "      <td>5.238314</td>\n",
       "    </tr>\n",
       "  </tbody>\n",
       "</table>\n",
       "<p>253 rows × 12 columns</p>\n",
       "</div>"
      ],
      "text/plain": [
       "      wiremon  carvalue  income  debtinc  tollmon  tenure  othdebt  cardmon  \\\n",
       "16     40.200      72.0   147.0      9.5    28.75    48.0   11.812    29.25   \n",
       "17      0.000      72.0   147.0     10.7    43.50    70.0   11.812    19.75   \n",
       "49     51.305      72.0   147.0      9.4    43.50    48.0   11.240    13.75   \n",
       "83      0.000      72.0   147.0     11.7    43.50    72.0   11.812    24.25   \n",
       "110     0.000      -1.0   147.0      2.6    43.50    71.0    4.460    12.00   \n",
       "...       ...       ...     ...      ...      ...     ...      ...      ...   \n",
       "4937    0.000      72.0   147.0     22.2    26.50    34.0   11.812    10.00   \n",
       "4949   33.150      72.0   147.0      5.2     0.00    50.0   11.812     0.00   \n",
       "4959   51.305      72.0   147.0     11.7    24.25    71.0   11.812    42.00   \n",
       "4995    0.000      64.5   147.0      8.0     0.00    69.0    7.750    21.75   \n",
       "4998    0.000      72.0   147.0     10.8     0.00    37.0   11.812     9.50   \n",
       "\n",
       "      pets  equipmon  creddebt  total_spend  \n",
       "16     1.0   43.1500    1.8000     4.478189  \n",
       "17     0.0    0.0000    6.3715     5.997753  \n",
       "49     2.0    0.0000    6.3715     5.999919  \n",
       "83     0.0    0.0000    6.3715     5.486286  \n",
       "110    2.0    0.0000    1.3700     5.408939  \n",
       "...    ...       ...       ...          ...  \n",
       "4937   0.0    0.0000    6.3715     4.593783  \n",
       "4949   7.0   48.1000    4.2200     5.469312  \n",
       "4959   1.0   49.0525    6.3715     5.000080  \n",
       "4995   4.0    0.0000    6.3715     6.144758  \n",
       "4998   0.0   29.5500    5.0200     5.238314  \n",
       "\n",
       "[253 rows x 12 columns]"
      ]
     },
     "execution_count": 131,
     "metadata": {},
     "output_type": "execute_result"
    }
   ],
   "source": [
    "df_dis[l][df_dis[l]['income']>=df_dis[l]['income'].quantile(0.95)]"
   ]
  },
  {
   "cell_type": "code",
   "execution_count": null,
   "metadata": {},
   "outputs": [],
   "source": []
  }
 ],
 "metadata": {
  "kernelspec": {
   "display_name": "Python 3",
   "language": "python",
   "name": "python3"
  },
  "language_info": {
   "codemirror_mode": {
    "name": "ipython",
    "version": 3
   },
   "file_extension": ".py",
   "mimetype": "text/x-python",
   "name": "python",
   "nbconvert_exporter": "python",
   "pygments_lexer": "ipython3",
   "version": "3.7.6"
  }
 },
 "nbformat": 4,
 "nbformat_minor": 2
}
